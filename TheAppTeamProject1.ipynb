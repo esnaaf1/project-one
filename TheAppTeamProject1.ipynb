{
 "cells": [
  {
   "cell_type": "code",
   "execution_count": null,
   "metadata": {},
   "outputs": [],
   "source": [
    "#Imports packages\n",
    "import pandas as pd\n",
    "import numpy as np\n",
    "import matplotlib.pyplot as plt"
   ]
  },
  {
   "cell_type": "code",
   "execution_count": null,
   "metadata": {},
   "outputs": [],
   "source": [
    "#Reading CSV files\n",
    "google_apps = pd.read_csv(\"source/Google_Apps_Clean.csv\")\n",
    "google_app_reviews= pd.read_csv(\"source/googleplaystore_user_reviews.csv\")\n",
    "apple_apps= pd.read_csv(\"source/Apple_Apps_Clean.csv\")"
   ]
  },
  {
   "cell_type": "code",
   "execution_count": null,
   "metadata": {},
   "outputs": [],
   "source": [
    "#Barry start "
   ]
  },
  {
   "cell_type": "code",
   "execution_count": null,
   "metadata": {},
   "outputs": [],
   "source": [
    "#Barry end"
   ]
  },
  {
   "cell_type": "code",
   "execution_count": null,
   "metadata": {},
   "outputs": [],
   "source": [
    "#Sam start"
   ]
  },
  {
   "cell_type": "code",
   "execution_count": null,
   "metadata": {},
   "outputs": [],
   "source": [
    "#Sam end"
   ]
  },
  {
   "cell_type": "code",
   "execution_count": null,
   "metadata": {},
   "outputs": [],
   "source": [
    "#Abbas start"
   ]
  },
  {
   "cell_type": "code",
   "execution_count": null,
   "metadata": {},
   "outputs": [],
   "source": [
    "google_apps.count()\n",
    "google_apps= google_apps.dropna(how='any')\n",
    "google_apps.count()\n",
    "\n",
    "apple_apps.count()\n",
    "apple_apps = apple_apps.dropna(how='any')\n",
    "apple_apps.count()"
   ]
  },
  {
   "cell_type": "code",
   "execution_count": null,
   "metadata": {},
   "outputs": [],
   "source": [
    "# Data Frame - Top 5 paid google categories by spending\n",
    "# Select only the paid apps\n",
    "\n",
    "google_apps_paid = google_apps.loc[google_apps['Type']==\"Paid\",:]\n",
    "\n",
    "# Convert the value\n",
    "google_apps_paid.loc[:,'Price']=google_apps_paid['Price'].str.replace('$','')\n",
    "google_apps_paid= google_apps_paid.astype({'Price': float})\n",
    "\n",
    "google_apps_grouped = google_apps_paid.groupby('Category').agg(\n",
    "                 total_games=('App', 'count'),\n",
    "                 total_spending = ('Price', 'sum'))\n",
    "\n",
    "google_apps_paid_top_5 = google_apps_grouped.sort_values('total_spending', ascending=False)\n",
    "google_apps_paid_top_5 = google_apps_paid_top_5.reset_index()\n",
    "google_apps_paid_top_5 = google_apps_paid_top_5.iloc[0:5]\n",
    "google_apps_paid_top_5"
   ]
  },
  {
   "cell_type": "code",
   "execution_count": null,
   "metadata": {},
   "outputs": [],
   "source": [
    "# plot a pie chart\n",
    "\n",
    "labels = google_apps_paid_top_5['Category']\n",
    "sizes =  google_apps_paid_top_5['total_spending']\n",
    "explode = (0.1,0, 0, 0, 0)  \n",
    "\n",
    "fig1, ax1 = plt.subplots(figsize=(12,8))\n",
    "ax1.pie(sizes, explode = explode, labels=labels, autopct='%1.1f%%',\n",
    "        shadow=True, startangle=90, radius = 1.2)\n",
    "plt.title('Top paid Google Apps by spending\\n\\n')\n",
    "plt.show()\n",
    "plt.savefig('images/as_google_total_spending.png')"
   ]
  },
  {
   "cell_type": "code",
   "execution_count": null,
   "metadata": {},
   "outputs": [],
   "source": [
    "# Data Frame - Top 5 paid apple categories by spending\n",
    "# Select only the paid apps\n",
    "\n",
    "apple_apps_paid = apple_apps.loc[apple_apps['Price'] >0.00,:]\n",
    "\n",
    "# Convert the value\n",
    "\n",
    "apple_apps_paid= apple_apps_paid.astype({'Price': float})\n",
    "\n",
    "\n",
    "apple_apps_grouped = apple_apps_paid.groupby('Category').agg(\n",
    "                 total_games=('App', 'count'),\n",
    "                 total_spending = ('Price', 'sum'))\n",
    "                \n",
    "apple_apps_paid_top_5 = apple_apps_grouped.sort_values('total_spending', ascending=False)\n",
    "apple_apps_paid_top_5 = apple_apps_paid_top_5.reset_index()\n",
    "apple_apps_paid_top_5\n",
    "apple_apps_paid_top_5 = apple_apps_paid_top_5.iloc[0:5]\n",
    "apple_apps_paid_top_5"
   ]
  },
  {
   "cell_type": "code",
   "execution_count": null,
   "metadata": {},
   "outputs": [],
   "source": [
    "# plot a pie chart\n",
    "\n",
    "labels = apple_apps_paid_top_5['Category']\n",
    "sizes =  apple_apps_paid_top_5['total_spending']\n",
    "explode = (0.1,0, 0, 0, 0)  \n",
    "\n",
    "fig1, ax1 = plt.subplots(figsize=(12,8))\n",
    "ax1.pie(sizes, explode = explode, labels=labels, autopct='%1.1f%%',\n",
    "        shadow=True, startangle=90, radius = 1.2)\n",
    "plt.title('Top paid Apple Apps by spending\\n\\n')\n",
    "plt.show()\n",
    "plt.savefig('images/as_apple_total_spending.png')"
   ]
  },
  {
   "cell_type": "code",
   "execution_count": null,
   "metadata": {},
   "outputs": [],
   "source": [
    "#Abbas end"
   ]
  },
  {
   "cell_type": "code",
   "execution_count": null,
   "metadata": {},
   "outputs": [],
   "source": [
    "#Farshad start"
   ]
  },
  {
   "cell_type": "code",
   "execution_count": null,
   "metadata": {},
   "outputs": [],
   "source": [
    "#Farshad end"
   ]
  }
 ],
 "metadata": {
  "kernelspec": {
   "display_name": "Python 3",
   "language": "python",
   "name": "python3"
  },
  "language_info": {
   "codemirror_mode": {
    "name": "ipython",
    "version": 3
   },
   "file_extension": ".py",
   "mimetype": "text/x-python",
   "name": "python",
   "nbconvert_exporter": "python",
   "pygments_lexer": "ipython3",
   "version": "3.6.9"
  }
 },
 "nbformat": 4,
 "nbformat_minor": 2
}
