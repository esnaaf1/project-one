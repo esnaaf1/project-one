{
 "cells": [
  {
   "cell_type": "code",
   "execution_count": null,
   "metadata": {},
   "outputs": [],
   "source": [
    "#Imports packages\n",
    "import pandas as pd\n",
    "import numpy as np\n",
    "import matplotlib.pyplot as plt"
   ]
  },
  {
   "cell_type": "code",
   "execution_count": null,
   "metadata": {},
   "outputs": [],
   "source": [
    "#Reading CSV files\n",
    "google_apps = pd.read_csv(\"source/Google_Apps_Clean.csv\")\n",
    "google_app_reviews= pd.read_csv(\"source/googleplaystore_user_reviews.csv\")\n",
    "apple_apps= pd.read_csv(\"source/Apple_Apps_Clean.csv\")"
   ]
  },
  {
   "cell_type": "code",
   "execution_count": null,
   "metadata": {},
   "outputs": [],
   "source": [
    "#Barry start "
   ]
  },
  {
   "cell_type": "code",
   "execution_count": null,
   "metadata": {},
   "outputs": [],
   "source": [
    "#Barry end"
   ]
  },
  {
   "cell_type": "code",
   "execution_count": null,
   "metadata": {},
   "outputs": [],
   "source": [
    "#Sam start"
   ]
  },
  {
   "cell_type": "code",
   "execution_count": null,
   "metadata": {},
   "outputs": [],
   "source": [
    "#Sam end"
   ]
  },
  {
   "cell_type": "code",
   "execution_count": null,
   "metadata": {},
   "outputs": [],
   "source": [
    "#Abbas start"
   ]
  },
  {
   "cell_type": "code",
   "execution_count": null,
   "metadata": {},
   "outputs": [],
   "source": [
    "#Abbas end"
   ]
  },
  {
   "cell_type": "code",
   "execution_count": null,
   "metadata": {},
   "outputs": [],
   "source": [
    "#Farshad start"
   ]
  },
  {
   "cell_type": "code",
   "execution_count": null,
   "metadata": {},
   "outputs": [],
   "source": [
    "# Data Frame - Top 5 google categories by ratings\n",
    "google_apps_df1 = google_apps.groupby('Category').agg(\n",
    "                 total_games=('App', 'count'),\n",
    "                 highest_rating = ('Rating', 'max'),\n",
    "                 lowest_rating = ('Rating', 'min'),\n",
    "                 sd = ('Rating', 'std'))\n",
    "\n",
    "google_apps_top_5 = google_apps_df1.sort_values('total_games', ascending=False)\n",
    "google_apps_top_5 = google_apps_top_5.reset_index()\n",
    "google_apps_top_5 = google_apps_top_5.iloc[0:5]\n",
    "google_apps_top_5\n"
   ]
  },
  {
   "cell_type": "code",
   "execution_count": null,
   "metadata": {},
   "outputs": [],
   "source": [
    "# Pie Chart - Top 5 google category by total games\n",
    "labels = google_apps_top_5['Category']\n",
    "sizes =  google_apps_top_5['total_games']\n",
    "explode = (0.1,0, 0, 0, 0)  \n",
    "\n",
    "fig1, ax1 = plt.subplots(figsize=(12,8))\n",
    "ax1.pie(sizes, explode = explode, labels=labels, autopct='%1.1f%%',\n",
    "        shadow=True, startangle=90, radius = 1.2)\n",
    "plt.title(\"Top Five Google App Categories\\n\\n\")\n",
    "plt.show()\n",
    "plt.savefig('images/fe_google_top_rating.png')"
   ]
  },
  {
   "cell_type": "code",
   "execution_count": null,
   "metadata": {},
   "outputs": [],
   "source": [
    "# Data Frame - Top 5 apple categories by total games\n",
    "apple_apps_df1 = apple_apps.groupby('Category').agg(\n",
    "                  total_games= ('App', 'count'),\n",
    "                  highest_rating = ('Rating', 'max'),\n",
    "                  lowest_rating = ('Rating', 'min'),\n",
    "                  sd = ('Rating', 'std'))\n",
    "\n",
    "\n",
    "apple_apps_top_5 = apple_apps_df1.sort_values('total_games', ascending=False)\n",
    "apple_apps_top_5 = apple_apps_top_5.reset_index()\n",
    "apple_apps_top_5 = apple_apps_top_5.iloc[0:5]\n",
    "apple_apps_top_5\n"
   ]
  },
  {
   "cell_type": "code",
   "execution_count": null,
   "metadata": {},
   "outputs": [],
   "source": [
    "# Pie Chart - Top 5 apple category by total games\n",
    "labels = apple_apps_top_5['Category']\n",
    "sizes =  apple_apps_top_5['total_games']\n",
    "explode = (0.1,0, 0, 0, 0)  \n",
    "\n",
    "fig1, ax1 = plt.subplots(figsize=(12,8))\n",
    "ax1.pie(sizes, explode = explode, labels=labels, autopct='%1.1f%%',\n",
    "        shadow=True, startangle=90, radius = 1.2)\n",
    "plt.title(\"Top Five Apple App Categories\\n\\n\")\n",
    "plt.show()\n",
    "plt.savefig('images/fe_apple_top_rating.png')"
   ]
  },
  {
   "cell_type": "code",
   "execution_count": null,
   "metadata": {},
   "outputs": [],
   "source": [
    "# Unpaid apps in google and apple\n",
    "google_apps_unpaid = google_apps.loc[google_apps['Type']=='Free',:]\n",
    "\n",
    "apple_apps_unpaid = apple_apps.loc[apple_apps['Price']==0,:]\n"
   ]
  },
  {
   "cell_type": "code",
   "execution_count": null,
   "metadata": {},
   "outputs": [],
   "source": [
    "import scipy.stats as stats\n",
    "# Null Hypothesis: There is no difference in ratings between paid and unpaid apple apps\n",
    "stats.ttest_ind(apple_apps_unpaid[\"Rating\"], apple_apps_paid[\"Rating\"], equal_var=False)\n"
   ]
  },
  {
   "cell_type": "code",
   "execution_count": null,
   "metadata": {},
   "outputs": [],
   "source": [
    "# Null Hypothesis: There is no difference in ratings between paid google and apple apps\n",
    "stats.ttest_ind(google_apps_paid.dropna()[\"Rating\"], apple_apps_paid.dropna()[\"Rating\"], equal_var=False)"
   ]
  },
  {
   "cell_type": "code",
   "execution_count": null,
   "metadata": {},
   "outputs": [],
   "source": [
    "# Null Hypothesis: There is no difference in ratings between paid and unpaid google apps\n",
    "stats.ttest_ind(google_apps_unpaid.dropna()[\"Rating\"], google_apps_paid.dropna()[\"Rating\"], equal_var=False)"
   ]
  },
  {
   "cell_type": "code",
   "execution_count": null,
   "metadata": {},
   "outputs": [],
   "source": [
    "# Binning the apps by price ranges\n",
    "\n",
    "bins = [0.00, 1.99, 3.99, 9.99, 499.99]\n",
    "group_names = ['<$2','$2-4','$5-10','>$10']\n",
    "google_apps_paid['Price Range'] = pd.cut(google_apps_paid['Price'], bins, labels=group_names)\n",
    "google_apps_paid\n",
    "apple_apps_paid['Price Range'] = pd.cut(apple_apps_paid['Price'], bins, labels=group_names)\n",
    "\n",
    "google_apps_paid_ranges = google_apps_paid.groupby(\"Price Range\").agg(\n",
    "                         total_games= ('App', 'count' ))\n",
    "google_apps_paid_ranges\n",
    "apple_apps_paid_ranges = apple_apps_paid.groupby(\"Price Range\").agg(\n",
    "                           total_games = ('App', 'count'))\n",
    "\n",
    "combined_paid_range = pd.merge(apple_apps_paid_ranges, google_apps_paid_ranges, how=\"inner\", on=\"Price Range\")\n",
    "combined_paid_range = combined_paid_range.reset_index()\n",
    "combined_paid_range"
   ]
  },
  {
   "cell_type": "code",
   "execution_count": null,
   "metadata": {},
   "outputs": [],
   "source": [
    "# Plot Bar Chart\n",
    "ind = np.arange(len(combined_paid_range['total_games_x']))\n",
    "width = 0.25\n",
    "\n",
    "fig, ax = plt.subplots(figsize=(20, 7))\n",
    "rects1 = ax.bar(ind - width/2, combined_paid_range['total_games_x'], width, label='Apple games')\n",
    "rects2 = ax.bar(ind + width/2, combined_paid_range['total_games_y'], width, label='Google games')\n",
    "\n",
    "ax.set_ylabel('Total Games')\n",
    "ax.set_title('Total Games by Price Range')\n",
    "ax.set_xticks(ind)\n",
    "ax.set_xticklabels(combined_paid_range['Price Range'], rotation=45)\n",
    "plt.legend(['Apple', 'Google'], loc='upper right')\n",
    "plt.show()\n",
    "plt.savefig('images/fe_spending_ranges.png')"
   ]
  },
  {
   "cell_type": "code",
   "execution_count": null,
   "metadata": {},
   "outputs": [],
   "source": [
    "#Farshad end"
   ]
  }
 ],
 "metadata": {
  "kernelspec": {
   "display_name": "Python 3",
   "language": "python",
   "name": "python3"
  },
  "language_info": {
   "codemirror_mode": {
    "name": "ipython",
    "version": 3
   },
   "file_extension": ".py",
   "mimetype": "text/x-python",
   "name": "python",
   "nbconvert_exporter": "python",
   "pygments_lexer": "ipython3",
   "version": "3.6.9"
  }
 },
 "nbformat": 4,
 "nbformat_minor": 2
}
