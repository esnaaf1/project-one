{
 "cells": [
  {
   "cell_type": "code",
   "execution_count": 1,
   "metadata": {},
   "outputs": [],
   "source": [
    "#Imports packages\n",
    "import pandas as pd\n",
    "import numpy as np\n",
    "import matplotlib.pyplot as plt\n",
    "import scipy.stats as stats"
   ]
  },
  {
   "cell_type": "code",
   "execution_count": 2,
   "metadata": {},
   "outputs": [],
   "source": [
    "#Reading CSV files\n",
    "google_apps = pd.read_csv(\"source/Google_Apps_Clean.csv\")\n",
    "google_app_reviews= pd.read_csv(\"source/googleplaystore_user_reviews.csv\")\n",
    "apple_apps= pd.read_csv(\"source/Apple_Apps_Clean.csv\")"
   ]
  },
  {
   "cell_type": "code",
   "execution_count": 3,
   "metadata": {},
   "outputs": [],
   "source": [
    "#Barry start "
   ]
  },
  {
   "cell_type": "code",
   "execution_count": 4,
   "metadata": {},
   "outputs": [],
   "source": [
    "#Barry end"
   ]
  },
  {
   "cell_type": "code",
   "execution_count": 5,
   "metadata": {},
   "outputs": [
    {
     "data": {
      "text/plain": [
       "App                10841\n",
       "Category           10841\n",
       "Rating              9367\n",
       "Reviews            10841\n",
       "Size in KB         10841\n",
       "Installs           10841\n",
       "Type               10840\n",
       "Price              10841\n",
       "Content Rating     10841\n",
       "Genres             10840\n",
       "Last Updated       10841\n",
       "Current Version    10833\n",
       "Android Ver        10839\n",
       "dtype: int64"
      ]
     },
     "execution_count": 5,
     "metadata": {},
     "output_type": "execute_result"
    }
   ],
   "source": [
    "# Sam start\n",
    "\n",
    "# Found the count for each column in the Google dataframe to look for missing values using the count function.\n",
    "google_apps.count()"
   ]
  },
  {
   "cell_type": "code",
   "execution_count": 6,
   "metadata": {},
   "outputs": [
    {
     "data": {
      "text/plain": [
       "App                9360\n",
       "Category           9360\n",
       "Rating             9360\n",
       "Reviews            9360\n",
       "Size in KB         9360\n",
       "Installs           9360\n",
       "Type               9360\n",
       "Price              9360\n",
       "Content Rating     9360\n",
       "Genres             9360\n",
       "Last Updated       9360\n",
       "Current Version    9360\n",
       "Android Ver        9360\n",
       "dtype: int64"
      ]
     },
     "execution_count": 6,
     "metadata": {},
     "output_type": "execute_result"
    }
   ],
   "source": [
    "# Dropped any null rows using the dropna function.\n",
    "google_apps = google_apps.dropna(how='any')\n",
    "google_apps.count()"
   ]
  },
  {
   "cell_type": "code",
   "execution_count": 7,
   "metadata": {},
   "outputs": [
    {
     "data": {
      "text/plain": [
       "App                     7197\n",
       "Category               11100\n",
       "Rating                 11100\n",
       "Reviews                11100\n",
       "Size in KB             11100\n",
       "Price                  11100\n",
       "Content Rating         11100\n",
       "Current Version         7197\n",
       "Number of Languages    11100\n",
       "dtype: int64"
      ]
     },
     "execution_count": 7,
     "metadata": {},
     "output_type": "execute_result"
    }
   ],
   "source": [
    "# Found the count for each column in the Apple dataframe to look for missing values using the count function.\n",
    "apple_apps.count()"
   ]
  },
  {
   "cell_type": "code",
   "execution_count": 8,
   "metadata": {},
   "outputs": [
    {
     "data": {
      "text/plain": [
       "App                    7197\n",
       "Category               7197\n",
       "Rating                 7197\n",
       "Reviews                7197\n",
       "Size in KB             7197\n",
       "Price                  7197\n",
       "Content Rating         7197\n",
       "Current Version        7197\n",
       "Number of Languages    7197\n",
       "dtype: int64"
      ]
     },
     "execution_count": 8,
     "metadata": {},
     "output_type": "execute_result"
    }
   ],
   "source": [
    "# Dropped any null rows using the dropna function.\n",
    "apple_apps = apple_apps.dropna(how='any')\n",
    "apple_apps.count()"
   ]
  },
  {
   "cell_type": "code",
   "execution_count": 9,
   "metadata": {},
   "outputs": [],
   "source": [
    "# Renamed the Rating column to Google Rating with the rename column function.\n",
    "google_apps = google_apps.rename(columns={\"Rating\": \"Google Rating\"})\n",
    "\n",
    "# Renamed the Rating column to Apple Rating with the rename column function.\n",
    "apple_apps = apple_apps.rename(columns={\"Rating\": \"Apple Rating\"})"
   ]
  },
  {
   "cell_type": "code",
   "execution_count": 10,
   "metadata": {},
   "outputs": [
    {
     "data": {
      "text/html": [
       "<div>\n",
       "<style scoped>\n",
       "    .dataframe tbody tr th:only-of-type {\n",
       "        vertical-align: middle;\n",
       "    }\n",
       "\n",
       "    .dataframe tbody tr th {\n",
       "        vertical-align: top;\n",
       "    }\n",
       "\n",
       "    .dataframe thead th {\n",
       "        text-align: right;\n",
       "    }\n",
       "</style>\n",
       "<table border=\"1\" class=\"dataframe\">\n",
       "  <thead>\n",
       "    <tr style=\"text-align: right;\">\n",
       "      <th></th>\n",
       "      <th>Google Rating</th>\n",
       "    </tr>\n",
       "    <tr>\n",
       "      <th>Category</th>\n",
       "      <th></th>\n",
       "    </tr>\n",
       "  </thead>\n",
       "  <tbody>\n",
       "    <tr>\n",
       "      <td>Art &amp; Design</td>\n",
       "      <td>4.377049</td>\n",
       "    </tr>\n",
       "    <tr>\n",
       "      <td>Auto &amp; Vehicles</td>\n",
       "      <td>4.190411</td>\n",
       "    </tr>\n",
       "    <tr>\n",
       "      <td>Beauty</td>\n",
       "      <td>4.278571</td>\n",
       "    </tr>\n",
       "    <tr>\n",
       "      <td>Books &amp; Reference</td>\n",
       "      <td>4.346067</td>\n",
       "    </tr>\n",
       "    <tr>\n",
       "      <td>Business</td>\n",
       "      <td>4.121452</td>\n",
       "    </tr>\n",
       "    <tr>\n",
       "      <td>Comics</td>\n",
       "      <td>4.155172</td>\n",
       "    </tr>\n",
       "    <tr>\n",
       "      <td>Communication</td>\n",
       "      <td>4.158537</td>\n",
       "    </tr>\n",
       "    <tr>\n",
       "      <td>Dating</td>\n",
       "      <td>3.970769</td>\n",
       "    </tr>\n",
       "    <tr>\n",
       "      <td>Education</td>\n",
       "      <td>4.389032</td>\n",
       "    </tr>\n",
       "    <tr>\n",
       "      <td>Entertainment</td>\n",
       "      <td>4.126174</td>\n",
       "    </tr>\n",
       "    <tr>\n",
       "      <td>Events</td>\n",
       "      <td>4.435556</td>\n",
       "    </tr>\n",
       "    <tr>\n",
       "      <td>Family</td>\n",
       "      <td>4.192383</td>\n",
       "    </tr>\n",
       "    <tr>\n",
       "      <td>Finance</td>\n",
       "      <td>4.131889</td>\n",
       "    </tr>\n",
       "    <tr>\n",
       "      <td>Food &amp; Drink</td>\n",
       "      <td>4.166972</td>\n",
       "    </tr>\n",
       "    <tr>\n",
       "      <td>Game</td>\n",
       "      <td>4.286326</td>\n",
       "    </tr>\n",
       "    <tr>\n",
       "      <td>Health &amp; Fitness</td>\n",
       "      <td>4.277104</td>\n",
       "    </tr>\n",
       "    <tr>\n",
       "      <td>House &amp; Home</td>\n",
       "      <td>4.197368</td>\n",
       "    </tr>\n",
       "    <tr>\n",
       "      <td>Libraries &amp; Demo</td>\n",
       "      <td>4.179688</td>\n",
       "    </tr>\n",
       "    <tr>\n",
       "      <td>Lifestyle</td>\n",
       "      <td>4.094904</td>\n",
       "    </tr>\n",
       "    <tr>\n",
       "      <td>Maps &amp; Navigation</td>\n",
       "      <td>4.051613</td>\n",
       "    </tr>\n",
       "    <tr>\n",
       "      <td>Medical</td>\n",
       "      <td>4.189143</td>\n",
       "    </tr>\n",
       "    <tr>\n",
       "      <td>News &amp; Magazines</td>\n",
       "      <td>4.132189</td>\n",
       "    </tr>\n",
       "    <tr>\n",
       "      <td>Parenting</td>\n",
       "      <td>4.300000</td>\n",
       "    </tr>\n",
       "    <tr>\n",
       "      <td>Personalization</td>\n",
       "      <td>4.335256</td>\n",
       "    </tr>\n",
       "    <tr>\n",
       "      <td>Photography</td>\n",
       "      <td>4.192114</td>\n",
       "    </tr>\n",
       "    <tr>\n",
       "      <td>Productivity</td>\n",
       "      <td>4.211396</td>\n",
       "    </tr>\n",
       "    <tr>\n",
       "      <td>Shopping</td>\n",
       "      <td>4.259664</td>\n",
       "    </tr>\n",
       "    <tr>\n",
       "      <td>Social</td>\n",
       "      <td>4.255598</td>\n",
       "    </tr>\n",
       "    <tr>\n",
       "      <td>Sports</td>\n",
       "      <td>4.223511</td>\n",
       "    </tr>\n",
       "    <tr>\n",
       "      <td>Tools</td>\n",
       "      <td>4.047203</td>\n",
       "    </tr>\n",
       "    <tr>\n",
       "      <td>Travel &amp; Local</td>\n",
       "      <td>4.109292</td>\n",
       "    </tr>\n",
       "    <tr>\n",
       "      <td>Video Players</td>\n",
       "      <td>4.063750</td>\n",
       "    </tr>\n",
       "    <tr>\n",
       "      <td>Weather</td>\n",
       "      <td>4.244000</td>\n",
       "    </tr>\n",
       "  </tbody>\n",
       "</table>\n",
       "</div>"
      ],
      "text/plain": [
       "                   Google Rating\n",
       "Category                        \n",
       "Art & Design            4.377049\n",
       "Auto & Vehicles         4.190411\n",
       "Beauty                  4.278571\n",
       "Books & Reference       4.346067\n",
       "Business                4.121452\n",
       "Comics                  4.155172\n",
       "Communication           4.158537\n",
       "Dating                  3.970769\n",
       "Education               4.389032\n",
       "Entertainment           4.126174\n",
       "Events                  4.435556\n",
       "Family                  4.192383\n",
       "Finance                 4.131889\n",
       "Food & Drink            4.166972\n",
       "Game                    4.286326\n",
       "Health & Fitness        4.277104\n",
       "House & Home            4.197368\n",
       "Libraries & Demo        4.179688\n",
       "Lifestyle               4.094904\n",
       "Maps & Navigation       4.051613\n",
       "Medical                 4.189143\n",
       "News & Magazines        4.132189\n",
       "Parenting               4.300000\n",
       "Personalization         4.335256\n",
       "Photography             4.192114\n",
       "Productivity            4.211396\n",
       "Shopping                4.259664\n",
       "Social                  4.255598\n",
       "Sports                  4.223511\n",
       "Tools                   4.047203\n",
       "Travel & Local          4.109292\n",
       "Video Players           4.063750\n",
       "Weather                 4.244000"
      ]
     },
     "execution_count": 10,
     "metadata": {},
     "output_type": "execute_result"
    }
   ],
   "source": [
    "# Used GroupBy function in order to separate the data into fields according to \"Category\" values.\n",
    "google_apps_category = google_apps.groupby(\"Category\")\n",
    "\n",
    "# Got the average of the Rating column in the GroupBy object using the mean function.\n",
    "google_apps_mean = google_apps_category[[\"Google Rating\"]].mean()\n",
    "google_apps_mean"
   ]
  },
  {
   "cell_type": "code",
   "execution_count": 11,
   "metadata": {},
   "outputs": [
    {
     "data": {
      "text/html": [
       "<div>\n",
       "<style scoped>\n",
       "    .dataframe tbody tr th:only-of-type {\n",
       "        vertical-align: middle;\n",
       "    }\n",
       "\n",
       "    .dataframe tbody tr th {\n",
       "        vertical-align: top;\n",
       "    }\n",
       "\n",
       "    .dataframe thead th {\n",
       "        text-align: right;\n",
       "    }\n",
       "</style>\n",
       "<table border=\"1\" class=\"dataframe\">\n",
       "  <thead>\n",
       "    <tr style=\"text-align: right;\">\n",
       "      <th></th>\n",
       "      <th>Apple Rating</th>\n",
       "    </tr>\n",
       "    <tr>\n",
       "      <th>Category</th>\n",
       "      <th></th>\n",
       "    </tr>\n",
       "  </thead>\n",
       "  <tbody>\n",
       "    <tr>\n",
       "      <td>Books &amp; Reference</td>\n",
       "      <td>2.832386</td>\n",
       "    </tr>\n",
       "    <tr>\n",
       "      <td>Business</td>\n",
       "      <td>3.745614</td>\n",
       "    </tr>\n",
       "    <tr>\n",
       "      <td>Catalogs</td>\n",
       "      <td>2.100000</td>\n",
       "    </tr>\n",
       "    <tr>\n",
       "      <td>Education</td>\n",
       "      <td>3.376380</td>\n",
       "    </tr>\n",
       "    <tr>\n",
       "      <td>Entertainment</td>\n",
       "      <td>3.246729</td>\n",
       "    </tr>\n",
       "    <tr>\n",
       "      <td>Finance</td>\n",
       "      <td>2.432692</td>\n",
       "    </tr>\n",
       "    <tr>\n",
       "      <td>Food &amp; Drink</td>\n",
       "      <td>3.182540</td>\n",
       "    </tr>\n",
       "    <tr>\n",
       "      <td>Game</td>\n",
       "      <td>3.685008</td>\n",
       "    </tr>\n",
       "    <tr>\n",
       "      <td>Health &amp; Fitness</td>\n",
       "      <td>3.700000</td>\n",
       "    </tr>\n",
       "    <tr>\n",
       "      <td>Lifestyle</td>\n",
       "      <td>2.805556</td>\n",
       "    </tr>\n",
       "    <tr>\n",
       "      <td>Maps &amp; Navigation</td>\n",
       "      <td>2.684783</td>\n",
       "    </tr>\n",
       "    <tr>\n",
       "      <td>Medical</td>\n",
       "      <td>3.369565</td>\n",
       "    </tr>\n",
       "    <tr>\n",
       "      <td>Music</td>\n",
       "      <td>3.978261</td>\n",
       "    </tr>\n",
       "    <tr>\n",
       "      <td>News &amp; Magazines</td>\n",
       "      <td>2.980000</td>\n",
       "    </tr>\n",
       "    <tr>\n",
       "      <td>Photo &amp; Video</td>\n",
       "      <td>3.800860</td>\n",
       "    </tr>\n",
       "    <tr>\n",
       "      <td>Productivity</td>\n",
       "      <td>4.005618</td>\n",
       "    </tr>\n",
       "    <tr>\n",
       "      <td>Shopping</td>\n",
       "      <td>3.540984</td>\n",
       "    </tr>\n",
       "    <tr>\n",
       "      <td>Social</td>\n",
       "      <td>2.985030</td>\n",
       "    </tr>\n",
       "    <tr>\n",
       "      <td>Sports</td>\n",
       "      <td>2.982456</td>\n",
       "    </tr>\n",
       "    <tr>\n",
       "      <td>Travel &amp; Local</td>\n",
       "      <td>3.376543</td>\n",
       "    </tr>\n",
       "    <tr>\n",
       "      <td>Utilities</td>\n",
       "      <td>3.278226</td>\n",
       "    </tr>\n",
       "    <tr>\n",
       "      <td>Weather</td>\n",
       "      <td>3.597222</td>\n",
       "    </tr>\n",
       "  </tbody>\n",
       "</table>\n",
       "</div>"
      ],
      "text/plain": [
       "                   Apple Rating\n",
       "Category                       \n",
       "Books & Reference      2.832386\n",
       "Business               3.745614\n",
       "Catalogs               2.100000\n",
       "Education              3.376380\n",
       "Entertainment          3.246729\n",
       "Finance                2.432692\n",
       "Food & Drink           3.182540\n",
       "Game                   3.685008\n",
       "Health & Fitness       3.700000\n",
       "Lifestyle              2.805556\n",
       "Maps & Navigation      2.684783\n",
       "Medical                3.369565\n",
       "Music                  3.978261\n",
       "News & Magazines       2.980000\n",
       "Photo & Video          3.800860\n",
       "Productivity           4.005618\n",
       "Shopping               3.540984\n",
       "Social                 2.985030\n",
       "Sports                 2.982456\n",
       "Travel & Local         3.376543\n",
       "Utilities              3.278226\n",
       "Weather                3.597222"
      ]
     },
     "execution_count": 11,
     "metadata": {},
     "output_type": "execute_result"
    }
   ],
   "source": [
    "# Used GroupBy function in order to separate the data into fields according to \"Category\" values.\n",
    "apple_apps_category = apple_apps.groupby(\"Category\")\n",
    "\n",
    "# Got the average of the Rating column in the GroupBy object using the mean function.\n",
    "apple_apps_mean = apple_apps_category[[\"Apple Rating\"]].mean()\n",
    "apple_apps_mean"
   ]
  },
  {
   "cell_type": "code",
   "execution_count": 12,
   "metadata": {},
   "outputs": [
    {
     "data": {
      "text/html": [
       "<div>\n",
       "<style scoped>\n",
       "    .dataframe tbody tr th:only-of-type {\n",
       "        vertical-align: middle;\n",
       "    }\n",
       "\n",
       "    .dataframe tbody tr th {\n",
       "        vertical-align: top;\n",
       "    }\n",
       "\n",
       "    .dataframe thead th {\n",
       "        text-align: right;\n",
       "    }\n",
       "</style>\n",
       "<table border=\"1\" class=\"dataframe\">\n",
       "  <thead>\n",
       "    <tr style=\"text-align: right;\">\n",
       "      <th></th>\n",
       "      <th>Google Rating</th>\n",
       "      <th>Apple Rating</th>\n",
       "    </tr>\n",
       "    <tr>\n",
       "      <th>Category</th>\n",
       "      <th></th>\n",
       "      <th></th>\n",
       "    </tr>\n",
       "  </thead>\n",
       "  <tbody>\n",
       "    <tr>\n",
       "      <td>Books &amp; Reference</td>\n",
       "      <td>4.346067</td>\n",
       "      <td>2.832386</td>\n",
       "    </tr>\n",
       "    <tr>\n",
       "      <td>Business</td>\n",
       "      <td>4.121452</td>\n",
       "      <td>3.745614</td>\n",
       "    </tr>\n",
       "    <tr>\n",
       "      <td>Education</td>\n",
       "      <td>4.389032</td>\n",
       "      <td>3.376380</td>\n",
       "    </tr>\n",
       "    <tr>\n",
       "      <td>Entertainment</td>\n",
       "      <td>4.126174</td>\n",
       "      <td>3.246729</td>\n",
       "    </tr>\n",
       "    <tr>\n",
       "      <td>Finance</td>\n",
       "      <td>4.131889</td>\n",
       "      <td>2.432692</td>\n",
       "    </tr>\n",
       "    <tr>\n",
       "      <td>Food &amp; Drink</td>\n",
       "      <td>4.166972</td>\n",
       "      <td>3.182540</td>\n",
       "    </tr>\n",
       "    <tr>\n",
       "      <td>Game</td>\n",
       "      <td>4.286326</td>\n",
       "      <td>3.685008</td>\n",
       "    </tr>\n",
       "    <tr>\n",
       "      <td>Health &amp; Fitness</td>\n",
       "      <td>4.277104</td>\n",
       "      <td>3.700000</td>\n",
       "    </tr>\n",
       "    <tr>\n",
       "      <td>Lifestyle</td>\n",
       "      <td>4.094904</td>\n",
       "      <td>2.805556</td>\n",
       "    </tr>\n",
       "    <tr>\n",
       "      <td>Maps &amp; Navigation</td>\n",
       "      <td>4.051613</td>\n",
       "      <td>2.684783</td>\n",
       "    </tr>\n",
       "    <tr>\n",
       "      <td>Medical</td>\n",
       "      <td>4.189143</td>\n",
       "      <td>3.369565</td>\n",
       "    </tr>\n",
       "    <tr>\n",
       "      <td>News &amp; Magazines</td>\n",
       "      <td>4.132189</td>\n",
       "      <td>2.980000</td>\n",
       "    </tr>\n",
       "    <tr>\n",
       "      <td>Productivity</td>\n",
       "      <td>4.211396</td>\n",
       "      <td>4.005618</td>\n",
       "    </tr>\n",
       "    <tr>\n",
       "      <td>Shopping</td>\n",
       "      <td>4.259664</td>\n",
       "      <td>3.540984</td>\n",
       "    </tr>\n",
       "    <tr>\n",
       "      <td>Social</td>\n",
       "      <td>4.255598</td>\n",
       "      <td>2.985030</td>\n",
       "    </tr>\n",
       "    <tr>\n",
       "      <td>Sports</td>\n",
       "      <td>4.223511</td>\n",
       "      <td>2.982456</td>\n",
       "    </tr>\n",
       "    <tr>\n",
       "      <td>Travel &amp; Local</td>\n",
       "      <td>4.109292</td>\n",
       "      <td>3.376543</td>\n",
       "    </tr>\n",
       "    <tr>\n",
       "      <td>Weather</td>\n",
       "      <td>4.244000</td>\n",
       "      <td>3.597222</td>\n",
       "    </tr>\n",
       "  </tbody>\n",
       "</table>\n",
       "</div>"
      ],
      "text/plain": [
       "                   Google Rating  Apple Rating\n",
       "Category                                      \n",
       "Books & Reference       4.346067      2.832386\n",
       "Business                4.121452      3.745614\n",
       "Education               4.389032      3.376380\n",
       "Entertainment           4.126174      3.246729\n",
       "Finance                 4.131889      2.432692\n",
       "Food & Drink            4.166972      3.182540\n",
       "Game                    4.286326      3.685008\n",
       "Health & Fitness        4.277104      3.700000\n",
       "Lifestyle               4.094904      2.805556\n",
       "Maps & Navigation       4.051613      2.684783\n",
       "Medical                 4.189143      3.369565\n",
       "News & Magazines        4.132189      2.980000\n",
       "Productivity            4.211396      4.005618\n",
       "Shopping                4.259664      3.540984\n",
       "Social                  4.255598      2.985030\n",
       "Sports                  4.223511      2.982456\n",
       "Travel & Local          4.109292      3.376543\n",
       "Weather                 4.244000      3.597222"
      ]
     },
     "execution_count": 12,
     "metadata": {},
     "output_type": "execute_result"
    }
   ],
   "source": [
    "# Merged both dataframes together based on the Categories they share by using the merge function.\n",
    "google_apple_merge = pd.merge(google_apps_mean, apple_apps_mean, on=\"Category\")\n",
    "google_apple_merge"
   ]
  },
  {
   "cell_type": "code",
   "execution_count": 13,
   "metadata": {},
   "outputs": [],
   "source": [
    "# Renamed the Rating columns to Average Google and Average Apple Rating with the rename column function.\n",
    "google_apple_merge = google_apple_merge.rename(columns={\"Google Rating\": \"Average Google Rating\", \"Apple Rating\": \"Average Apple Rating\"})\n",
    "\n",
    "# Reset the index so that the index is now based on the different Categories.\n",
    "google_apple_merge = google_apple_merge.reset_index()\n"
   ]
  },
  {
   "cell_type": "code",
   "execution_count": 14,
   "metadata": {},
   "outputs": [
    {
     "data": {
      "image/png": "[encoded data removed]",
      "text/plain": [
       "<Figure size 1440x504 with 1 Axes>"
      ]
     },
     "metadata": {
      "needs_background": "light"
     },
     "output_type": "display_data"
    }
   ],
   "source": [
    "\n",
    "# Created a bar chart from the google_apple_merge dataframe comparing the average ratings of the app categories.\n",
    "# Title will be 'Average Rating by Category'\n",
    "# x-axis labels will be the different categories and the y-axis will be 'Average Rating'\n",
    "ind = np.arange(len(google_apple_merge['Average Google Rating']))\n",
    "width = 0.25\n",
    "\n",
    "fig, ax = plt.subplots(figsize=(20, 7))\n",
    "rects1 = ax.bar(ind - width/2, google_apple_merge['Average Google Rating'], width, label='Google')\n",
    "rects2 = ax.bar(ind + width/2, google_apple_merge['Average Apple Rating'], width, label='Apple')\n",
    "\n",
    "\n",
    "plt.ylim(0, 5)\n",
    "\n",
    "ax.set_ylabel('Average Rating', fontsize=18)\n",
    "ax.set_title('Average Rating by Category', fontsize=25)\n",
    "ax.set_xticks(ind)\n",
    "ax.set_xticklabels(google_apple_merge['Category'], rotation=45, fontsize=15)\n",
    "plt.legend(['Average Google Rating', 'Average Apple Rating'], loc='upper right', fontsize=15)\n",
    "plt.savefig(\"Images/avg_rting_sk_bgraph.png\")\n",
    "\n"
   ]
  },
  {
   "cell_type": "code",
   "execution_count": 15,
   "metadata": {},
   "outputs": [
    {
     "data": {
      "text/plain": [
       "4.191837606837612"
      ]
     },
     "execution_count": 15,
     "metadata": {},
     "output_type": "execute_result"
    }
   ],
   "source": [
    "# Found the average rating for all of the Google apps using the mean function.\n",
    "google_pop = google_apps['Google Rating']\n",
    "google_pop.mean()"
   ]
  },
  {
   "cell_type": "code",
   "execution_count": 16,
   "metadata": {},
   "outputs": [
    {
     "data": {
      "text/plain": [
       "3.526955675976101"
      ]
     },
     "execution_count": 16,
     "metadata": {},
     "output_type": "execute_result"
    }
   ],
   "source": [
    "# Found the average rating for all of the Apple apps using the mean function.\n",
    "apple_pop = apple_apps['Apple Rating']\n",
    "apple_pop.mean()"
   ]
  },
  {
   "cell_type": "code",
   "execution_count": 17,
   "metadata": {},
   "outputs": [
    {
     "data": {
      "text/plain": [
       "Ttest_indResult(statistic=35.6147498872777, pvalue=5.0879096654718844e-259)"
      ]
     },
     "execution_count": 17,
     "metadata": {},
     "output_type": "execute_result"
    }
   ],
   "source": [
    "# Null Hypothesis: There is no difference in ratings between the common app categories included in the Google and Apple dataframes.\n",
    "\n",
    "# Calculated the Independent (Two Sample) T-Test\n",
    "stats.ttest_ind(google_pop, apple_pop, equal_var=False)\n",
    "\n",
    "# The pvalue is less than .05 which tells us that the Null Hypothesis will be rejected and there is a significant difference.\n",
    "\n",
    "#Sam end"
   ]
  },
  {
   "cell_type": "code",
   "execution_count": 18,
   "metadata": {},
   "outputs": [],
   "source": [
    "#Abbas start"
   ]
  },
  {
   "cell_type": "code",
   "execution_count": 19,
   "metadata": {},
   "outputs": [
    {
     "data": {
      "text/plain": [
       "App                    7197\n",
       "Category               7197\n",
       "Apple Rating           7197\n",
       "Reviews                7197\n",
       "Size in KB             7197\n",
       "Price                  7197\n",
       "Content Rating         7197\n",
       "Current Version        7197\n",
       "Number of Languages    7197\n",
       "dtype: int64"
      ]
     },
     "execution_count": 19,
     "metadata": {},
     "output_type": "execute_result"
    }
   ],
   "source": [
    "google_apps.count()\n",
    "google_apps= google_apps.dropna(how='any')\n",
    "google_apps.count()\n",
    "\n",
    "apple_apps.count()\n",
    "apple_apps = apple_apps.dropna(how='any')\n",
    "apple_apps.count()"
   ]
  },
  {
   "cell_type": "code",
   "execution_count": 20,
   "metadata": {},
   "outputs": [
    {
     "name": "stderr",
     "output_type": "stream",
     "text": [
      "//anaconda3/envs/PythonData/lib/python3.6/site-packages/pandas/core/indexing.py:494: SettingWithCopyWarning: \n",
      "A value is trying to be set on a copy of a slice from a DataFrame.\n",
      "Try using .loc[row_indexer,col_indexer] = value instead\n",
      "\n",
      "See the caveats in the documentation: http://pandas.pydata.org/pandas-docs/stable/user_guide/indexing.html#returning-a-view-versus-a-copy\n",
      "  self.obj[item] = s\n"
     ]
    },
    {
     "data": {
      "text/html": [
       "<div>\n",
       "<style scoped>\n",
       "    .dataframe tbody tr th:only-of-type {\n",
       "        vertical-align: middle;\n",
       "    }\n",
       "\n",
       "    .dataframe tbody tr th {\n",
       "        vertical-align: top;\n",
       "    }\n",
       "\n",
       "    .dataframe thead th {\n",
       "        text-align: right;\n",
       "    }\n",
       "</style>\n",
       "<table border=\"1\" class=\"dataframe\">\n",
       "  <thead>\n",
       "    <tr style=\"text-align: right;\">\n",
       "      <th></th>\n",
       "      <th>Category</th>\n",
       "      <th>total_games</th>\n",
       "      <th>total_spending</th>\n",
       "    </tr>\n",
       "  </thead>\n",
       "  <tbody>\n",
       "    <tr>\n",
       "      <td>0</td>\n",
       "      <td>Finance</td>\n",
       "      <td>13</td>\n",
       "      <td>2439.87</td>\n",
       "    </tr>\n",
       "    <tr>\n",
       "      <td>1</td>\n",
       "      <td>Family</td>\n",
       "      <td>161</td>\n",
       "      <td>2295.75</td>\n",
       "    </tr>\n",
       "    <tr>\n",
       "      <td>2</td>\n",
       "      <td>Lifestyle</td>\n",
       "      <td>18</td>\n",
       "      <td>1960.88</td>\n",
       "    </tr>\n",
       "    <tr>\n",
       "      <td>3</td>\n",
       "      <td>Medical</td>\n",
       "      <td>88</td>\n",
       "      <td>1043.14</td>\n",
       "    </tr>\n",
       "    <tr>\n",
       "      <td>4</td>\n",
       "      <td>Game</td>\n",
       "      <td>77</td>\n",
       "      <td>280.36</td>\n",
       "    </tr>\n",
       "  </tbody>\n",
       "</table>\n",
       "</div>"
      ],
      "text/plain": [
       "    Category  total_games  total_spending\n",
       "0    Finance           13         2439.87\n",
       "1     Family          161         2295.75\n",
       "2  Lifestyle           18         1960.88\n",
       "3    Medical           88         1043.14\n",
       "4       Game           77          280.36"
      ]
     },
     "execution_count": 20,
     "metadata": {},
     "output_type": "execute_result"
    }
   ],
   "source": [
    "# Data Frame - Top 5 paid google categories by spending\n",
    "# Select only the paid apps\n",
    "\n",
    "google_apps_paid = google_apps.loc[google_apps['Type']==\"Paid\",:]\n",
    "\n",
    "# Convert the value\n",
    "google_apps_paid.loc[:,'Price']=google_apps_paid['Price'].str.replace('$','')\n",
    "google_apps_paid= google_apps_paid.astype({'Price': float})\n",
    "\n",
    "google_apps_grouped = google_apps_paid.groupby('Category').agg(\n",
    "                 total_games=('App', 'count'),\n",
    "                 total_spending = ('Price', 'sum'))\n",
    "\n",
    "google_apps_paid_top_5 = google_apps_grouped.sort_values('total_spending', ascending=False)\n",
    "google_apps_paid_top_5 = google_apps_paid_top_5.reset_index()\n",
    "google_apps_paid_top_5 = google_apps_paid_top_5.iloc[0:5]\n",
    "google_apps_paid_top_5"
   ]
  },
  {
   "cell_type": "code",
   "execution_count": 21,
   "metadata": {},
   "outputs": [
    {
     "data": {
      "image/png": "[encoded data removed]",
      "text/plain": [
       "<Figure size 864x576 with 1 Axes>"
      ]
     },
     "metadata": {},
     "output_type": "display_data"
    },
    {
     "data": {
      "text/plain": [
       "<Figure size 432x288 with 0 Axes>"
      ]
     },
     "metadata": {},
     "output_type": "display_data"
    }
   ],
   "source": [
    "# plot a pie chart\n",
    "\n",
    "labels = google_apps_paid_top_5['Category']\n",
    "sizes =  google_apps_paid_top_5['total_spending']\n",
    "explode = (0.1,0, 0, 0, 0)  \n",
    "\n",
    "fig1, ax1 = plt.subplots(figsize=(12,8))\n",
    "ax1.pie(sizes, explode = explode, labels=labels, autopct='%1.1f%%',\n",
    "        shadow=True, startangle=90, radius = 1.2)\n",
    "plt.title('Top paid Google Apps by spending\\n\\n')\n",
    "plt.show()\n",
    "plt.savefig('images/as_google_total_spending.png')"
   ]
  },
  {
   "cell_type": "code",
   "execution_count": 22,
   "metadata": {},
   "outputs": [
    {
     "data": {
      "text/html": [
       "<div>\n",
       "<style scoped>\n",
       "    .dataframe tbody tr th:only-of-type {\n",
       "        vertical-align: middle;\n",
       "    }\n",
       "\n",
       "    .dataframe tbody tr th {\n",
       "        vertical-align: top;\n",
       "    }\n",
       "\n",
       "    .dataframe thead th {\n",
       "        text-align: right;\n",
       "    }\n",
       "</style>\n",
       "<table border=\"1\" class=\"dataframe\">\n",
       "  <thead>\n",
       "    <tr style=\"text-align: right;\">\n",
       "      <th></th>\n",
       "      <th>Category</th>\n",
       "      <th>total_games</th>\n",
       "      <th>total_spending</th>\n",
       "    </tr>\n",
       "  </thead>\n",
       "  <tbody>\n",
       "    <tr>\n",
       "      <td>0</td>\n",
       "      <td>Game</td>\n",
       "      <td>1605</td>\n",
       "      <td>5533.95</td>\n",
       "    </tr>\n",
       "    <tr>\n",
       "      <td>1</td>\n",
       "      <td>Education</td>\n",
       "      <td>321</td>\n",
       "      <td>1824.79</td>\n",
       "    </tr>\n",
       "    <tr>\n",
       "      <td>2</td>\n",
       "      <td>Productivity</td>\n",
       "      <td>116</td>\n",
       "      <td>770.84</td>\n",
       "    </tr>\n",
       "    <tr>\n",
       "      <td>3</td>\n",
       "      <td>Music</td>\n",
       "      <td>71</td>\n",
       "      <td>667.29</td>\n",
       "    </tr>\n",
       "    <tr>\n",
       "      <td>4</td>\n",
       "      <td>Photo &amp; Video</td>\n",
       "      <td>182</td>\n",
       "      <td>514.18</td>\n",
       "    </tr>\n",
       "  </tbody>\n",
       "</table>\n",
       "</div>"
      ],
      "text/plain": [
       "        Category  total_games  total_spending\n",
       "0           Game         1605         5533.95\n",
       "1      Education          321         1824.79\n",
       "2   Productivity          116          770.84\n",
       "3          Music           71          667.29\n",
       "4  Photo & Video          182          514.18"
      ]
     },
     "execution_count": 22,
     "metadata": {},
     "output_type": "execute_result"
    }
   ],
   "source": [
    "# Data Frame - Top 5 paid apple categories by spending\n",
    "# Select only the paid apps\n",
    "\n",
    "apple_apps_paid = apple_apps.loc[apple_apps['Price'] >0.00,:]\n",
    "\n",
    "# Convert the value\n",
    "\n",
    "apple_apps_paid= apple_apps_paid.astype({'Price': float})\n",
    "\n",
    "\n",
    "apple_apps_grouped = apple_apps_paid.groupby('Category').agg(\n",
    "                 total_games=('App', 'count'),\n",
    "                 total_spending = ('Price', 'sum'))\n",
    "                \n",
    "apple_apps_paid_top_5 = apple_apps_grouped.sort_values('total_spending', ascending=False)\n",
    "apple_apps_paid_top_5 = apple_apps_paid_top_5.reset_index()\n",
    "apple_apps_paid_top_5\n",
    "apple_apps_paid_top_5 = apple_apps_paid_top_5.iloc[0:5]\n",
    "apple_apps_paid_top_5"
   ]
  },
  {
   "cell_type": "code",
   "execution_count": 23,
   "metadata": {},
   "outputs": [
    {
     "data": {
      "image/png": "[encoded data removed]",
      "text/plain": [
       "<Figure size 864x576 with 1 Axes>"
      ]
     },
     "metadata": {},
     "output_type": "display_data"
    },
    {
     "data": {
      "text/plain": [
       "<Figure size 432x288 with 0 Axes>"
      ]
     },
     "metadata": {},
     "output_type": "display_data"
    }
   ],
   "source": [
    "# plot a pie chart\n",
    "\n",
    "labels = apple_apps_paid_top_5['Category']\n",
    "sizes =  apple_apps_paid_top_5['total_spending']\n",
    "explode = (0.1,0, 0, 0, 0)  \n",
    "\n",
    "fig1, ax1 = plt.subplots(figsize=(12,8))\n",
    "ax1.pie(sizes, explode = explode, labels=labels, autopct='%1.1f%%',\n",
    "        shadow=True, startangle=90, radius = 1.2)\n",
    "plt.title('Top paid Apple Apps by spending\\n\\n')\n",
    "plt.show()\n",
    "plt.savefig('images/as_apple_total_spending.png')"
   ]
  },
  {
   "cell_type": "code",
   "execution_count": 24,
   "metadata": {},
   "outputs": [],
   "source": [
    "#Abbas end"
   ]
  },
  {
   "cell_type": "code",
   "execution_count": 25,
   "metadata": {},
   "outputs": [],
   "source": [
    "#Farshad start"
   ]
  },
  {
   "cell_type": "code",
   "execution_count": 27,
   "metadata": {},
   "outputs": [
    {
     "data": {
      "text/html": [
       "<div>\n",
       "<style scoped>\n",
       "    .dataframe tbody tr th:only-of-type {\n",
       "        vertical-align: middle;\n",
       "    }\n",
       "\n",
       "    .dataframe tbody tr th {\n",
       "        vertical-align: top;\n",
       "    }\n",
       "\n",
       "    .dataframe thead th {\n",
       "        text-align: right;\n",
       "    }\n",
       "</style>\n",
       "<table border=\"1\" class=\"dataframe\">\n",
       "  <thead>\n",
       "    <tr style=\"text-align: right;\">\n",
       "      <th></th>\n",
       "      <th>Category</th>\n",
       "      <th>total_games</th>\n",
       "      <th>highest_rating</th>\n",
       "      <th>lowest_rating</th>\n",
       "      <th>sd</th>\n",
       "    </tr>\n",
       "  </thead>\n",
       "  <tbody>\n",
       "    <tr>\n",
       "      <td>0</td>\n",
       "      <td>Family</td>\n",
       "      <td>1746</td>\n",
       "      <td>5.0</td>\n",
       "      <td>1.0</td>\n",
       "      <td>0.508151</td>\n",
       "    </tr>\n",
       "    <tr>\n",
       "      <td>1</td>\n",
       "      <td>Game</td>\n",
       "      <td>1097</td>\n",
       "      <td>5.0</td>\n",
       "      <td>1.0</td>\n",
       "      <td>0.365375</td>\n",
       "    </tr>\n",
       "    <tr>\n",
       "      <td>2</td>\n",
       "      <td>Tools</td>\n",
       "      <td>733</td>\n",
       "      <td>5.0</td>\n",
       "      <td>1.0</td>\n",
       "      <td>0.616538</td>\n",
       "    </tr>\n",
       "    <tr>\n",
       "      <td>3</td>\n",
       "      <td>Productivity</td>\n",
       "      <td>351</td>\n",
       "      <td>5.0</td>\n",
       "      <td>1.0</td>\n",
       "      <td>0.504931</td>\n",
       "    </tr>\n",
       "    <tr>\n",
       "      <td>4</td>\n",
       "      <td>Medical</td>\n",
       "      <td>350</td>\n",
       "      <td>5.0</td>\n",
       "      <td>1.0</td>\n",
       "      <td>0.663581</td>\n",
       "    </tr>\n",
       "  </tbody>\n",
       "</table>\n",
       "</div>"
      ],
      "text/plain": [
       "       Category  total_games  highest_rating  lowest_rating        sd\n",
       "0        Family         1746             5.0            1.0  0.508151\n",
       "1          Game         1097             5.0            1.0  0.365375\n",
       "2         Tools          733             5.0            1.0  0.616538\n",
       "3  Productivity          351             5.0            1.0  0.504931\n",
       "4       Medical          350             5.0            1.0  0.663581"
      ]
     },
     "execution_count": 27,
     "metadata": {},
     "output_type": "execute_result"
    }
   ],
   "source": [
    "# Data Frame - Top 5 google categories by ratings\n",
    "google_apps_df1 = google_apps.groupby('Category').agg(\n",
    "                 total_games=('App', 'count'),\n",
    "                 highest_rating = ('Google Rating', 'max'),\n",
    "                 lowest_rating = ('Google Rating', 'min'),\n",
    "                 sd = ('Google Rating', 'std'))\n",
    "\n",
    "google_apps_top_5 = google_apps_df1.sort_values('total_games', ascending=False)\n",
    "google_apps_top_5 = google_apps_top_5.reset_index()\n",
    "google_apps_top_5 = google_apps_top_5.iloc[0:5]\n",
    "google_apps_top_5\n"
   ]
  },
  {
   "cell_type": "code",
   "execution_count": 28,
   "metadata": {},
   "outputs": [
    {
     "data": {
      "image/png": "[encoded data removed]",
      "text/plain": [
       "<Figure size 864x576 with 1 Axes>"
      ]
     },
     "metadata": {},
     "output_type": "display_data"
    },
    {
     "data": {
      "text/plain": [
       "<Figure size 432x288 with 0 Axes>"
      ]
     },
     "metadata": {},
     "output_type": "display_data"
    }
   ],
   "source": [
    "# Pie Chart - Top 5 google category by total games\n",
    "labels = google_apps_top_5['Category']\n",
    "sizes =  google_apps_top_5['total_games']\n",
    "explode = (0.1,0, 0, 0, 0)  \n",
    "\n",
    "fig1, ax1 = plt.subplots(figsize=(12,8))\n",
    "ax1.pie(sizes, explode = explode, labels=labels, autopct='%1.1f%%',\n",
    "        shadow=True, startangle=90, radius = 1.2)\n",
    "plt.title(\"Top Five Google App Categories\\n\\n\")\n",
    "plt.show()\n",
    "plt.savefig('images/fe_google_top_rating.png')"
   ]
  },
  {
   "cell_type": "code",
   "execution_count": 30,
   "metadata": {},
   "outputs": [
    {
     "data": {
      "text/html": [
       "<div>\n",
       "<style scoped>\n",
       "    .dataframe tbody tr th:only-of-type {\n",
       "        vertical-align: middle;\n",
       "    }\n",
       "\n",
       "    .dataframe tbody tr th {\n",
       "        vertical-align: top;\n",
       "    }\n",
       "\n",
       "    .dataframe thead th {\n",
       "        text-align: right;\n",
       "    }\n",
       "</style>\n",
       "<table border=\"1\" class=\"dataframe\">\n",
       "  <thead>\n",
       "    <tr style=\"text-align: right;\">\n",
       "      <th></th>\n",
       "      <th>Category</th>\n",
       "      <th>total_games</th>\n",
       "      <th>highest_rating</th>\n",
       "      <th>lowest_rating</th>\n",
       "      <th>sd</th>\n",
       "    </tr>\n",
       "  </thead>\n",
       "  <tbody>\n",
       "    <tr>\n",
       "      <td>0</td>\n",
       "      <td>Game</td>\n",
       "      <td>3862</td>\n",
       "      <td>5.0</td>\n",
       "      <td>0.0</td>\n",
       "      <td>1.468178</td>\n",
       "    </tr>\n",
       "    <tr>\n",
       "      <td>1</td>\n",
       "      <td>Entertainment</td>\n",
       "      <td>535</td>\n",
       "      <td>5.0</td>\n",
       "      <td>0.0</td>\n",
       "      <td>1.437481</td>\n",
       "    </tr>\n",
       "    <tr>\n",
       "      <td>2</td>\n",
       "      <td>Education</td>\n",
       "      <td>453</td>\n",
       "      <td>5.0</td>\n",
       "      <td>0.0</td>\n",
       "      <td>1.543311</td>\n",
       "    </tr>\n",
       "    <tr>\n",
       "      <td>3</td>\n",
       "      <td>Photo &amp; Video</td>\n",
       "      <td>349</td>\n",
       "      <td>5.0</td>\n",
       "      <td>0.0</td>\n",
       "      <td>1.278592</td>\n",
       "    </tr>\n",
       "    <tr>\n",
       "      <td>4</td>\n",
       "      <td>Utilities</td>\n",
       "      <td>248</td>\n",
       "      <td>5.0</td>\n",
       "      <td>0.0</td>\n",
       "      <td>1.473521</td>\n",
       "    </tr>\n",
       "  </tbody>\n",
       "</table>\n",
       "</div>"
      ],
      "text/plain": [
       "        Category  total_games  highest_rating  lowest_rating        sd\n",
       "0           Game         3862             5.0            0.0  1.468178\n",
       "1  Entertainment          535             5.0            0.0  1.437481\n",
       "2      Education          453             5.0            0.0  1.543311\n",
       "3  Photo & Video          349             5.0            0.0  1.278592\n",
       "4      Utilities          248             5.0            0.0  1.473521"
      ]
     },
     "execution_count": 30,
     "metadata": {},
     "output_type": "execute_result"
    }
   ],
   "source": [
    "# Data Frame - Top 5 apple categories by total games\n",
    "apple_apps_df1 = apple_apps.groupby('Category').agg(\n",
    "                  total_games= ('App', 'count'),\n",
    "                  highest_rating = ('Apple Rating', 'max'),\n",
    "                  lowest_rating = ('Apple Rating', 'min'),\n",
    "                  sd = ('Apple Rating', 'std'))\n",
    "\n",
    "\n",
    "apple_apps_top_5 = apple_apps_df1.sort_values('total_games', ascending=False)\n",
    "apple_apps_top_5 = apple_apps_top_5.reset_index()\n",
    "apple_apps_top_5 = apple_apps_top_5.iloc[0:5]\n",
    "apple_apps_top_5\n"
   ]
  },
  {
   "cell_type": "code",
   "execution_count": 31,
   "metadata": {},
   "outputs": [
    {
     "data": {
      "image/png": "[encoded data removed]",
      "text/plain": [
       "<Figure size 864x576 with 1 Axes>"
      ]
     },
     "metadata": {},
     "output_type": "display_data"
    },
    {
     "data": {
      "text/plain": [
       "<Figure size 432x288 with 0 Axes>"
      ]
     },
     "metadata": {},
     "output_type": "display_data"
    }
   ],
   "source": [
    "# Pie Chart - Top 5 apple category by total games\n",
    "labels = apple_apps_top_5['Category']\n",
    "sizes =  apple_apps_top_5['total_games']\n",
    "explode = (0.1,0, 0, 0, 0)  \n",
    "\n",
    "fig1, ax1 = plt.subplots(figsize=(12,8))\n",
    "ax1.pie(sizes, explode = explode, labels=labels, autopct='%1.1f%%',\n",
    "        shadow=True, startangle=90, radius = 1.2)\n",
    "plt.title(\"Top Five Apple App Categories\\n\\n\")\n",
    "plt.show()\n",
    "plt.savefig('images/fe_apple_top_rating.png')"
   ]
  },
  {
   "cell_type": "code",
   "execution_count": 32,
   "metadata": {},
   "outputs": [],
   "source": [
    "# Unpaid apps in google and apple\n",
    "google_apps_unpaid = google_apps.loc[google_apps['Type']=='Free',:]\n",
    "\n",
    "apple_apps_unpaid = apple_apps.loc[apple_apps['Price']==0,:]\n"
   ]
  },
  {
   "cell_type": "code",
   "execution_count": 34,
   "metadata": {},
   "outputs": [
    {
     "data": {
      "text/plain": [
       "Ttest_indResult(statistic=-9.876988547855325, pvalue=7.320722332762754e-23)"
      ]
     },
     "execution_count": 34,
     "metadata": {},
     "output_type": "execute_result"
    }
   ],
   "source": [
    "import scipy.stats as stats\n",
    "# Null Hypothesis: There is no difference in ratings between paid and unpaid apple apps\n",
    "stats.ttest_ind(apple_apps_unpaid[\"Apple Rating\"], apple_apps_paid[\"Apple Rating\"], equal_var=False)\n"
   ]
  },
  {
   "cell_type": "code",
   "execution_count": 36,
   "metadata": {},
   "outputs": [
    {
     "data": {
      "text/plain": [
       "Ttest_indResult(statistic=17.145911722953855, pvalue=3.2184408556026873e-62)"
      ]
     },
     "execution_count": 36,
     "metadata": {},
     "output_type": "execute_result"
    }
   ],
   "source": [
    "# Null Hypothesis: There is no difference in ratings between paid google and apple apps\n",
    "stats.ttest_ind(google_apps_paid.dropna()[\"Google Rating\"], apple_apps_paid.dropna()[\"Apple Rating\"], equal_var=False)"
   ]
  },
  {
   "cell_type": "code",
   "execution_count": 37,
   "metadata": {},
   "outputs": [
    {
     "data": {
      "text/plain": [
       "Ttest_indResult(statistic=-3.6156105754780063, pvalue=0.00032025304094651625)"
      ]
     },
     "execution_count": 37,
     "metadata": {},
     "output_type": "execute_result"
    }
   ],
   "source": [
    "# Null Hypothesis: There is no difference in ratings between paid and unpaid google apps\n",
    "stats.ttest_ind(google_apps_unpaid.dropna()[\"Google Rating\"], google_apps_paid.dropna()[\"Google Rating\"], equal_var=False)"
   ]
  },
  {
   "cell_type": "code",
   "execution_count": 38,
   "metadata": {},
   "outputs": [
    {
     "data": {
      "text/html": [
       "<div>\n",
       "<style scoped>\n",
       "    .dataframe tbody tr th:only-of-type {\n",
       "        vertical-align: middle;\n",
       "    }\n",
       "\n",
       "    .dataframe tbody tr th {\n",
       "        vertical-align: top;\n",
       "    }\n",
       "\n",
       "    .dataframe thead th {\n",
       "        text-align: right;\n",
       "    }\n",
       "</style>\n",
       "<table border=\"1\" class=\"dataframe\">\n",
       "  <thead>\n",
       "    <tr style=\"text-align: right;\">\n",
       "      <th></th>\n",
       "      <th>Price Range</th>\n",
       "      <th>total_games_x</th>\n",
       "      <th>total_games_y</th>\n",
       "    </tr>\n",
       "  </thead>\n",
       "  <tbody>\n",
       "    <tr>\n",
       "      <td>0</td>\n",
       "      <td>&lt;$2</td>\n",
       "      <td>1349</td>\n",
       "      <td>207</td>\n",
       "    </tr>\n",
       "    <tr>\n",
       "      <td>1</td>\n",
       "      <td>$2-4</td>\n",
       "      <td>960</td>\n",
       "      <td>214</td>\n",
       "    </tr>\n",
       "    <tr>\n",
       "      <td>2</td>\n",
       "      <td>$5-10</td>\n",
       "      <td>735</td>\n",
       "      <td>151</td>\n",
       "    </tr>\n",
       "    <tr>\n",
       "      <td>3</td>\n",
       "      <td>&gt;$10</td>\n",
       "      <td>97</td>\n",
       "      <td>73</td>\n",
       "    </tr>\n",
       "  </tbody>\n",
       "</table>\n",
       "</div>"
      ],
      "text/plain": [
       "  Price Range  total_games_x  total_games_y\n",
       "0         <$2           1349            207\n",
       "1        $2-4            960            214\n",
       "2       $5-10            735            151\n",
       "3        >$10             97             73"
      ]
     },
     "execution_count": 38,
     "metadata": {},
     "output_type": "execute_result"
    }
   ],
   "source": [
    "# Binning the apps by price ranges\n",
    "\n",
    "bins = [0.00, 1.99, 3.99, 9.99, 499.99]\n",
    "group_names = ['<$2','$2-4','$5-10','>$10']\n",
    "google_apps_paid['Price Range'] = pd.cut(google_apps_paid['Price'], bins, labels=group_names)\n",
    "google_apps_paid\n",
    "apple_apps_paid['Price Range'] = pd.cut(apple_apps_paid['Price'], bins, labels=group_names)\n",
    "\n",
    "google_apps_paid_ranges = google_apps_paid.groupby(\"Price Range\").agg(\n",
    "                         total_games= ('App', 'count' ))\n",
    "google_apps_paid_ranges\n",
    "apple_apps_paid_ranges = apple_apps_paid.groupby(\"Price Range\").agg(\n",
    "                           total_games = ('App', 'count'))\n",
    "\n",
    "combined_paid_range = pd.merge(apple_apps_paid_ranges, google_apps_paid_ranges, how=\"inner\", on=\"Price Range\")\n",
    "combined_paid_range = combined_paid_range.reset_index()\n",
    "combined_paid_range"
   ]
  },
  {
   "cell_type": "code",
   "execution_count": 39,
   "metadata": {},
   "outputs": [
    {
     "data": {
      "image/png": "[encoded data removed]",
      "text/plain": [
       "<Figure size 1440x504 with 1 Axes>"
      ]
     },
     "metadata": {
      "needs_background": "light"
     },
     "output_type": "display_data"
    },
    {
     "data": {
      "text/plain": [
       "<Figure size 432x288 with 0 Axes>"
      ]
     },
     "metadata": {},
     "output_type": "display_data"
    }
   ],
   "source": [
    "# Plot Bar Chart\n",
    "ind = np.arange(len(combined_paid_range['total_games_x']))\n",
    "width = 0.25\n",
    "\n",
    "fig, ax = plt.subplots(figsize=(20, 7))\n",
    "rects1 = ax.bar(ind - width/2, combined_paid_range['total_games_x'], width, label='Apple games')\n",
    "rects2 = ax.bar(ind + width/2, combined_paid_range['total_games_y'], width, label='Google games')\n",
    "\n",
    "ax.set_ylabel('Total Games')\n",
    "ax.set_title('Total Games by Price Range')\n",
    "ax.set_xticks(ind)\n",
    "ax.set_xticklabels(combined_paid_range['Price Range'], rotation=45)\n",
    "plt.legend(['Apple', 'Google'], loc='upper right')\n",
    "plt.show()\n",
    "plt.savefig('images/fe_spending_ranges.png')"
   ]
  },
  {
   "cell_type": "code",
   "execution_count": 40,
   "metadata": {},
   "outputs": [],
   "source": [
    "#Farshad end"
   ]
  }
 ],
 "metadata": {
  "kernelspec": {
   "display_name": "Python 3",
   "language": "python",
   "name": "python3"
  },
  "language_info": {
   "codemirror_mode": {
    "name": "ipython",
    "version": 3
   },
   "file_extension": ".py",
   "mimetype": "text/x-python",
   "name": "python",
   "nbconvert_exporter": "python",
   "pygments_lexer": "ipython3",
   "version": "3.6.9"
  }
 },
 "nbformat": 4,
 "nbformat_minor": 2
}
