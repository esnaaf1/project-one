{
 "cells": [
  {
   "cell_type": "code",
   "execution_count": null,
   "metadata": {},
   "outputs": [],
   "source": [
    "#Imports packages\n",
    "import pandas as pd\n",
    "import numpy as np\n",
    "import matplotlib.pyplot as plt\n",
    "import scipy.stats as stats"
   ]
  },
  {
   "cell_type": "code",
   "execution_count": null,
   "metadata": {},
   "outputs": [],
   "source": [
    "#Reading CSV files\n",
    "google_apps = pd.read_csv(\"source/Google_Apps_Clean.csv\")\n",
    "google_app_reviews= pd.read_csv(\"source/googleplaystore_user_reviews.csv\")\n",
    "apple_apps= pd.read_csv(\"source/Apple_Apps_Clean.csv\")"
   ]
  },
  {
   "cell_type": "code",
   "execution_count": null,
   "metadata": {},
   "outputs": [],
   "source": [
    "#Barry start "
   ]
  },
  {
   "cell_type": "markdown",
   "metadata": {},
   "source": [
    "# Data Cleaning\n",
    "The first part of my section is to clean the csv files. To prevent conflicts in git we have updated the file names in the above cells with the files I made at the end of this section. I have commented out the code I used to make them as it will not work with the new file names."
   ]
  },
  {
   "cell_type": "code",
   "execution_count": null,
   "metadata": {},
   "outputs": [],
   "source": [
    "# #Looking at the Google Play Store Data\n",
    "# google_apps.head()"
   ]
  },
  {
   "cell_type": "code",
   "execution_count": null,
   "metadata": {},
   "outputs": [],
   "source": [
    "# google_apps2 = google_apps\n",
    "# google_apps2.head()"
   ]
  },
  {
   "cell_type": "code",
   "execution_count": null,
   "metadata": {},
   "outputs": [],
   "source": [
    "# #Looking at number of installs\n",
    "# google_apps2['Installs'].unique()"
   ]
  },
  {
   "cell_type": "code",
   "execution_count": null,
   "metadata": {},
   "outputs": [],
   "source": [
    "# #Something funny going on, looking to see why a Install count is called Free\n",
    "# google_apps2.loc[google_apps2['Installs'] == 'Free']"
   ]
  },
  {
   "cell_type": "code",
   "execution_count": null,
   "metadata": {},
   "outputs": [],
   "source": [
    "# #Found the troublesome row on the play store website, its category is Lifestyle. Checking to see if there is a lifestyle label in our dataframe.\n",
    "# google_apps2['Category'].unique()"
   ]
  },
  {
   "cell_type": "code",
   "execution_count": null,
   "metadata": {},
   "outputs": [],
   "source": [
    "# #Converting row to array for easier manipluation. Insert category and delete the last 'nan'\n",
    "# arr = google_apps2.loc[google_apps2['Installs'] == 'Free'].values\n",
    "# arr = np.insert(arr,1,'LIFESTYLE')\n",
    "# arr = np.delete(arr, -1)\n",
    "# arr"
   ]
  },
  {
   "cell_type": "code",
   "execution_count": null,
   "metadata": {},
   "outputs": [],
   "source": [
    "# #Changing the bad row to the new values\n",
    "# google_apps2.loc[google_apps2['Installs'] == 'Free'] = arr"
   ]
  },
  {
   "cell_type": "code",
   "execution_count": null,
   "metadata": {},
   "outputs": [],
   "source": [
    "# #Checking to see if it worked\n",
    "# google_apps2.iloc[10472]"
   ]
  },
  {
   "cell_type": "code",
   "execution_count": null,
   "metadata": {},
   "outputs": [],
   "source": [
    "# #Checking to see if it worked\n",
    "# google_apps2['Category'].unique()"
   ]
  },
  {
   "cell_type": "code",
   "execution_count": null,
   "metadata": {},
   "outputs": [],
   "source": [
    "# #convert installs row to int \n",
    "# google_apps2['Installs'] = pd.to_numeric(list(map(lambda x: x.replace('+',''), map(lambda x: x.replace(',',''), google_apps2['Installs']))))\n",
    "# google_apps2.head()"
   ]
  },
  {
   "cell_type": "code",
   "execution_count": null,
   "metadata": {},
   "outputs": [],
   "source": [
    "# #Looking at Size column values\n",
    "# google_apps2['Size'].unique()"
   ]
  },
  {
   "cell_type": "code",
   "execution_count": null,
   "metadata": {},
   "outputs": [],
   "source": [
    "# #defining a function to help clean turn values into ints\n",
    "# def M_to_k(string):\n",
    "#     number = 0\n",
    "#     if 'M' in string:\n",
    "#         number = float(string.replace('M',''))\n",
    "#         number = number*1000\n",
    "#     elif 'k' in string:\n",
    "#         number = float(string.replace('k',''))\n",
    "#     number = int(number)\n",
    "#     #if number == 0:\n",
    "#         #number = float('NaN')\n",
    "#     return number;"
   ]
  },
  {
   "cell_type": "code",
   "execution_count": null,
   "metadata": {},
   "outputs": [],
   "source": [
    "# #changing size column to numerics\n",
    "# google_apps2['Size'] = list(map(M_to_k, google_apps2['Size']))\n",
    "# google_apps2.head()"
   ]
  },
  {
   "cell_type": "code",
   "execution_count": null,
   "metadata": {},
   "outputs": [],
   "source": [
    "# google_apps2 = google_apps2.rename(columns = {'Size':'Size in KB'})\n",
    "# google_apps2.head()"
   ]
  },
  {
   "cell_type": "code",
   "execution_count": null,
   "metadata": {},
   "outputs": [],
   "source": [
    "# #looking at apple apps dataframe\n",
    "# apple_apps.head()"
   ]
  },
  {
   "cell_type": "code",
   "execution_count": null,
   "metadata": {},
   "outputs": [],
   "source": [
    "# apple_apps2 = apple_apps\n",
    "# apple_apps2.head()"
   ]
  },
  {
   "cell_type": "code",
   "execution_count": null,
   "metadata": {},
   "outputs": [],
   "source": [
    "# #deleting id column as it doesnt mean anything to us\n",
    "# del apple_apps2['id']\n",
    "# apple_apps2.head()"
   ]
  },
  {
   "cell_type": "code",
   "execution_count": null,
   "metadata": {},
   "outputs": [],
   "source": [
    "# apple_apps2['currency'].unique()"
   ]
  },
  {
   "cell_type": "code",
   "execution_count": null,
   "metadata": {},
   "outputs": [],
   "source": [
    "# #all currency values are USD. Deleting\n",
    "# del apple_apps2['currency']\n",
    "# apple_apps2.head()"
   ]
  },
  {
   "cell_type": "code",
   "execution_count": null,
   "metadata": {},
   "outputs": [],
   "source": [
    "# apple_apps2['game_enab'].unique()"
   ]
  },
  {
   "cell_type": "code",
   "execution_count": null,
   "metadata": {},
   "outputs": [],
   "source": [
    "# del apple_apps2['game_enab']\n",
    "# apple_apps2.head()"
   ]
  },
  {
   "cell_type": "code",
   "execution_count": null,
   "metadata": {},
   "outputs": [],
   "source": [
    "# apple_apps2['vpp_lic'].unique()"
   ]
  },
  {
   "cell_type": "code",
   "execution_count": null,
   "metadata": {},
   "outputs": [],
   "source": [
    "# del apple_apps2['vpp_lic']\n",
    "# apple_apps2.head()"
   ]
  },
  {
   "cell_type": "code",
   "execution_count": null,
   "metadata": {},
   "outputs": [],
   "source": [
    "# #deleting non-useful columns\n",
    "# del apple_apps2['ipadSc_urls.num']\n",
    "# del apple_apps2['sup_devices.num']\n",
    "# del apple_apps2['rating_count_ver']\n",
    "# del apple_apps2['user_rating_ver']\n",
    "# apple_apps2.head()"
   ]
  },
  {
   "cell_type": "code",
   "execution_count": null,
   "metadata": {},
   "outputs": [],
   "source": [
    "# apple_apps2['size_bytes'] = list(map(lambda x: int(x/1000),apple_apps2['size_bytes']))\n",
    "# apple_apps2.head()"
   ]
  },
  {
   "cell_type": "code",
   "execution_count": null,
   "metadata": {},
   "outputs": [],
   "source": [
    "# apple_apps2 = apple_apps2.rename(columns = {'track_name':'App','size_bytes':'Size in KB','price':'Price','rating_count_tot':'Reviews','user_rating':'Rating','ver':'Current Version','cont_rating':'Content Rating','prime_genre':'Category','lang.num':'Number of Languages'})\n",
    "# apple_apps2.head()"
   ]
  },
  {
   "cell_type": "code",
   "execution_count": null,
   "metadata": {},
   "outputs": [],
   "source": [
    "# apple_apps2 = apple_apps2[['App','Category','Rating','Reviews','Size in KB','Price','Content Rating','Current Version','Number of Languages']]\n",
    "# apple_apps2.head()"
   ]
  },
  {
   "cell_type": "code",
   "execution_count": null,
   "metadata": {},
   "outputs": [],
   "source": [
    "# apple_apps2['Content Rating'].value_counts()"
   ]
  },
  {
   "cell_type": "code",
   "execution_count": null,
   "metadata": {},
   "outputs": [],
   "source": [
    "# google_apps2['Content Rating'].value_counts()"
   ]
  },
  {
   "cell_type": "code",
   "execution_count": null,
   "metadata": {},
   "outputs": [],
   "source": [
    "# def ContentConverter(string):\n",
    "#     if string == '4+':\n",
    "#         string = 'Everyone'\n",
    "#     elif string == '9+':\n",
    "#         string = 'Everyone 10+'\n",
    "#     elif string == '12+':\n",
    "#         string = 'Teen'\n",
    "#     elif string == '17+':\n",
    "#         string = 'Mature 17+'\n",
    "#     else:\n",
    "#         string = 'Unrated'\n",
    "#     return string;   "
   ]
  },
  {
   "cell_type": "code",
   "execution_count": null,
   "metadata": {},
   "outputs": [],
   "source": [
    "# #Standardizing content ratings\n",
    "# apple_apps2['Content Rating'] = list(map(ContentConverter, apple_apps2['Content Rating']))\n",
    "# apple_apps2['Content Rating'].value_counts()"
   ]
  },
  {
   "cell_type": "code",
   "execution_count": null,
   "metadata": {},
   "outputs": [],
   "source": [
    "# apple_apps2.head()"
   ]
  },
  {
   "cell_type": "code",
   "execution_count": null,
   "metadata": {},
   "outputs": [],
   "source": [
    "# apple_categories = list(apple_apps2['Category'].unique())\n",
    "# del apple_categories[10]\n",
    "# apple_categories"
   ]
  },
  {
   "cell_type": "code",
   "execution_count": null,
   "metadata": {},
   "outputs": [],
   "source": [
    "# apple_categories.sort()\n",
    "# apple_categories"
   ]
  },
  {
   "cell_type": "code",
   "execution_count": null,
   "metadata": {},
   "outputs": [],
   "source": [
    "# list(google_apps2['Category'].unique())"
   ]
  },
  {
   "cell_type": "code",
   "execution_count": null,
   "metadata": {},
   "outputs": [],
   "source": [
    "# test_column = list(map(lambda x: x.replace('_',' '), google_apps2['Category']))"
   ]
  },
  {
   "cell_type": "code",
   "execution_count": null,
   "metadata": {},
   "outputs": [],
   "source": [
    "# test_column = list(map(lambda x: x.title() , test_column))"
   ]
  },
  {
   "cell_type": "code",
   "execution_count": null,
   "metadata": {},
   "outputs": [],
   "source": [
    "# test_column = list(map(lambda x: x.replace('And','&'),test_column))"
   ]
  },
  {
   "cell_type": "code",
   "execution_count": null,
   "metadata": {},
   "outputs": [],
   "source": [
    "# google_apps2['Category'] = test_column\n",
    "# google_apps2.head()"
   ]
  },
  {
   "cell_type": "code",
   "execution_count": null,
   "metadata": {},
   "outputs": [],
   "source": [
    "# list(google_apps2['Category'].unique())"
   ]
  },
  {
   "cell_type": "code",
   "execution_count": null,
   "metadata": {},
   "outputs": [],
   "source": [
    "# categories = list(google_apps2['Category'].unique())"
   ]
  },
  {
   "cell_type": "code",
   "execution_count": null,
   "metadata": {},
   "outputs": [],
   "source": [
    "# categories.extend(apple_categories)"
   ]
  },
  {
   "cell_type": "code",
   "execution_count": null,
   "metadata": {},
   "outputs": [],
   "source": [
    "# categories.sort()"
   ]
  },
  {
   "cell_type": "code",
   "execution_count": null,
   "metadata": {
    "scrolled": true
   },
   "outputs": [],
   "source": [
    "# categories"
   ]
  },
  {
   "cell_type": "code",
   "execution_count": null,
   "metadata": {},
   "outputs": [],
   "source": [
    "# def nan_handler(input):\n",
    "#     output = ''\n",
    "#     if isinstance(input, str):\n",
    "#         output = input\n",
    "#     else:\n",
    "#         output = 'None'\n",
    "#     return output;\n",
    "\n",
    "        "
   ]
  },
  {
   "cell_type": "code",
   "execution_count": null,
   "metadata": {},
   "outputs": [],
   "source": [
    "# apple_apps2['Category'] = list(map(nan_handler, apple_apps2['Category']))"
   ]
  },
  {
   "cell_type": "code",
   "execution_count": null,
   "metadata": {},
   "outputs": [],
   "source": [
    "# apple_apps2['Category'] = list(map(lambda x: x.replace('Games','Game'), apple_apps2['Category']))"
   ]
  },
  {
   "cell_type": "code",
   "execution_count": null,
   "metadata": {},
   "outputs": [],
   "source": [
    "# apple_apps2['Category'] = list(map(lambda x: x.replace('Navigation','Maps & Navigation'), apple_apps2['Category']))"
   ]
  },
  {
   "cell_type": "code",
   "execution_count": null,
   "metadata": {},
   "outputs": [],
   "source": [
    "# apple_apps2['Category'] = list(map(lambda x: x.replace('News','News & Magazines'), apple_apps2['Category']))"
   ]
  },
  {
   "cell_type": "code",
   "execution_count": null,
   "metadata": {},
   "outputs": [],
   "source": [
    "# apple_apps2['Category'] = list(map(lambda x: x.replace('Book','Books & Reference'), apple_apps2['Category']))"
   ]
  },
  {
   "cell_type": "code",
   "execution_count": null,
   "metadata": {},
   "outputs": [],
   "source": [
    "# apple_apps2['Category'] = list(map(lambda x: x.replace('Reference','Books & Reference'), apple_apps2['Category']))"
   ]
  },
  {
   "cell_type": "code",
   "execution_count": null,
   "metadata": {},
   "outputs": [],
   "source": [
    "# apple_apps2['Category'] = list(map(lambda x: x.replace('Social Networking','Social'), apple_apps2['Category']))"
   ]
  },
  {
   "cell_type": "code",
   "execution_count": null,
   "metadata": {},
   "outputs": [],
   "source": [
    "# apple_apps2['Category'] = list(map(lambda x: x.replace('Travel','Travel & Local'), apple_apps2['Category']))"
   ]
  },
  {
   "cell_type": "code",
   "execution_count": null,
   "metadata": {},
   "outputs": [],
   "source": [
    "# apple_apps2['Category'].unique()"
   ]
  },
  {
   "cell_type": "code",
   "execution_count": null,
   "metadata": {},
   "outputs": [],
   "source": [
    "# apple_apps2['Category'] = list(map(lambda x: x.replace('Books & Books & Reference','Books & Reference'), apple_apps2['Category']))"
   ]
  },
  {
   "cell_type": "code",
   "execution_count": null,
   "metadata": {},
   "outputs": [],
   "source": [
    "# apple_apps2['Category'].unique()"
   ]
  },
  {
   "cell_type": "code",
   "execution_count": null,
   "metadata": {},
   "outputs": [],
   "source": [
    "# apple_apps2.head()"
   ]
  },
  {
   "cell_type": "code",
   "execution_count": null,
   "metadata": {},
   "outputs": [],
   "source": [
    "# google_apps2.head()"
   ]
  },
  {
   "cell_type": "code",
   "execution_count": null,
   "metadata": {
    "scrolled": true
   },
   "outputs": [],
   "source": [
    "# google_apps2 = google_apps2.rename(columns = {'Current Ver': 'Current Version'})\n",
    "# google_apps2.head()"
   ]
  },
  {
   "cell_type": "code",
   "execution_count": null,
   "metadata": {},
   "outputs": [],
   "source": [
    "# import os"
   ]
  },
  {
   "cell_type": "code",
   "execution_count": null,
   "metadata": {},
   "outputs": [],
   "source": [
    "# output_google = os.path.join(\"source\",\"Google_Apps_Clean.csv\")\n",
    "# google_apps2.to_csv(output_google, index = False, header = True)"
   ]
  },
  {
   "cell_type": "code",
   "execution_count": null,
   "metadata": {},
   "outputs": [],
   "source": [
    "# output_apple = os.path.join('source','Apple_Apps_Clean.csv')\n",
    "# apple_apps2.to_csv(output_apple, index = False, header = True)"
   ]
  },
  {
   "cell_type": "code",
   "execution_count": null,
   "metadata": {},
   "outputs": [],
   "source": [
    "google_apps.head()"
   ]
  },
  {
   "cell_type": "code",
   "execution_count": null,
   "metadata": {},
   "outputs": [],
   "source": [
    "select_data1 = pd.DataFrame(google_apps, columns = ['App','Category','Installs','Size in KB'])\n",
    "select_data1.head()"
   ]
  },
  {
   "cell_type": "code",
   "execution_count": null,
   "metadata": {},
   "outputs": [],
   "source": [
    "select_data1 = select_data1.drop_duplicates()"
   ]
  },
  {
   "cell_type": "code",
   "execution_count": null,
   "metadata": {},
   "outputs": [],
   "source": [
    "select_data1_group1 = select_data1.groupby( by = select_data1['Installs'])\n",
    "check_this_out1 = select_data1_group1.mean()\n",
    "check_this_out1"
   ]
  },
  {
   "cell_type": "code",
   "execution_count": null,
   "metadata": {},
   "outputs": [],
   "source": [
    "x_axis = np.arange(len(check_this_out1.index))\n",
    "x_axis"
   ]
  },
  {
   "cell_type": "code",
   "execution_count": null,
   "metadata": {
    "scrolled": false
   },
   "outputs": [],
   "source": [
    "plt.figure(figsize = [10,10])\n",
    "#check_this_out1.plot.bar()\n",
    "plt.bar(x_axis, list(check_this_out1['Size in KB']))\n",
    "plt.title('File Size vs Number of Installs',fontsize = 25)\n",
    "plt.xlabel('Number of Installs',fontsize = 15)\n",
    "plt.ylabel('File Size (KB)',fontsize = 15)\n",
    "tick_locations = [value for value in x_axis]\n",
    "plt.xticks(tick_locations, check_this_out1.index, rotation = 'vertical')\n",
    "plt.savefig('images/File_Size_vs_Installs_BJT.png')\n",
    "plt.show()"
   ]
  },
  {
   "cell_type": "code",
   "execution_count": null,
   "metadata": {},
   "outputs": [],
   "source": [
    "from scipy.stats import chisquare"
   ]
  },
  {
   "cell_type": "code",
   "execution_count": null,
   "metadata": {},
   "outputs": [],
   "source": [
    "chisquare(select_data1['Installs'])"
   ]
  },
  {
   "cell_type": "code",
   "execution_count": null,
   "metadata": {},
   "outputs": [],
   "source": [
    "select_data1['Size in KB'].mean()"
   ]
  },
  {
   "cell_type": "code",
   "execution_count": null,
   "metadata": {},
   "outputs": [],
   "source": [
    "select_data1_group1.count()['Size in KB']"
   ]
  },
  {
   "cell_type": "code",
   "execution_count": null,
   "metadata": {},
   "outputs": [],
   "source": [
    "select_data1.loc[select_data1['Installs'] == 1000000000]"
   ]
  },
  {
   "cell_type": "code",
   "execution_count": null,
   "metadata": {},
   "outputs": [],
   "source": [
    "select_data1_group2 = select_data1.loc[select_data1['Category']=='Game'].groupby(by = select_data1['Installs'])\n",
    "check_this_out2 = select_data1_group2.mean()\n",
    "check_this_out2"
   ]
  },
  {
   "cell_type": "code",
   "execution_count": null,
   "metadata": {},
   "outputs": [],
   "source": [
    "select_data1_group2.count()"
   ]
  },
  {
   "cell_type": "code",
   "execution_count": null,
   "metadata": {},
   "outputs": [],
   "source": [
    "x_axis = np.arange(len(check_this_out2.index))\n",
    "x_axis"
   ]
  },
  {
   "cell_type": "code",
   "execution_count": null,
   "metadata": {},
   "outputs": [],
   "source": [
    "plt.figure(figsize = [10,10])\n",
    "plt.bar(x_axis, list(check_this_out2['Size in KB']))\n",
    "plt.title('File Size vs Number of Installs for Games',fontsize = 25)\n",
    "plt.xlabel('Number of Installs',fontsize = 15)\n",
    "plt.ylabel('File Size (KB)',fontsize = 15)\n",
    "tick_locations = [value for value in x_axis]\n",
    "plt.xticks(tick_locations, check_this_out2.index, rotation = 'vertical')\n",
    "plt.savefig('images/File_Size_vs_Installs_Games_BJT.png')\n",
    "plt.show()"
   ]
  },
  {
   "cell_type": "code",
   "execution_count": null,
   "metadata": {},
   "outputs": [],
   "source": [
    "from scipy.stats import linregress\n",
    "line = linregress(check_this_out2.index, check_this_out2['Size in KB'])\n",
    "line"
   ]
  },
  {
   "cell_type": "code",
   "execution_count": null,
   "metadata": {},
   "outputs": [],
   "source": [
    "line[0]"
   ]
  },
  {
   "cell_type": "code",
   "execution_count": null,
   "metadata": {},
   "outputs": [],
   "source": [
    "log_axis = np.log10(check_this_out2.index)\n",
    "log_axis"
   ]
  },
  {
   "cell_type": "code",
   "execution_count": null,
   "metadata": {},
   "outputs": [],
   "source": [
    "plt.scatter(log_axis,check_this_out2['Size in KB'])\n",
    "plt.show()"
   ]
  },
  {
   "cell_type": "code",
   "execution_count": null,
   "metadata": {},
   "outputs": [],
   "source": [
    "line2 = linregress(log_axis, check_this_out2['Size in KB'])\n",
    "line2"
   ]
  },
  {
   "cell_type": "code",
   "execution_count": null,
   "metadata": {},
   "outputs": [],
   "source": [
    "line3 = linregress(check_this_out2['Size in KB'], log_axis)\n",
    "line3"
   ]
  },
  {
   "cell_type": "code",
   "execution_count": null,
   "metadata": {},
   "outputs": [],
   "source": [
    "#y = mx + b\n",
    "def line_eq(x):\n",
    "    return line3[0]*x+line3[1]\n"
   ]
  },
  {
   "cell_type": "code",
   "execution_count": null,
   "metadata": {},
   "outputs": [],
   "source": [
    "line_eq(10000)\n"
   ]
  },
  {
   "cell_type": "code",
   "execution_count": null,
   "metadata": {},
   "outputs": [],
   "source": [
    "plt.figure(figsize = [10,10])\n",
    "plt.scatter(check_this_out2['Size in KB'], log_axis)#,check_this_out2['Size in KB'])\n",
    "plt.title('Log(Installs) vs File Size', fontsize = 25)\n",
    "plt.xlabel('File Size in KB', fontsize = 15)\n",
    "plt.ylabel('Log(Installs)',fontsize = 15)\n",
    "plt.plot([10000,73000],[line_eq(10000),line_eq(73000)], color='orange', marker='.', linestyle='dashed')\n",
    "plt.savefig('images/Log_Installs_vs_File_Size_BJT.png')\n",
    "plt.show()"
   ]
  },
  {
   "cell_type": "code",
   "execution_count": null,
   "metadata": {},
   "outputs": [],
   "source": []
  },
  {
   "cell_type": "code",
   "execution_count": null,
   "metadata": {},
   "outputs": [],
   "source": []
  },
  {
   "cell_type": "code",
   "execution_count": null,
   "metadata": {},
   "outputs": [],
   "source": []
  },
  {
   "cell_type": "code",
   "execution_count": null,
   "metadata": {},
   "outputs": [],
   "source": [
    "#Barry end"
   ]
  },
  {
   "cell_type": "code",
   "execution_count": null,
   "metadata": {},
   "outputs": [],
   "source": [
    "# Sam start\n",
    "\n",
    "# Found the count for each column in the Google dataframe to look for missing values using the count function.\n",
    "google_apps.count()"
   ]
  },
  {
   "cell_type": "code",
   "execution_count": null,
   "metadata": {},
   "outputs": [],
   "source": [
    "# Dropped any null rows using the dropna function.\n",
    "google_apps = google_apps.dropna(how='any')\n",
    "google_apps.count()"
   ]
  },
  {
   "cell_type": "code",
   "execution_count": null,
   "metadata": {},
   "outputs": [],
   "source": [
    "# Found the count for each column in the Apple dataframe to look for missing values using the count function.\n",
    "apple_apps.count()"
   ]
  },
  {
   "cell_type": "code",
   "execution_count": null,
   "metadata": {},
   "outputs": [],
   "source": [
    "# Dropped any null rows using the dropna function.\n",
    "apple_apps = apple_apps.dropna(how='any')\n",
    "apple_apps.count()"
   ]
  },
  {
   "cell_type": "code",
   "execution_count": null,
   "metadata": {},
   "outputs": [],
   "source": [
    "# Renamed the Rating column to Google Rating with the rename column function.\n",
    "google_apps = google_apps.rename(columns={\"Rating\": \"Google Rating\"})\n",
    "\n",
    "# Renamed the Rating column to Apple Rating with the rename column function.\n",
    "apple_apps = apple_apps.rename(columns={\"Rating\": \"Apple Rating\"})"
   ]
  },
  {
   "cell_type": "code",
   "execution_count": null,
   "metadata": {},
   "outputs": [],
   "source": [
    "# Used GroupBy function in order to separate the data into fields according to \"Category\" values.\n",
    "google_apps_category = google_apps.groupby(\"Category\")\n",
    "\n",
    "# Got the average of the Rating column in the GroupBy object using the mean function.\n",
    "google_apps_mean = google_apps_category[[\"Google Rating\"]].mean()\n",
    "google_apps_mean"
   ]
  },
  {
   "cell_type": "code",
   "execution_count": null,
   "metadata": {},
   "outputs": [],
   "source": [
    "# Used GroupBy function in order to separate the data into fields according to \"Category\" values.\n",
    "apple_apps_category = apple_apps.groupby(\"Category\")\n",
    "\n",
    "# Got the average of the Rating column in the GroupBy object using the mean function.\n",
    "apple_apps_mean = apple_apps_category[[\"Apple Rating\"]].mean()\n",
    "apple_apps_mean"
   ]
  },
  {
   "cell_type": "code",
   "execution_count": null,
   "metadata": {},
   "outputs": [],
   "source": [
    "# Merged both dataframes together based on the Categories they share by using the merge function.\n",
    "google_apple_merge = pd.merge(google_apps_mean, apple_apps_mean, on=\"Category\")\n",
    "google_apple_merge"
   ]
  },
  {
   "cell_type": "code",
   "execution_count": null,
   "metadata": {},
   "outputs": [],
   "source": [
    "# Renamed the Rating columns to Average Google and Average Apple Rating with the rename column function.\n",
    "google_apple_merge = google_apple_merge.rename(columns={\"Google Rating\": \"Average Google Rating\", \"Apple Rating\": \"Average Apple Rating\"})\n",
    "google_apple_merge\n"
   ]
  },
  {
   "cell_type": "code",
   "execution_count": null,
   "metadata": {},
   "outputs": [],
   "source": [
    "# Reset the index so that the index is now based on the different Categories.\n",
    "google_apple_merge = google_apple_merge.reset_index()\n",
    "google_apple_merge"
   ]
  },
  {
   "cell_type": "code",
   "execution_count": null,
   "metadata": {},
   "outputs": [],
   "source": [
    "\n",
    "# Created a bar chart from the google_apple_merge dataframe comparing the average ratings of the app categories.\n",
    "# Title will be 'Average Rating by Category'\n",
    "# x-axis labels will be the different categories and the y-axis will be 'Average Rating'\n",
    "ind = np.arange(len(google_apple_merge['Average Google Rating']))\n",
    "width = 0.25\n",
    "\n",
    "fig, ax = plt.subplots(figsize=(20, 7))\n",
    "rects1 = ax.bar(ind - width/2, google_apple_merge['Average Google Rating'], width, label='Google')\n",
    "rects2 = ax.bar(ind + width/2, google_apple_merge['Average Apple Rating'], width, label='Apple')\n",
    "\n",
    "\n",
    "plt.ylim(0, 5)\n",
    "\n",
    "ax.set_ylabel('Average Rating', fontsize=18)\n",
    "ax.set_title('Average Rating by Category', fontsize=25)\n",
    "ax.set_xticks(ind)\n",
    "ax.set_xticklabels(google_apple_merge['Category'], rotation=45, fontsize=15)\n",
    "plt.legend(['Average Google Rating', 'Average Apple Rating'], loc='upper right', fontsize=15)\n",
    "plt.savefig(\"Images/avg_rting_sk_bgraph.png\")\n",
    "\n"
   ]
  },
  {
   "cell_type": "code",
   "execution_count": null,
   "metadata": {},
   "outputs": [],
   "source": [
    "# Found the average rating for all of the Google apps using the mean function.\n",
    "google_pop = google_apps['Google Rating']\n",
    "google_pop.mean()"
   ]
  },
  {
   "cell_type": "code",
   "execution_count": null,
   "metadata": {},
   "outputs": [],
   "source": [
    "# Found the average rating for all of the Apple apps using the mean function.\n",
    "apple_pop = apple_apps['Apple Rating']\n",
    "apple_pop.mean()"
   ]
  },
  {
   "cell_type": "code",
   "execution_count": null,
   "metadata": {},
   "outputs": [],
   "source": [
    "# Null Hypothesis: There is no difference in ratings between the common app categories included in the Google and Apple dataframes.\n",
    "\n",
    "# Calculated the Independent (Two Sample) T-Test\n",
    "stats.ttest_ind(google_pop, apple_pop, equal_var=False)\n",
    "\n",
    "# The pvalue is less than .05 which tells us that the Null Hypothesis will be rejected and there is a significant difference.\n",
    "\n",
    "#Sam end"
   ]
  },
  {
   "cell_type": "code",
   "execution_count": null,
   "metadata": {},
   "outputs": [],
   "source": [
    "#Abbas start"
   ]
  },
  {
   "cell_type": "code",
   "execution_count": null,
   "metadata": {},
   "outputs": [],
   "source": [
    "google_apps.count()\n",
    "google_apps= google_apps.dropna(how='any')\n",
    "google_apps.count()\n",
    "\n",
    "apple_apps.count()\n",
    "apple_apps = apple_apps.dropna(how='any')\n",
    "apple_apps.count()"
   ]
  },
  {
   "cell_type": "code",
   "execution_count": null,
   "metadata": {},
   "outputs": [],
   "source": [
    "# Data Frame - Top 5 paid google categories by spending\n",
    "# Select only the paid apps\n",
    "\n",
    "google_apps_paid = google_apps.loc[google_apps['Type']==\"Paid\",:]\n",
    "\n",
    "# Convert the value\n",
    "google_apps_paid.loc[:,'Price']=google_apps_paid['Price'].str.replace('$','')\n",
    "google_apps_paid= google_apps_paid.astype({'Price': float})\n",
    "\n",
    "google_apps_grouped = google_apps_paid.groupby('Category').agg(\n",
    "                 total_games=('App', 'count'),\n",
    "                 total_spending = ('Price', 'sum'))\n",
    "\n",
    "google_apps_paid_top_5 = google_apps_grouped.sort_values('total_spending', ascending=False)\n",
    "google_apps_paid_top_5 = google_apps_paid_top_5.reset_index()\n",
    "google_apps_paid_top_5 = google_apps_paid_top_5.iloc[0:5]\n",
    "google_apps_paid_top_5"
   ]
  },
  {
   "cell_type": "code",
   "execution_count": null,
   "metadata": {},
   "outputs": [],
   "source": [
    "# plot a pie chart\n",
    "\n",
    "labels = google_apps_paid_top_5['Category']\n",
    "sizes =  google_apps_paid_top_5['total_spending']\n",
    "explode = (0.1,0, 0, 0, 0)  \n",
    "\n",
    "fig1, ax1 = plt.subplots(figsize=(12,8))\n",
    "ax1.pie(sizes, explode = explode, labels=labels, autopct='%1.1f%%',\n",
    "        shadow=True, startangle=90, radius = 1.2)\n",
    "plt.title('Top paid Google Apps by spending\\n\\n')\n",
    "plt.show()\n",
    "plt.savefig('images/as_google_total_spending.png')"
   ]
  },
  {
   "cell_type": "code",
   "execution_count": null,
   "metadata": {},
   "outputs": [],
   "source": [
    "# Data Frame - Top 5 paid apple categories by spending\n",
    "# Select only the paid apps\n",
    "\n",
    "apple_apps_paid = apple_apps.loc[apple_apps['Price'] >0.00,:]\n",
    "\n",
    "# Convert the value\n",
    "\n",
    "apple_apps_paid= apple_apps_paid.astype({'Price': float})\n",
    "\n",
    "\n",
    "apple_apps_grouped = apple_apps_paid.groupby('Category').agg(\n",
    "                 total_games=('App', 'count'),\n",
    "                 total_spending = ('Price', 'sum'))\n",
    "                \n",
    "apple_apps_paid_top_5 = apple_apps_grouped.sort_values('total_spending', ascending=False)\n",
    "apple_apps_paid_top_5 = apple_apps_paid_top_5.reset_index()\n",
    "apple_apps_paid_top_5\n",
    "apple_apps_paid_top_5 = apple_apps_paid_top_5.iloc[0:5]\n",
    "apple_apps_paid_top_5"
   ]
  },
  {
   "cell_type": "code",
   "execution_count": null,
   "metadata": {},
   "outputs": [],
   "source": [
    "# plot a pie chart\n",
    "\n",
    "labels = apple_apps_paid_top_5['Category']\n",
    "sizes =  apple_apps_paid_top_5['total_spending']\n",
    "explode = (0.1,0, 0, 0, 0)  \n",
    "\n",
    "fig1, ax1 = plt.subplots(figsize=(12,8))\n",
    "ax1.pie(sizes, explode = explode, labels=labels, autopct='%1.1f%%',\n",
    "        shadow=True, startangle=90, radius = 1.2)\n",
    "plt.title('Top paid Apple Apps by spending\\n\\n')\n",
    "plt.show()\n",
    "plt.savefig('images/as_apple_total_spending.png')"
   ]
  },
  {
   "cell_type": "code",
   "execution_count": null,
   "metadata": {},
   "outputs": [],
   "source": [
    "#Abbas end"
   ]
  },
  {
   "cell_type": "code",
   "execution_count": null,
   "metadata": {},
   "outputs": [],
   "source": [
    "#Farshad start"
   ]
  },
  {
   "cell_type": "code",
   "execution_count": null,
   "metadata": {},
   "outputs": [],
   "source": [
    "# Data Frame - Top 5 google categories by ratings\n",
    "google_apps_df1 = google_apps.groupby('Category').agg(\n",
    "                 total_games=('App', 'count'),\n",
    "                 highest_rating = ('Google Rating', 'max'),\n",
    "                 lowest_rating = ('Google Rating', 'min'),\n",
    "                 sd = ('Google Rating', 'std'))\n",
    "\n",
    "google_apps_top_5 = google_apps_df1.sort_values('total_games', ascending=False)\n",
    "google_apps_top_5 = google_apps_top_5.reset_index()\n",
    "google_apps_top_5 = google_apps_top_5.iloc[0:5]\n",
    "google_apps_top_5\n"
   ]
  },
  {
   "cell_type": "code",
   "execution_count": null,
   "metadata": {},
   "outputs": [],
   "source": [
    "# Pie Chart - Top 5 google category by total games\n",
    "labels = google_apps_top_5['Category']\n",
    "sizes =  google_apps_top_5['total_games']\n",
    "explode = (0.1,0, 0, 0, 0)  \n",
    "\n",
    "fig1, ax1 = plt.subplots(figsize=(12,8))\n",
    "ax1.pie(sizes, explode = explode, labels=labels, autopct='%1.1f%%',\n",
    "        shadow=True, startangle=90, radius = 1.2)\n",
    "plt.title(\"Top Five Google App Categories\\n\\n\")\n",
    "plt.show()\n",
    "plt.savefig('images/fe_google_top_rating.png')"
   ]
  },
  {
   "cell_type": "code",
   "execution_count": null,
   "metadata": {},
   "outputs": [],
   "source": [
    "# Data Frame - Top 5 apple categories by total games\n",
    "apple_apps_df1 = apple_apps.groupby('Category').agg(\n",
    "                  total_games= ('App', 'count'),\n",
    "                  highest_rating = ('Apple Rating', 'max'),\n",
    "                  lowest_rating = ('Apple Rating', 'min'),\n",
    "                  sd = ('Apple Rating', 'std'))\n",
    "\n",
    "\n",
    "apple_apps_top_5 = apple_apps_df1.sort_values('total_games', ascending=False)\n",
    "apple_apps_top_5 = apple_apps_top_5.reset_index()\n",
    "apple_apps_top_5 = apple_apps_top_5.iloc[0:5]\n",
    "apple_apps_top_5\n"
   ]
  },
  {
   "cell_type": "code",
   "execution_count": null,
   "metadata": {},
   "outputs": [],
   "source": [
    "# Pie Chart - Top 5 apple category by total games\n",
    "labels = apple_apps_top_5['Category']\n",
    "sizes =  apple_apps_top_5['total_games']\n",
    "explode = (0.1,0, 0, 0, 0)  \n",
    "\n",
    "fig1, ax1 = plt.subplots(figsize=(12,8))\n",
    "ax1.pie(sizes, explode = explode, labels=labels, autopct='%1.1f%%',\n",
    "        shadow=True, startangle=90, radius = 1.2)\n",
    "plt.title(\"Top Five Apple App Categories\\n\\n\")\n",
    "plt.show()\n",
    "plt.savefig('images/fe_apple_top_rating.png')"
   ]
  },
  {
   "cell_type": "code",
   "execution_count": null,
   "metadata": {},
   "outputs": [],
   "source": [
    "# Unpaid apps in google and apple\n",
    "google_apps_unpaid = google_apps.loc[google_apps['Type']=='Free',:]\n",
    "\n",
    "apple_apps_unpaid = apple_apps.loc[apple_apps['Price']==0,:]\n"
   ]
  },
  {
   "cell_type": "code",
   "execution_count": null,
   "metadata": {},
   "outputs": [],
   "source": [
    "import scipy.stats as stats\n",
    "# Null Hypothesis: There is no difference in ratings between paid and unpaid apple apps\n",
    "stats.ttest_ind(apple_apps_unpaid[\"Apple Rating\"], apple_apps_paid[\"Apple Rating\"], equal_var=False)\n"
   ]
  },
  {
   "cell_type": "code",
   "execution_count": null,
   "metadata": {},
   "outputs": [],
   "source": [
    "# Null Hypothesis: There is no difference in ratings between paid google and apple apps\n",
    "stats.ttest_ind(google_apps_paid.dropna()[\"Google Rating\"], apple_apps_paid.dropna()[\"Apple Rating\"], equal_var=False)"
   ]
  },
  {
   "cell_type": "code",
   "execution_count": null,
   "metadata": {},
   "outputs": [],
   "source": [
    "# Null Hypothesis: There is no difference in ratings between paid and unpaid google apps\n",
    "stats.ttest_ind(google_apps_unpaid.dropna()[\"Google Rating\"], google_apps_paid.dropna()[\"Google Rating\"], equal_var=False)"
   ]
  },
  {
   "cell_type": "code",
   "execution_count": null,
   "metadata": {},
   "outputs": [],
   "source": [
    "# Binning the apps by price ranges\n",
    "\n",
    "bins = [0.00, 1.99, 3.99, 9.99, 499.99]\n",
    "group_names = ['<$2','$2-4','$5-10','>$10']\n",
    "google_apps_paid['Price Range'] = pd.cut(google_apps_paid['Price'], bins, labels=group_names)\n",
    "google_apps_paid\n",
    "apple_apps_paid['Price Range'] = pd.cut(apple_apps_paid['Price'], bins, labels=group_names)\n",
    "\n",
    "google_apps_paid_ranges = google_apps_paid.groupby(\"Price Range\").agg(\n",
    "                         total_games= ('App', 'count' ))\n",
    "google_apps_paid_ranges\n",
    "apple_apps_paid_ranges = apple_apps_paid.groupby(\"Price Range\").agg(\n",
    "                           total_games = ('App', 'count'))\n",
    "\n",
    "combined_paid_range = pd.merge(apple_apps_paid_ranges, google_apps_paid_ranges, how=\"inner\", on=\"Price Range\")\n",
    "combined_paid_range = combined_paid_range.reset_index()\n",
    "combined_paid_range"
   ]
  },
  {
   "cell_type": "code",
   "execution_count": null,
   "metadata": {},
   "outputs": [],
   "source": [
    "# Plot Bar Chart\n",
    "ind = np.arange(len(combined_paid_range['total_games_x']))\n",
    "width = 0.25\n",
    "\n",
    "fig, ax = plt.subplots(figsize=(20, 7))\n",
    "rects1 = ax.bar(ind - width/2, combined_paid_range['total_games_x'], width, label='Apple games')\n",
    "rects2 = ax.bar(ind + width/2, combined_paid_range['total_games_y'], width, label='Google games')\n",
    "\n",
    "ax.set_ylabel('Total Games')\n",
    "ax.set_title('Total Games by Price Range')\n",
    "ax.set_xticks(ind)\n",
    "ax.set_xticklabels(combined_paid_range['Price Range'], rotation=45)\n",
    "plt.legend(['Apple', 'Google'], loc='upper right')\n",
    "plt.show()\n",
    "plt.savefig('images/fe_spending_ranges.png')"
   ]
  },
  {
   "cell_type": "code",
   "execution_count": null,
   "metadata": {},
   "outputs": [],
   "source": [
    "#Farshad end"
   ]
  }
 ],
 "metadata": {
  "kernelspec": {
   "display_name": "Python 3",
   "language": "python",
   "name": "python3"
  },
  "language_info": {
   "codemirror_mode": {
    "name": "ipython",
    "version": 3
   },
   "file_extension": ".py",
   "mimetype": "text/x-python",
   "name": "python",
   "nbconvert_exporter": "python",
   "pygments_lexer": "ipython3",
   "version": "3.6.9"
  }
 },
 "nbformat": 4,
 "nbformat_minor": 2
}
