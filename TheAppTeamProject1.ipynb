{
 "cells": [
  {
   "cell_type": "code",
   "execution_count": null,
   "metadata": {},
   "outputs": [],
   "source": [
    "#Imports packages\n",
    "import pandas as pd\n",
    "import numpy as np\n",
    "import matplotlib.pyplot as plt\n",
    "import scipy.stats as stats"
   ]
  },
  {
   "cell_type": "code",
   "execution_count": null,
   "metadata": {},
   "outputs": [],
   "source": [
    "#Reading CSV files\n",
    "google_apps = pd.read_csv(\"source/Google_Apps_Clean.csv\")\n",
    "google_app_reviews= pd.read_csv(\"source/googleplaystore_user_reviews.csv\")\n",
    "apple_apps= pd.read_csv(\"source/Apple_Apps_Clean.csv\")"
   ]
  },
  {
   "cell_type": "code",
   "execution_count": null,
   "metadata": {},
   "outputs": [],
   "source": [
    "#Barry start "
   ]
  },
  {
   "cell_type": "code",
   "execution_count": null,
   "metadata": {},
   "outputs": [],
   "source": [
    "#Barry end"
   ]
  },
  {
   "cell_type": "code",
   "execution_count": null,
   "metadata": {},
   "outputs": [],
   "source": [
    "# Sam start\n",
    "\n",
    "# Found the count for each column in the Google dataframe to look for missing values using the count function.\n",
    "google_apps.count()"
   ]
  },
  {
   "cell_type": "code",
   "execution_count": null,
   "metadata": {},
   "outputs": [],
   "source": [
    "# Dropped any null rows using the dropna function.\n",
    "google_apps = google_apps.dropna(how='any')\n",
    "google_apps.count()"
   ]
  },
  {
   "cell_type": "code",
   "execution_count": null,
   "metadata": {},
   "outputs": [],
   "source": [
    "# Found the count for each column in the Apple dataframe to look for missing values using the count function.\n",
    "apple_apps.count()"
   ]
  },
  {
   "cell_type": "code",
   "execution_count": null,
   "metadata": {},
   "outputs": [],
   "source": [
    "# Dropped any null rows using the dropna function.\n",
    "apple_apps = apple_apps.dropna(how='any')\n",
    "apple_apps.count()"
   ]
  },
  {
   "cell_type": "code",
   "execution_count": null,
   "metadata": {},
   "outputs": [],
   "source": [
    "# Renamed the Rating column to Google Rating with the rename column function.\n",
    "google_apps = google_apps.rename(columns={\"Rating\": \"Google Rating\"})\n",
    "\n",
    "# Renamed the Rating column to Apple Rating with the rename column function.\n",
    "apple_apps = apple_apps.rename(columns={\"Rating\": \"Apple Rating\"})"
   ]
  },
  {
   "cell_type": "code",
   "execution_count": null,
   "metadata": {},
   "outputs": [],
   "source": [
    "# Used GroupBy function in order to separate the data into fields according to \"Category\" values.\n",
    "google_apps_category = google_apps.groupby(\"Category\")\n",
    "\n",
    "# Got the average of the Rating column in the GroupBy object using the mean function.\n",
    "google_apps_mean = google_apps_category[[\"Google Rating\"]].mean()\n",
    "google_apps_mean"
   ]
  },
  {
   "cell_type": "code",
   "execution_count": null,
   "metadata": {},
   "outputs": [],
   "source": [
    "# Used GroupBy function in order to separate the data into fields according to \"Category\" values.\n",
    "apple_apps_category = apple_apps.groupby(\"Category\")\n",
    "\n",
    "# Got the average of the Rating column in the GroupBy object using the mean function.\n",
    "apple_apps_mean = apple_apps_category[[\"Apple Rating\"]].mean()\n",
    "apple_apps_mean"
   ]
  },
  {
   "cell_type": "code",
   "execution_count": null,
   "metadata": {},
   "outputs": [],
   "source": [
    "# Merged both dataframes together based on the Categories they share by using the merge function.\n",
    "google_apple_merge = pd.merge(google_apps_mean, apple_apps_mean, on=\"Category\")\n",
    "google_apple_merge"
   ]
  },
  {
   "cell_type": "code",
   "execution_count": null,
   "metadata": {},
   "outputs": [],
   "source": [
    "# Renamed the Rating columns to Average Google and Average Apple Rating with the rename column function.\n",
    "google_apple_merge = google_apple_merge.rename(columns={\"Google Rating\": \"Average Google Rating\", \"Apple Rating\": \"Average Apple Rating\"})\n",
    "\n",
    "# Reset the index so that the index is now based on the different Categories.\n",
    "google_apple_merge = google_apple_merge.reset_index()\n"
   ]
  },
  {
   "cell_type": "code",
   "execution_count": null,
   "metadata": {},
   "outputs": [],
   "source": [
    "\n",
    "# Created a bar chart from the google_apple_merge dataframe comparing the average ratings of the app categories.\n",
    "# Title will be 'Average Rating by Category'\n",
    "# x-axis labels will be the different categories and the y-axis will be 'Average Rating'\n",
    "ind = np.arange(len(google_apple_merge['Average Google Rating']))\n",
    "width = 0.25\n",
    "\n",
    "fig, ax = plt.subplots(figsize=(20, 7))\n",
    "rects1 = ax.bar(ind - width/2, google_apple_merge['Average Google Rating'], width, label='Google')\n",
    "rects2 = ax.bar(ind + width/2, google_apple_merge['Average Apple Rating'], width, label='Apple')\n",
    "\n",
    "\n",
    "plt.ylim(0, 5)\n",
    "\n",
    "ax.set_ylabel('Average Rating', fontsize=18)\n",
    "ax.set_title('Average Rating by Category', fontsize=25)\n",
    "ax.set_xticks(ind)\n",
    "ax.set_xticklabels(google_apple_merge['Category'], rotation=45, fontsize=15)\n",
    "plt.legend(['Average Google Rating', 'Average Apple Rating'], loc='upper right', fontsize=15)\n",
    "plt.savefig(\"Images/avg_rting_sk_bgraph.png\")\n",
    "\n"
   ]
  },
  {
   "cell_type": "code",
   "execution_count": null,
   "metadata": {},
   "outputs": [],
   "source": [
    "# Found the average rating for all of the Google apps using the mean function.\n",
    "google_pop = google_apps['Google Rating']\n",
    "google_pop.mean()"
   ]
  },
  {
   "cell_type": "code",
   "execution_count": null,
   "metadata": {},
   "outputs": [],
   "source": [
    "# Found the average rating for all of the Apple apps using the mean function.\n",
    "apple_pop = apple_apps['Apple Rating']\n",
    "apple_pop.mean()"
   ]
  },
  {
   "cell_type": "code",
   "execution_count": null,
   "metadata": {},
   "outputs": [],
   "source": [
    "# Null Hypothesis: There is no difference in ratings between the common app categories included in the Google and Apple dataframes.\n",
    "\n",
    "# Calculated the Independent (Two Sample) T-Test\n",
    "stats.ttest_ind(google_pop, apple_pop, equal_var=False)\n",
    "\n",
    "# The pvalue is less than .05 which tells us that the Null Hypothesis will be rejected and there is a significant difference.\n",
    "\n",
    "#Sam end"
   ]
  },
  {
   "cell_type": "code",
   "execution_count": null,
   "metadata": {},
   "outputs": [],
   "source": [
    "#Abbas start"
   ]
  },
  {
   "cell_type": "code",
   "execution_count": null,
   "metadata": {},
   "outputs": [],
   "source": [
    "#Abbas end"
   ]
  },
  {
   "cell_type": "code",
   "execution_count": null,
   "metadata": {},
   "outputs": [],
   "source": [
    "#Farshad start"
   ]
  },
  {
   "cell_type": "code",
   "execution_count": null,
   "metadata": {},
   "outputs": [],
   "source": [
    "#Farshad end"
   ]
  }
 ],
 "metadata": {
  "kernelspec": {
   "display_name": "Python 3",
   "language": "python",
   "name": "python3"
  },
  "language_info": {
   "codemirror_mode": {
    "name": "ipython",
    "version": 3
   },
   "file_extension": ".py",
   "mimetype": "text/x-python",
   "name": "python",
   "nbconvert_exporter": "python",
   "pygments_lexer": "ipython3",
   "version": "3.6.9"
  }
 },
 "nbformat": 4,
 "nbformat_minor": 2
}
