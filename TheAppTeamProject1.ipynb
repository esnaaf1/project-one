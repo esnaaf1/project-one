{
 "cells": [
  {
   "cell_type": "code",
   "execution_count": null,
   "metadata": {},
   "outputs": [],
   "source": [
    "#Imports packages\n",
    "import pandas as pd\n",
    "import numpy as np\n",
    "import matplotlib.pyplot as plt\n",
    "import scipy.stats as stats"
   ]
  },
  {
   "cell_type": "code",
   "execution_count": null,
   "metadata": {},
   "outputs": [],
   "source": [
    "#Reading CSV files\n",
    "google_apps = pd.read_csv(\"source/Google_Apps_Clean.csv\")\n",
    "google_app_reviews= pd.read_csv(\"source/googleplaystore_user_reviews.csv\")\n",
    "apple_apps= pd.read_csv(\"source/Apple_Apps_Clean.csv\")"
   ]
  },
  {
   "cell_type": "code",
   "execution_count": null,
   "metadata": {},
   "outputs": [],
   "source": [
    "#Barry start "
   ]
  },
  {
   "cell_type": "code",
   "execution_count": null,
   "metadata": {},
   "outputs": [],
   "source": [
    "#Barry end"
   ]
  },
  {
   "cell_type": "code",
   "execution_count": null,
   "metadata": {},
   "outputs": [],
   "source": [
    "# Sam start\n",
    "\n",
    "# Found the count for each column in the Google dataframe to look for missing values using the count function.\n",
    "google_apps.count()"
   ]
  },
  {
   "cell_type": "code",
   "execution_count": null,
   "metadata": {},
   "outputs": [],
   "source": [
    "# Dropped any null rows using the dropna function.\n",
    "google_apps = google_apps.dropna(how='any')\n",
    "google_apps.count()"
   ]
  },
  {
   "cell_type": "code",
   "execution_count": null,
   "metadata": {},
   "outputs": [],
   "source": [
    "# Found the count for each column in the Apple dataframe to look for missing values using the count function.\n",
    "apple_apps.count()"
   ]
  },
  {
   "cell_type": "code",
   "execution_count": null,
   "metadata": {},
   "outputs": [],
   "source": [
    "# Dropped any null rows using the dropna function.\n",
    "apple_apps = apple_apps.dropna(how='any')\n",
    "apple_apps.count()"
   ]
  },
  {
   "cell_type": "code",
   "execution_count": null,
   "metadata": {},
   "outputs": [],
   "source": [
    "# Renamed the Rating column to Google Rating with the rename column function.\n",
    "google_apps = google_apps.rename(columns={\"Rating\": \"Google Rating\"})\n",
    "\n",
    "# Renamed the Rating column to Apple Rating with the rename column function.\n",
    "apple_apps = apple_apps.rename(columns={\"Rating\": \"Apple Rating\"})"
   ]
  },
  {
   "cell_type": "code",
   "execution_count": null,
   "metadata": {},
   "outputs": [],
   "source": [
    "# Used GroupBy function in order to separate the data into fields according to \"Category\" values.\n",
    "google_apps_category = google_apps.groupby(\"Category\")\n",
    "\n",
    "# Got the average of the Rating column in the GroupBy object using the mean function.\n",
    "google_apps_mean = google_apps_category[[\"Google Rating\"]].mean()\n",
    "google_apps_mean"
   ]
  },
  {
   "cell_type": "code",
   "execution_count": null,
   "metadata": {},
   "outputs": [],
   "source": [
    "# Used GroupBy function in order to separate the data into fields according to \"Category\" values.\n",
    "apple_apps_category = apple_apps.groupby(\"Category\")\n",
    "\n",
    "# Got the average of the Rating column in the GroupBy object using the mean function.\n",
    "apple_apps_mean = apple_apps_category[[\"Apple Rating\"]].mean()\n",
    "apple_apps_mean"
   ]
  },
  {
   "cell_type": "code",
   "execution_count": null,
   "metadata": {},
   "outputs": [],
   "source": [
    "# Merged both dataframes together based on the Categories they share by using the merge function.\n",
    "google_apple_merge = pd.merge(google_apps_mean, apple_apps_mean, on=\"Category\")\n",
    "google_apple_merge"
   ]
  },
  {
   "cell_type": "code",
   "execution_count": null,
   "metadata": {},
   "outputs": [],
   "source": [
    "# Renamed the Rating columns to Average Google and Average Apple Rating with the rename column function.\n",
    "google_apple_merge = google_apple_merge.rename(columns={\"Google Rating\": \"Average Google Rating\", \"Apple Rating\": \"Average Apple Rating\"})\n",
    "\n",
    "# Reset the index so that the index is now based on the different Categories.\n",
    "google_apple_merge = google_apple_merge.reset_index()\n"
   ]
  },
  {
   "cell_type": "code",
   "execution_count": null,
   "metadata": {},
   "outputs": [],
   "source": [
    "\n",
    "# Created a bar chart from the google_apple_merge dataframe comparing the average ratings of the app categories.\n",
    "# Title will be 'Average Rating by Category'\n",
    "# x-axis labels will be the different categories and the y-axis will be 'Average Rating'\n",
    "ind = np.arange(len(google_apple_merge['Average Google Rating']))\n",
    "width = 0.25\n",
    "\n",
    "fig, ax = plt.subplots(figsize=(20, 7))\n",
    "rects1 = ax.bar(ind - width/2, google_apple_merge['Average Google Rating'], width, label='Google')\n",
    "rects2 = ax.bar(ind + width/2, google_apple_merge['Average Apple Rating'], width, label='Apple')\n",
    "\n",
    "\n",
    "plt.ylim(0, 5)\n",
    "\n",
    "ax.set_ylabel('Average Rating', fontsize=18)\n",
    "ax.set_title('Average Rating by Category', fontsize=25)\n",
    "ax.set_xticks(ind)\n",
    "ax.set_xticklabels(google_apple_merge['Category'], rotation=45, fontsize=15)\n",
    "plt.legend(['Average Google Rating', 'Average Apple Rating'], loc='upper right', fontsize=15)\n",
    "plt.savefig(\"Images/avg_rting_sk_bgraph.png\")\n",
    "\n"
   ]
  },
  {
   "cell_type": "code",
   "execution_count": null,
   "metadata": {},
   "outputs": [],
   "source": [
    "# Found the average rating for all of the Google apps using the mean function.\n",
    "google_pop = google_apps['Google Rating']\n",
    "google_pop.mean()"
   ]
  },
  {
   "cell_type": "code",
   "execution_count": null,
   "metadata": {},
   "outputs": [],
   "source": [
    "# Found the average rating for all of the Apple apps using the mean function.\n",
    "apple_pop = apple_apps['Apple Rating']\n",
    "apple_pop.mean()"
   ]
  },
  {
   "cell_type": "code",
   "execution_count": null,
   "metadata": {},
   "outputs": [],
   "source": [
    "# Null Hypothesis: There is no difference in ratings between the common app categories included in the Google and Apple dataframes.\n",
    "\n",
    "# Calculated the Independent (Two Sample) T-Test\n",
    "stats.ttest_ind(google_pop, apple_pop, equal_var=False)\n",
    "\n",
    "# The pvalue is less than .05 which tells us that the Null Hypothesis will be rejected and there is a significant difference.\n",
    "\n",
    "#Sam end"
   ]
  },
  {
   "cell_type": "code",
   "execution_count": null,
   "metadata": {},
   "outputs": [],
   "source": [
    "#Abbas start"
   ]
  },
  {
   "cell_type": "code",
   "execution_count": null,
   "metadata": {},
   "outputs": [],
   "source": [
    "#Abbas end"
   ]
  },
  {
   "cell_type": "code",
   "execution_count": null,
   "metadata": {},
   "outputs": [],
   "source": [
    "#Farshad start"
   ]
  },
  {
   "cell_type": "code",
   "execution_count": null,
   "metadata": {},
   "outputs": [],
   "source": [
    "# Data Frame - Top 5 google categories by ratings\n",
    "google_apps_df1 = google_apps.groupby('Category').agg(\n",
    "                 total_games=('App', 'count'),\n",
    "                 highest_rating = ('Rating', 'max'),\n",
    "                 lowest_rating = ('Rating', 'min'),\n",
    "                 sd = ('Rating', 'std'))\n",
    "\n",
    "google_apps_top_5 = google_apps_df1.sort_values('total_games', ascending=False)\n",
    "google_apps_top_5 = google_apps_top_5.reset_index()\n",
    "google_apps_top_5 = google_apps_top_5.iloc[0:5]\n",
    "google_apps_top_5\n"
   ]
  },
  {
   "cell_type": "code",
   "execution_count": null,
   "metadata": {},
   "outputs": [],
   "source": [
    "# Pie Chart - Top 5 google category by total games\n",
    "labels = google_apps_top_5['Category']\n",
    "sizes =  google_apps_top_5['total_games']\n",
    "explode = (0.1,0, 0, 0, 0)  \n",
    "\n",
    "fig1, ax1 = plt.subplots(figsize=(12,8))\n",
    "ax1.pie(sizes, explode = explode, labels=labels, autopct='%1.1f%%',\n",
    "        shadow=True, startangle=90, radius = 1.2)\n",
    "plt.title(\"Top Five Google App Categories\\n\\n\")\n",
    "plt.show()\n",
    "plt.savefig('images/fe_google_top_rating.png')"
   ]
  },
  {
   "cell_type": "code",
   "execution_count": null,
   "metadata": {},
   "outputs": [],
   "source": [
    "# Data Frame - Top 5 apple categories by total games\n",
    "apple_apps_df1 = apple_apps.groupby('Category').agg(\n",
    "                  total_games= ('App', 'count'),\n",
    "                  highest_rating = ('Rating', 'max'),\n",
    "                  lowest_rating = ('Rating', 'min'),\n",
    "                  sd = ('Rating', 'std'))\n",
    "\n",
    "\n",
    "apple_apps_top_5 = apple_apps_df1.sort_values('total_games', ascending=False)\n",
    "apple_apps_top_5 = apple_apps_top_5.reset_index()\n",
    "apple_apps_top_5 = apple_apps_top_5.iloc[0:5]\n",
    "apple_apps_top_5\n"
   ]
  },
  {
   "cell_type": "code",
   "execution_count": null,
   "metadata": {},
   "outputs": [],
   "source": [
    "# Pie Chart - Top 5 apple category by total games\n",
    "labels = apple_apps_top_5['Category']\n",
    "sizes =  apple_apps_top_5['total_games']\n",
    "explode = (0.1,0, 0, 0, 0)  \n",
    "\n",
    "fig1, ax1 = plt.subplots(figsize=(12,8))\n",
    "ax1.pie(sizes, explode = explode, labels=labels, autopct='%1.1f%%',\n",
    "        shadow=True, startangle=90, radius = 1.2)\n",
    "plt.title(\"Top Five Apple App Categories\\n\\n\")\n",
    "plt.show()\n",
    "plt.savefig('images/fe_apple_top_rating.png')"
   ]
  },
  {
   "cell_type": "code",
   "execution_count": null,
   "metadata": {},
   "outputs": [],
   "source": [
    "# Unpaid apps in google and apple\n",
    "google_apps_unpaid = google_apps.loc[google_apps['Type']=='Free',:]\n",
    "\n",
    "apple_apps_unpaid = apple_apps.loc[apple_apps['Price']==0,:]\n"
   ]
  },
  {
   "cell_type": "code",
   "execution_count": null,
   "metadata": {},
   "outputs": [],
   "source": [
    "import scipy.stats as stats\n",
    "# Null Hypothesis: There is no difference in ratings between paid and unpaid apple apps\n",
    "stats.ttest_ind(apple_apps_unpaid[\"Rating\"], apple_apps_paid[\"Rating\"], equal_var=False)\n"
   ]
  },
  {
   "cell_type": "code",
   "execution_count": null,
   "metadata": {},
   "outputs": [],
   "source": [
    "# Null Hypothesis: There is no difference in ratings between paid google and apple apps\n",
    "stats.ttest_ind(google_apps_paid.dropna()[\"Rating\"], apple_apps_paid.dropna()[\"Rating\"], equal_var=False)"
   ]
  },
  {
   "cell_type": "code",
   "execution_count": null,
   "metadata": {},
   "outputs": [],
   "source": [
    "# Null Hypothesis: There is no difference in ratings between paid and unpaid google apps\n",
    "stats.ttest_ind(google_apps_unpaid.dropna()[\"Rating\"], google_apps_paid.dropna()[\"Rating\"], equal_var=False)"
   ]
  },
  {
   "cell_type": "code",
   "execution_count": null,
   "metadata": {},
   "outputs": [],
   "source": [
    "# Binning the apps by price ranges\n",
    "\n",
    "bins = [0.00, 1.99, 3.99, 9.99, 499.99]\n",
    "group_names = ['<$2','$2-4','$5-10','>$10']\n",
    "google_apps_paid['Price Range'] = pd.cut(google_apps_paid['Price'], bins, labels=group_names)\n",
    "google_apps_paid\n",
    "apple_apps_paid['Price Range'] = pd.cut(apple_apps_paid['Price'], bins, labels=group_names)\n",
    "\n",
    "google_apps_paid_ranges = google_apps_paid.groupby(\"Price Range\").agg(\n",
    "                         total_games= ('App', 'count' ))\n",
    "google_apps_paid_ranges\n",
    "apple_apps_paid_ranges = apple_apps_paid.groupby(\"Price Range\").agg(\n",
    "                           total_games = ('App', 'count'))\n",
    "\n",
    "combined_paid_range = pd.merge(apple_apps_paid_ranges, google_apps_paid_ranges, how=\"inner\", on=\"Price Range\")\n",
    "combined_paid_range = combined_paid_range.reset_index()\n",
    "combined_paid_range"
   ]
  },
  {
   "cell_type": "code",
   "execution_count": null,
   "metadata": {},
   "outputs": [],
   "source": [
    "# Plot Bar Chart\n",
    "ind = np.arange(len(combined_paid_range['total_games_x']))\n",
    "width = 0.25\n",
    "\n",
    "fig, ax = plt.subplots(figsize=(20, 7))\n",
    "rects1 = ax.bar(ind - width/2, combined_paid_range['total_games_x'], width, label='Apple games')\n",
    "rects2 = ax.bar(ind + width/2, combined_paid_range['total_games_y'], width, label='Google games')\n",
    "\n",
    "ax.set_ylabel('Total Games')\n",
    "ax.set_title('Total Games by Price Range')\n",
    "ax.set_xticks(ind)\n",
    "ax.set_xticklabels(combined_paid_range['Price Range'], rotation=45)\n",
    "plt.legend(['Apple', 'Google'], loc='upper right')\n",
    "plt.show()\n",
    "plt.savefig('images/fe_spending_ranges.png')"
   ]
  },
  {
   "cell_type": "code",
   "execution_count": null,
   "metadata": {},
   "outputs": [],
   "source": [
    "#Farshad end"
   ]
  }
 ],
 "metadata": {
  "kernelspec": {
   "display_name": "Python 3",
   "language": "python",
   "name": "python3"
  },
  "language_info": {
   "codemirror_mode": {
    "name": "ipython",
    "version": 3
   },
   "file_extension": ".py",
   "mimetype": "text/x-python",
   "name": "python",
   "nbconvert_exporter": "python",
   "pygments_lexer": "ipython3",
   "version": "3.6.9"
  }
 },
 "nbformat": 4,
 "nbformat_minor": 2
}
