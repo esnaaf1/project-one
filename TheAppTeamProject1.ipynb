{
 "cells": [
  {
   "cell_type": "code",
   "execution_count": 1,
   "metadata": {},
   "outputs": [],
   "source": [
    "#Imports packages\n",
    "import pandas as pd\n",
    "import numpy as np\n",
    "import matplotlib.pyplot as plt\n",
    "import scipy.stats as stats"
   ]
  },
  {
   "cell_type": "code",
   "execution_count": 2,
   "metadata": {},
   "outputs": [],
   "source": [
    "#Reading CSV files\n",
    "google_apps = pd.read_csv(\"source/Google_Apps_Clean.csv\")\n",
    "google_app_reviews= pd.read_csv(\"source/googleplaystore_user_reviews.csv\")\n",
    "apple_apps= pd.read_csv(\"source/Apple_Apps_Clean.csv\")"
   ]
  },
  {
   "cell_type": "code",
   "execution_count": 3,
   "metadata": {},
   "outputs": [],
   "source": [
    "#Barry start "
   ]
  },
  {
   "cell_type": "markdown",
   "metadata": {},
   "source": [
    "# Data Cleaning\n",
    "The first part of my section is to clean the csv files. To prevent conflicts in git we have updated the file names in the above cells with the files I made at the end of this section. I have commented out the code I used to make them as it will not work with the new file names."
   ]
  },
  {
   "cell_type": "code",
   "execution_count": 4,
   "metadata": {},
   "outputs": [],
   "source": [
    "# #Looking at the Google Play Store Data\n",
    "# google_apps.head()"
   ]
  },
  {
   "cell_type": "code",
   "execution_count": 5,
   "metadata": {},
   "outputs": [],
   "source": [
    "# google_apps2 = google_apps\n",
    "# google_apps2.head()"
   ]
  },
  {
   "cell_type": "code",
   "execution_count": 6,
   "metadata": {},
   "outputs": [],
   "source": [
    "# #Looking at number of installs\n",
    "# google_apps2['Installs'].unique()"
   ]
  },
  {
   "cell_type": "code",
   "execution_count": 7,
   "metadata": {},
   "outputs": [],
   "source": [
    "# #Something funny going on, looking to see why a Install count is called Free\n",
    "# google_apps2.loc[google_apps2['Installs'] == 'Free']"
   ]
  },
  {
   "cell_type": "code",
   "execution_count": 8,
   "metadata": {},
   "outputs": [],
   "source": [
    "# #Found the troublesome row on the play store website, its category is Lifestyle. Checking to see if there is a lifestyle label in our dataframe.\n",
    "# google_apps2['Category'].unique()"
   ]
  },
  {
   "cell_type": "code",
   "execution_count": 9,
   "metadata": {},
   "outputs": [],
   "source": [
    "# #Converting row to array for easier manipluation. Insert category and delete the last 'nan'\n",
    "# arr = google_apps2.loc[google_apps2['Installs'] == 'Free'].values\n",
    "# arr = np.insert(arr,1,'LIFESTYLE')\n",
    "# arr = np.delete(arr, -1)\n",
    "# arr"
   ]
  },
  {
   "cell_type": "code",
   "execution_count": 10,
   "metadata": {},
   "outputs": [],
   "source": [
    "# #Changing the bad row to the new values\n",
    "# google_apps2.loc[google_apps2['Installs'] == 'Free'] = arr"
   ]
  },
  {
   "cell_type": "code",
   "execution_count": 11,
   "metadata": {},
   "outputs": [],
   "source": [
    "# #Checking to see if it worked\n",
    "# google_apps2.iloc[10472]"
   ]
  },
  {
   "cell_type": "code",
   "execution_count": 12,
   "metadata": {},
   "outputs": [],
   "source": [
    "# #Checking to see if it worked\n",
    "# google_apps2['Category'].unique()"
   ]
  },
  {
   "cell_type": "code",
   "execution_count": 13,
   "metadata": {},
   "outputs": [],
   "source": [
    "# #convert installs row to int \n",
    "# google_apps2['Installs'] = pd.to_numeric(list(map(lambda x: x.replace('+',''), map(lambda x: x.replace(',',''), google_apps2['Installs']))))\n",
    "# google_apps2.head()"
   ]
  },
  {
   "cell_type": "code",
   "execution_count": 14,
   "metadata": {},
   "outputs": [],
   "source": [
    "# #Looking at Size column values\n",
    "# google_apps2['Size'].unique()"
   ]
  },
  {
   "cell_type": "code",
   "execution_count": 15,
   "metadata": {},
   "outputs": [],
   "source": [
    "# #defining a function to help clean turn values into ints\n",
    "# def M_to_k(string):\n",
    "#     number = 0\n",
    "#     if 'M' in string:\n",
    "#         number = float(string.replace('M',''))\n",
    "#         number = number*1000\n",
    "#     elif 'k' in string:\n",
    "#         number = float(string.replace('k',''))\n",
    "#     number = int(number)\n",
    "#     #if number == 0:\n",
    "#         #number = float('NaN')\n",
    "#     return number;"
   ]
  },
  {
   "cell_type": "code",
   "execution_count": 16,
   "metadata": {},
   "outputs": [],
   "source": [
    "# #changing size column to numerics\n",
    "# google_apps2['Size'] = list(map(M_to_k, google_apps2['Size']))\n",
    "# google_apps2.head()"
   ]
  },
  {
   "cell_type": "code",
   "execution_count": 17,
   "metadata": {},
   "outputs": [],
   "source": [
    "# google_apps2 = google_apps2.rename(columns = {'Size':'Size in KB'})\n",
    "# google_apps2.head()"
   ]
  },
  {
   "cell_type": "code",
   "execution_count": 18,
   "metadata": {},
   "outputs": [],
   "source": [
    "# #looking at apple apps dataframe\n",
    "# apple_apps.head()"
   ]
  },
  {
   "cell_type": "code",
   "execution_count": 19,
   "metadata": {},
   "outputs": [],
   "source": [
    "# apple_apps2 = apple_apps\n",
    "# apple_apps2.head()"
   ]
  },
  {
   "cell_type": "code",
   "execution_count": 20,
   "metadata": {},
   "outputs": [],
   "source": [
    "# #deleting id column as it doesnt mean anything to us\n",
    "# del apple_apps2['id']\n",
    "# apple_apps2.head()"
   ]
  },
  {
   "cell_type": "code",
   "execution_count": 21,
   "metadata": {},
   "outputs": [],
   "source": [
    "# apple_apps2['currency'].unique()"
   ]
  },
  {
   "cell_type": "code",
   "execution_count": 22,
   "metadata": {},
   "outputs": [],
   "source": [
    "# #all currency values are USD. Deleting\n",
    "# del apple_apps2['currency']\n",
    "# apple_apps2.head()"
   ]
  },
  {
   "cell_type": "code",
   "execution_count": 23,
   "metadata": {},
   "outputs": [],
   "source": [
    "# apple_apps2['game_enab'].unique()"
   ]
  },
  {
   "cell_type": "code",
   "execution_count": 24,
   "metadata": {},
   "outputs": [],
   "source": [
    "# del apple_apps2['game_enab']\n",
    "# apple_apps2.head()"
   ]
  },
  {
   "cell_type": "code",
   "execution_count": 25,
   "metadata": {},
   "outputs": [],
   "source": [
    "# apple_apps2['vpp_lic'].unique()"
   ]
  },
  {
   "cell_type": "code",
   "execution_count": 26,
   "metadata": {},
   "outputs": [],
   "source": [
    "# del apple_apps2['vpp_lic']\n",
    "# apple_apps2.head()"
   ]
  },
  {
   "cell_type": "code",
   "execution_count": 27,
   "metadata": {},
   "outputs": [],
   "source": [
    "# #deleting non-useful columns\n",
    "# del apple_apps2['ipadSc_urls.num']\n",
    "# del apple_apps2['sup_devices.num']\n",
    "# del apple_apps2['rating_count_ver']\n",
    "# del apple_apps2['user_rating_ver']\n",
    "# apple_apps2.head()"
   ]
  },
  {
   "cell_type": "code",
   "execution_count": 28,
   "metadata": {},
   "outputs": [],
   "source": [
    "# apple_apps2['size_bytes'] = list(map(lambda x: int(x/1000),apple_apps2['size_bytes']))\n",
    "# apple_apps2.head()"
   ]
  },
  {
   "cell_type": "code",
   "execution_count": 29,
   "metadata": {},
   "outputs": [],
   "source": [
    "# apple_apps2 = apple_apps2.rename(columns = {'track_name':'App','size_bytes':'Size in KB','price':'Price','rating_count_tot':'Reviews','user_rating':'Rating','ver':'Current Version','cont_rating':'Content Rating','prime_genre':'Category','lang.num':'Number of Languages'})\n",
    "# apple_apps2.head()"
   ]
  },
  {
   "cell_type": "code",
   "execution_count": 30,
   "metadata": {},
   "outputs": [],
   "source": [
    "# apple_apps2 = apple_apps2[['App','Category','Rating','Reviews','Size in KB','Price','Content Rating','Current Version','Number of Languages']]\n",
    "# apple_apps2.head()"
   ]
  },
  {
   "cell_type": "code",
   "execution_count": 31,
   "metadata": {},
   "outputs": [],
   "source": [
    "# apple_apps2['Content Rating'].value_counts()"
   ]
  },
  {
   "cell_type": "code",
   "execution_count": 32,
   "metadata": {},
   "outputs": [],
   "source": [
    "# google_apps2['Content Rating'].value_counts()"
   ]
  },
  {
   "cell_type": "code",
   "execution_count": 33,
   "metadata": {},
   "outputs": [],
   "source": [
    "# def ContentConverter(string):\n",
    "#     if string == '4+':\n",
    "#         string = 'Everyone'\n",
    "#     elif string == '9+':\n",
    "#         string = 'Everyone 10+'\n",
    "#     elif string == '12+':\n",
    "#         string = 'Teen'\n",
    "#     elif string == '17+':\n",
    "#         string = 'Mature 17+'\n",
    "#     else:\n",
    "#         string = 'Unrated'\n",
    "#     return string;   "
   ]
  },
  {
   "cell_type": "code",
   "execution_count": 34,
   "metadata": {},
   "outputs": [],
   "source": [
    "# #Standardizing content ratings\n",
    "# apple_apps2['Content Rating'] = list(map(ContentConverter, apple_apps2['Content Rating']))\n",
    "# apple_apps2['Content Rating'].value_counts()"
   ]
  },
  {
   "cell_type": "code",
   "execution_count": 35,
   "metadata": {},
   "outputs": [],
   "source": [
    "# apple_apps2.head()"
   ]
  },
  {
   "cell_type": "code",
   "execution_count": 36,
   "metadata": {},
   "outputs": [],
   "source": [
    "# apple_categories = list(apple_apps2['Category'].unique())\n",
    "# del apple_categories[10]\n",
    "# apple_categories"
   ]
  },
  {
   "cell_type": "code",
   "execution_count": 37,
   "metadata": {},
   "outputs": [],
   "source": [
    "# apple_categories.sort()\n",
    "# apple_categories"
   ]
  },
  {
   "cell_type": "code",
   "execution_count": 38,
   "metadata": {},
   "outputs": [],
   "source": [
    "# list(google_apps2['Category'].unique())"
   ]
  },
  {
   "cell_type": "code",
   "execution_count": 39,
   "metadata": {},
   "outputs": [],
   "source": [
    "# test_column = list(map(lambda x: x.replace('_',' '), google_apps2['Category']))"
   ]
  },
  {
   "cell_type": "code",
   "execution_count": 40,
   "metadata": {},
   "outputs": [],
   "source": [
    "# test_column = list(map(lambda x: x.title() , test_column))"
   ]
  },
  {
   "cell_type": "code",
   "execution_count": 41,
   "metadata": {},
   "outputs": [],
   "source": [
    "# test_column = list(map(lambda x: x.replace('And','&'),test_column))"
   ]
  },
  {
   "cell_type": "code",
   "execution_count": 42,
   "metadata": {},
   "outputs": [],
   "source": [
    "# google_apps2['Category'] = test_column\n",
    "# google_apps2.head()"
   ]
  },
  {
   "cell_type": "code",
   "execution_count": 43,
   "metadata": {},
   "outputs": [],
   "source": [
    "# list(google_apps2['Category'].unique())"
   ]
  },
  {
   "cell_type": "code",
   "execution_count": 44,
   "metadata": {},
   "outputs": [],
   "source": [
    "# categories = list(google_apps2['Category'].unique())"
   ]
  },
  {
   "cell_type": "code",
   "execution_count": 45,
   "metadata": {},
   "outputs": [],
   "source": [
    "# categories.extend(apple_categories)"
   ]
  },
  {
   "cell_type": "code",
   "execution_count": 46,
   "metadata": {},
   "outputs": [],
   "source": [
    "# categories.sort()"
   ]
  },
  {
   "cell_type": "code",
   "execution_count": 47,
   "metadata": {
    "scrolled": true
   },
   "outputs": [],
   "source": [
    "# categories"
   ]
  },
  {
   "cell_type": "code",
   "execution_count": 48,
   "metadata": {},
   "outputs": [],
   "source": [
    "# def nan_handler(input):\n",
    "#     output = ''\n",
    "#     if isinstance(input, str):\n",
    "#         output = input\n",
    "#     else:\n",
    "#         output = 'None'\n",
    "#     return output;\n",
    "\n",
    "        "
   ]
  },
  {
   "cell_type": "code",
   "execution_count": 49,
   "metadata": {},
   "outputs": [],
   "source": [
    "# apple_apps2['Category'] = list(map(nan_handler, apple_apps2['Category']))"
   ]
  },
  {
   "cell_type": "code",
   "execution_count": 50,
   "metadata": {},
   "outputs": [],
   "source": [
    "# apple_apps2['Category'] = list(map(lambda x: x.replace('Games','Game'), apple_apps2['Category']))"
   ]
  },
  {
   "cell_type": "code",
   "execution_count": 51,
   "metadata": {},
   "outputs": [],
   "source": [
    "# apple_apps2['Category'] = list(map(lambda x: x.replace('Navigation','Maps & Navigation'), apple_apps2['Category']))"
   ]
  },
  {
   "cell_type": "code",
   "execution_count": 52,
   "metadata": {},
   "outputs": [],
   "source": [
    "# apple_apps2['Category'] = list(map(lambda x: x.replace('News','News & Magazines'), apple_apps2['Category']))"
   ]
  },
  {
   "cell_type": "code",
   "execution_count": 53,
   "metadata": {},
   "outputs": [],
   "source": [
    "# apple_apps2['Category'] = list(map(lambda x: x.replace('Book','Books & Reference'), apple_apps2['Category']))"
   ]
  },
  {
   "cell_type": "code",
   "execution_count": 54,
   "metadata": {},
   "outputs": [],
   "source": [
    "# apple_apps2['Category'] = list(map(lambda x: x.replace('Reference','Books & Reference'), apple_apps2['Category']))"
   ]
  },
  {
   "cell_type": "code",
   "execution_count": 55,
   "metadata": {},
   "outputs": [],
   "source": [
    "# apple_apps2['Category'] = list(map(lambda x: x.replace('Social Networking','Social'), apple_apps2['Category']))"
   ]
  },
  {
   "cell_type": "code",
   "execution_count": 56,
   "metadata": {},
   "outputs": [],
   "source": [
    "# apple_apps2['Category'] = list(map(lambda x: x.replace('Travel','Travel & Local'), apple_apps2['Category']))"
   ]
  },
  {
   "cell_type": "code",
   "execution_count": 57,
   "metadata": {},
   "outputs": [],
   "source": [
    "# apple_apps2['Category'].unique()"
   ]
  },
  {
   "cell_type": "code",
   "execution_count": 58,
   "metadata": {},
   "outputs": [],
   "source": [
    "# apple_apps2['Category'] = list(map(lambda x: x.replace('Books & Books & Reference','Books & Reference'), apple_apps2['Category']))"
   ]
  },
  {
   "cell_type": "code",
   "execution_count": 59,
   "metadata": {},
   "outputs": [],
   "source": [
    "# apple_apps2['Category'].unique()"
   ]
  },
  {
   "cell_type": "code",
   "execution_count": 60,
   "metadata": {},
   "outputs": [],
   "source": [
    "# apple_apps2.head()"
   ]
  },
  {
   "cell_type": "code",
   "execution_count": 61,
   "metadata": {},
   "outputs": [],
   "source": [
    "# google_apps2.head()"
   ]
  },
  {
   "cell_type": "code",
   "execution_count": 62,
   "metadata": {
    "scrolled": true
   },
   "outputs": [],
   "source": [
    "# google_apps2 = google_apps2.rename(columns = {'Current Ver': 'Current Version'})\n",
    "# google_apps2.head()"
   ]
  },
  {
   "cell_type": "code",
   "execution_count": 63,
   "metadata": {},
   "outputs": [],
   "source": [
    "# import os"
   ]
  },
  {
   "cell_type": "code",
   "execution_count": 64,
   "metadata": {},
   "outputs": [],
   "source": [
    "# output_google = os.path.join(\"source\",\"Google_Apps_Clean.csv\")\n",
    "# google_apps2.to_csv(output_google, index = False, header = True)"
   ]
  },
  {
   "cell_type": "code",
   "execution_count": 65,
   "metadata": {},
   "outputs": [],
   "source": [
    "# output_apple = os.path.join('source','Apple_Apps_Clean.csv')\n",
    "# apple_apps2.to_csv(output_apple, index = False, header = True)"
   ]
  },
  {
   "cell_type": "code",
   "execution_count": 66,
   "metadata": {},
   "outputs": [
    {
     "data": {
      "text/html": [
       "<div>\n",
       "<style scoped>\n",
       "    .dataframe tbody tr th:only-of-type {\n",
       "        vertical-align: middle;\n",
       "    }\n",
       "\n",
       "    .dataframe tbody tr th {\n",
       "        vertical-align: top;\n",
       "    }\n",
       "\n",
       "    .dataframe thead th {\n",
       "        text-align: right;\n",
       "    }\n",
       "</style>\n",
       "<table border=\"1\" class=\"dataframe\">\n",
       "  <thead>\n",
       "    <tr style=\"text-align: right;\">\n",
       "      <th></th>\n",
       "      <th>App</th>\n",
       "      <th>Category</th>\n",
       "      <th>Rating</th>\n",
       "      <th>Reviews</th>\n",
       "      <th>Size in KB</th>\n",
       "      <th>Installs</th>\n",
       "      <th>Type</th>\n",
       "      <th>Price</th>\n",
       "      <th>Content Rating</th>\n",
       "      <th>Genres</th>\n",
       "      <th>Last Updated</th>\n",
       "      <th>Current Version</th>\n",
       "      <th>Android Ver</th>\n",
       "    </tr>\n",
       "  </thead>\n",
       "  <tbody>\n",
       "    <tr>\n",
       "      <td>0</td>\n",
       "      <td>Photo Editor &amp; Candy Camera &amp; Grid &amp; ScrapBook</td>\n",
       "      <td>Art &amp; Design</td>\n",
       "      <td>4.1</td>\n",
       "      <td>159.0</td>\n",
       "      <td>19000</td>\n",
       "      <td>10000</td>\n",
       "      <td>Free</td>\n",
       "      <td>0</td>\n",
       "      <td>Everyone</td>\n",
       "      <td>Art &amp; Design</td>\n",
       "      <td>January 7, 2018</td>\n",
       "      <td>1.0.0</td>\n",
       "      <td>4.0.3 and up</td>\n",
       "    </tr>\n",
       "    <tr>\n",
       "      <td>1</td>\n",
       "      <td>Coloring book moana</td>\n",
       "      <td>Art &amp; Design</td>\n",
       "      <td>3.9</td>\n",
       "      <td>967.0</td>\n",
       "      <td>14000</td>\n",
       "      <td>500000</td>\n",
       "      <td>Free</td>\n",
       "      <td>0</td>\n",
       "      <td>Everyone</td>\n",
       "      <td>Art &amp; Design;Pretend Play</td>\n",
       "      <td>January 15, 2018</td>\n",
       "      <td>2.0.0</td>\n",
       "      <td>4.0.3 and up</td>\n",
       "    </tr>\n",
       "    <tr>\n",
       "      <td>2</td>\n",
       "      <td>U Launcher Lite – FREE Live Cool Themes, Hide ...</td>\n",
       "      <td>Art &amp; Design</td>\n",
       "      <td>4.7</td>\n",
       "      <td>87510.0</td>\n",
       "      <td>8700</td>\n",
       "      <td>5000000</td>\n",
       "      <td>Free</td>\n",
       "      <td>0</td>\n",
       "      <td>Everyone</td>\n",
       "      <td>Art &amp; Design</td>\n",
       "      <td>August 1, 2018</td>\n",
       "      <td>1.2.4</td>\n",
       "      <td>4.0.3 and up</td>\n",
       "    </tr>\n",
       "    <tr>\n",
       "      <td>3</td>\n",
       "      <td>Sketch - Draw &amp; Paint</td>\n",
       "      <td>Art &amp; Design</td>\n",
       "      <td>4.5</td>\n",
       "      <td>215644.0</td>\n",
       "      <td>25000</td>\n",
       "      <td>50000000</td>\n",
       "      <td>Free</td>\n",
       "      <td>0</td>\n",
       "      <td>Teen</td>\n",
       "      <td>Art &amp; Design</td>\n",
       "      <td>June 8, 2018</td>\n",
       "      <td>Varies with device</td>\n",
       "      <td>4.2 and up</td>\n",
       "    </tr>\n",
       "    <tr>\n",
       "      <td>4</td>\n",
       "      <td>Pixel Draw - Number Art Coloring Book</td>\n",
       "      <td>Art &amp; Design</td>\n",
       "      <td>4.3</td>\n",
       "      <td>967.0</td>\n",
       "      <td>2800</td>\n",
       "      <td>100000</td>\n",
       "      <td>Free</td>\n",
       "      <td>0</td>\n",
       "      <td>Everyone</td>\n",
       "      <td>Art &amp; Design;Creativity</td>\n",
       "      <td>June 20, 2018</td>\n",
       "      <td>1.1</td>\n",
       "      <td>4.4 and up</td>\n",
       "    </tr>\n",
       "  </tbody>\n",
       "</table>\n",
       "</div>"
      ],
      "text/plain": [
       "                                                 App      Category  Rating  \\\n",
       "0     Photo Editor & Candy Camera & Grid & ScrapBook  Art & Design     4.1   \n",
       "1                                Coloring book moana  Art & Design     3.9   \n",
       "2  U Launcher Lite – FREE Live Cool Themes, Hide ...  Art & Design     4.7   \n",
       "3                              Sketch - Draw & Paint  Art & Design     4.5   \n",
       "4              Pixel Draw - Number Art Coloring Book  Art & Design     4.3   \n",
       "\n",
       "    Reviews  Size in KB  Installs  Type Price Content Rating  \\\n",
       "0     159.0       19000     10000  Free     0       Everyone   \n",
       "1     967.0       14000    500000  Free     0       Everyone   \n",
       "2   87510.0        8700   5000000  Free     0       Everyone   \n",
       "3  215644.0       25000  50000000  Free     0           Teen   \n",
       "4     967.0        2800    100000  Free     0       Everyone   \n",
       "\n",
       "                      Genres      Last Updated     Current Version  \\\n",
       "0               Art & Design   January 7, 2018               1.0.0   \n",
       "1  Art & Design;Pretend Play  January 15, 2018               2.0.0   \n",
       "2               Art & Design    August 1, 2018               1.2.4   \n",
       "3               Art & Design      June 8, 2018  Varies with device   \n",
       "4    Art & Design;Creativity     June 20, 2018                 1.1   \n",
       "\n",
       "    Android Ver  \n",
       "0  4.0.3 and up  \n",
       "1  4.0.3 and up  \n",
       "2  4.0.3 and up  \n",
       "3    4.2 and up  \n",
       "4    4.4 and up  "
      ]
     },
     "execution_count": 66,
     "metadata": {},
     "output_type": "execute_result"
    }
   ],
   "source": [
    "google_apps.head()"
   ]
  },
  {
   "cell_type": "code",
   "execution_count": 67,
   "metadata": {},
   "outputs": [
    {
     "data": {
      "text/html": [
       "<div>\n",
       "<style scoped>\n",
       "    .dataframe tbody tr th:only-of-type {\n",
       "        vertical-align: middle;\n",
       "    }\n",
       "\n",
       "    .dataframe tbody tr th {\n",
       "        vertical-align: top;\n",
       "    }\n",
       "\n",
       "    .dataframe thead th {\n",
       "        text-align: right;\n",
       "    }\n",
       "</style>\n",
       "<table border=\"1\" class=\"dataframe\">\n",
       "  <thead>\n",
       "    <tr style=\"text-align: right;\">\n",
       "      <th></th>\n",
       "      <th>App</th>\n",
       "      <th>Category</th>\n",
       "      <th>Installs</th>\n",
       "      <th>Size in KB</th>\n",
       "    </tr>\n",
       "  </thead>\n",
       "  <tbody>\n",
       "    <tr>\n",
       "      <td>0</td>\n",
       "      <td>Photo Editor &amp; Candy Camera &amp; Grid &amp; ScrapBook</td>\n",
       "      <td>Art &amp; Design</td>\n",
       "      <td>10000</td>\n",
       "      <td>19000</td>\n",
       "    </tr>\n",
       "    <tr>\n",
       "      <td>1</td>\n",
       "      <td>Coloring book moana</td>\n",
       "      <td>Art &amp; Design</td>\n",
       "      <td>500000</td>\n",
       "      <td>14000</td>\n",
       "    </tr>\n",
       "    <tr>\n",
       "      <td>2</td>\n",
       "      <td>U Launcher Lite – FREE Live Cool Themes, Hide ...</td>\n",
       "      <td>Art &amp; Design</td>\n",
       "      <td>5000000</td>\n",
       "      <td>8700</td>\n",
       "    </tr>\n",
       "    <tr>\n",
       "      <td>3</td>\n",
       "      <td>Sketch - Draw &amp; Paint</td>\n",
       "      <td>Art &amp; Design</td>\n",
       "      <td>50000000</td>\n",
       "      <td>25000</td>\n",
       "    </tr>\n",
       "    <tr>\n",
       "      <td>4</td>\n",
       "      <td>Pixel Draw - Number Art Coloring Book</td>\n",
       "      <td>Art &amp; Design</td>\n",
       "      <td>100000</td>\n",
       "      <td>2800</td>\n",
       "    </tr>\n",
       "  </tbody>\n",
       "</table>\n",
       "</div>"
      ],
      "text/plain": [
       "                                                 App      Category  Installs  \\\n",
       "0     Photo Editor & Candy Camera & Grid & ScrapBook  Art & Design     10000   \n",
       "1                                Coloring book moana  Art & Design    500000   \n",
       "2  U Launcher Lite – FREE Live Cool Themes, Hide ...  Art & Design   5000000   \n",
       "3                              Sketch - Draw & Paint  Art & Design  50000000   \n",
       "4              Pixel Draw - Number Art Coloring Book  Art & Design    100000   \n",
       "\n",
       "   Size in KB  \n",
       "0       19000  \n",
       "1       14000  \n",
       "2        8700  \n",
       "3       25000  \n",
       "4        2800  "
      ]
     },
     "execution_count": 67,
     "metadata": {},
     "output_type": "execute_result"
    }
   ],
   "source": [
    "select_data1 = pd.DataFrame(google_apps, columns = ['App','Category','Installs','Size in KB'])\n",
    "select_data1.head()"
   ]
  },
  {
   "cell_type": "code",
   "execution_count": 68,
   "metadata": {},
   "outputs": [],
   "source": [
    "select_data1 = select_data1.drop_duplicates()"
   ]
  },
  {
   "cell_type": "code",
   "execution_count": 69,
   "metadata": {},
   "outputs": [
    {
     "data": {
      "text/html": [
       "<div>\n",
       "<style scoped>\n",
       "    .dataframe tbody tr th:only-of-type {\n",
       "        vertical-align: middle;\n",
       "    }\n",
       "\n",
       "    .dataframe tbody tr th {\n",
       "        vertical-align: top;\n",
       "    }\n",
       "\n",
       "    .dataframe thead th {\n",
       "        text-align: right;\n",
       "    }\n",
       "</style>\n",
       "<table border=\"1\" class=\"dataframe\">\n",
       "  <thead>\n",
       "    <tr style=\"text-align: right;\">\n",
       "      <th></th>\n",
       "      <th>Size in KB</th>\n",
       "    </tr>\n",
       "    <tr>\n",
       "      <th>Installs</th>\n",
       "      <th></th>\n",
       "    </tr>\n",
       "  </thead>\n",
       "  <tbody>\n",
       "    <tr>\n",
       "      <td>0</td>\n",
       "      <td>12160.000000</td>\n",
       "    </tr>\n",
       "    <tr>\n",
       "      <td>1</td>\n",
       "      <td>13598.059701</td>\n",
       "    </tr>\n",
       "    <tr>\n",
       "      <td>5</td>\n",
       "      <td>13332.439024</td>\n",
       "    </tr>\n",
       "    <tr>\n",
       "      <td>10</td>\n",
       "      <td>13483.015584</td>\n",
       "    </tr>\n",
       "    <tr>\n",
       "      <td>50</td>\n",
       "      <td>15947.348039</td>\n",
       "    </tr>\n",
       "    <tr>\n",
       "      <td>100</td>\n",
       "      <td>13309.953521</td>\n",
       "    </tr>\n",
       "    <tr>\n",
       "      <td>500</td>\n",
       "      <td>11984.472561</td>\n",
       "    </tr>\n",
       "    <tr>\n",
       "      <td>1000</td>\n",
       "      <td>13754.268238</td>\n",
       "    </tr>\n",
       "    <tr>\n",
       "      <td>5000</td>\n",
       "      <td>13245.779915</td>\n",
       "    </tr>\n",
       "    <tr>\n",
       "      <td>10000</td>\n",
       "      <td>15020.592054</td>\n",
       "    </tr>\n",
       "    <tr>\n",
       "      <td>50000</td>\n",
       "      <td>17025.014925</td>\n",
       "    </tr>\n",
       "    <tr>\n",
       "      <td>100000</td>\n",
       "      <td>18045.038530</td>\n",
       "    </tr>\n",
       "    <tr>\n",
       "      <td>500000</td>\n",
       "      <td>21471.880392</td>\n",
       "    </tr>\n",
       "    <tr>\n",
       "      <td>1000000</td>\n",
       "      <td>22000.010482</td>\n",
       "    </tr>\n",
       "    <tr>\n",
       "      <td>5000000</td>\n",
       "      <td>22434.869565</td>\n",
       "    </tr>\n",
       "    <tr>\n",
       "      <td>10000000</td>\n",
       "      <td>22650.365803</td>\n",
       "    </tr>\n",
       "    <tr>\n",
       "      <td>50000000</td>\n",
       "      <td>19965.876777</td>\n",
       "    </tr>\n",
       "    <tr>\n",
       "      <td>100000000</td>\n",
       "      <td>26704.411765</td>\n",
       "    </tr>\n",
       "    <tr>\n",
       "      <td>500000000</td>\n",
       "      <td>16925.925926</td>\n",
       "    </tr>\n",
       "    <tr>\n",
       "      <td>1000000000</td>\n",
       "      <td>4238.095238</td>\n",
       "    </tr>\n",
       "  </tbody>\n",
       "</table>\n",
       "</div>"
      ],
      "text/plain": [
       "              Size in KB\n",
       "Installs                \n",
       "0           12160.000000\n",
       "1           13598.059701\n",
       "5           13332.439024\n",
       "10          13483.015584\n",
       "50          15947.348039\n",
       "100         13309.953521\n",
       "500         11984.472561\n",
       "1000        13754.268238\n",
       "5000        13245.779915\n",
       "10000       15020.592054\n",
       "50000       17025.014925\n",
       "100000      18045.038530\n",
       "500000      21471.880392\n",
       "1000000     22000.010482\n",
       "5000000     22434.869565\n",
       "10000000    22650.365803\n",
       "50000000    19965.876777\n",
       "100000000   26704.411765\n",
       "500000000   16925.925926\n",
       "1000000000   4238.095238"
      ]
     },
     "execution_count": 69,
     "metadata": {},
     "output_type": "execute_result"
    }
   ],
   "source": [
    "select_data1_group1 = select_data1.groupby( by = select_data1['Installs'])\n",
    "check_this_out1 = select_data1_group1.mean()\n",
    "check_this_out1"
   ]
  },
  {
   "cell_type": "code",
   "execution_count": 70,
   "metadata": {},
   "outputs": [
    {
     "data": {
      "text/plain": [
       "array([ 0,  1,  2,  3,  4,  5,  6,  7,  8,  9, 10, 11, 12, 13, 14, 15, 16,\n",
       "       17, 18, 19])"
      ]
     },
     "execution_count": 70,
     "metadata": {},
     "output_type": "execute_result"
    }
   ],
   "source": [
    "x_axis = np.arange(len(check_this_out1.index))\n",
    "x_axis"
   ]
  },
  {
   "cell_type": "code",
   "execution_count": 71,
   "metadata": {
    "scrolled": false
   },
   "outputs": [
    {
     "data": {
      "image/png": "[encoded data removed]",
      "text/plain": [
       "<Figure size 720x720 with 1 Axes>"
      ]
     },
     "metadata": {
      "needs_background": "light"
     },
     "output_type": "display_data"
    }
   ],
   "source": [
    "plt.figure(figsize = [10,10])\n",
    "#check_this_out1.plot.bar()\n",
    "plt.bar(x_axis, list(check_this_out1['Size in KB']))\n",
    "plt.title('File Size vs Number of Installs',fontsize = 25)\n",
    "plt.xlabel('Number of Installs',fontsize = 15)\n",
    "plt.ylabel('File Size (KB)',fontsize = 15)\n",
    "tick_locations = [value for value in x_axis]\n",
    "plt.xticks(tick_locations, check_this_out1.index, rotation = 'vertical')\n",
    "plt.savefig('images/File_Size_vs_Installs_BJT.png')\n",
    "plt.show()"
   ]
  },
  {
   "cell_type": "code",
   "execution_count": 72,
   "metadata": {},
   "outputs": [],
   "source": [
    "from scipy.stats import chisquare"
   ]
  },
  {
   "cell_type": "code",
   "execution_count": 73,
   "metadata": {},
   "outputs": [
    {
     "data": {
      "text/plain": [
       "Power_divergenceResult(statistic=3629564817814.9375, pvalue=0.0)"
      ]
     },
     "execution_count": 73,
     "metadata": {},
     "output_type": "execute_result"
    }
   ],
   "source": [
    "chisquare(select_data1['Installs'])"
   ]
  },
  {
   "cell_type": "code",
   "execution_count": 74,
   "metadata": {},
   "outputs": [
    {
     "data": {
      "text/plain": [
       "17886.551091524034"
      ]
     },
     "execution_count": 74,
     "metadata": {},
     "output_type": "execute_result"
    }
   ],
   "source": [
    "select_data1['Size in KB'].mean()"
   ]
  },
  {
   "cell_type": "code",
   "execution_count": 75,
   "metadata": {},
   "outputs": [
    {
     "data": {
      "text/plain": [
       "Installs\n",
       "0               15\n",
       "1               67\n",
       "5               82\n",
       "10             385\n",
       "50             204\n",
       "100            710\n",
       "500            328\n",
       "1000           891\n",
       "5000           468\n",
       "10000         1032\n",
       "50000          469\n",
       "100000        1116\n",
       "500000         510\n",
       "1000000       1431\n",
       "5000000        621\n",
       "10000000       965\n",
       "50000000       211\n",
       "100000000      204\n",
       "500000000       27\n",
       "1000000000      21\n",
       "Name: Size in KB, dtype: int64"
      ]
     },
     "execution_count": 75,
     "metadata": {},
     "output_type": "execute_result"
    }
   ],
   "source": [
    "select_data1_group1.count()['Size in KB']"
   ]
  },
  {
   "cell_type": "code",
   "execution_count": 76,
   "metadata": {},
   "outputs": [
    {
     "data": {
      "text/html": [
       "<div>\n",
       "<style scoped>\n",
       "    .dataframe tbody tr th:only-of-type {\n",
       "        vertical-align: middle;\n",
       "    }\n",
       "\n",
       "    .dataframe tbody tr th {\n",
       "        vertical-align: top;\n",
       "    }\n",
       "\n",
       "    .dataframe thead th {\n",
       "        text-align: right;\n",
       "    }\n",
       "</style>\n",
       "<table border=\"1\" class=\"dataframe\">\n",
       "  <thead>\n",
       "    <tr style=\"text-align: right;\">\n",
       "      <th></th>\n",
       "      <th>App</th>\n",
       "      <th>Category</th>\n",
       "      <th>Installs</th>\n",
       "      <th>Size in KB</th>\n",
       "    </tr>\n",
       "  </thead>\n",
       "  <tbody>\n",
       "    <tr>\n",
       "      <td>152</td>\n",
       "      <td>Google Play Books</td>\n",
       "      <td>Books &amp; Reference</td>\n",
       "      <td>1000000000</td>\n",
       "      <td>0</td>\n",
       "    </tr>\n",
       "    <tr>\n",
       "      <td>335</td>\n",
       "      <td>Messenger – Text and Video Chat for Free</td>\n",
       "      <td>Communication</td>\n",
       "      <td>1000000000</td>\n",
       "      <td>0</td>\n",
       "    </tr>\n",
       "    <tr>\n",
       "      <td>336</td>\n",
       "      <td>WhatsApp Messenger</td>\n",
       "      <td>Communication</td>\n",
       "      <td>1000000000</td>\n",
       "      <td>0</td>\n",
       "    </tr>\n",
       "    <tr>\n",
       "      <td>338</td>\n",
       "      <td>Google Chrome: Fast &amp; Secure</td>\n",
       "      <td>Communication</td>\n",
       "      <td>1000000000</td>\n",
       "      <td>0</td>\n",
       "    </tr>\n",
       "    <tr>\n",
       "      <td>340</td>\n",
       "      <td>Gmail</td>\n",
       "      <td>Communication</td>\n",
       "      <td>1000000000</td>\n",
       "      <td>0</td>\n",
       "    </tr>\n",
       "    <tr>\n",
       "      <td>341</td>\n",
       "      <td>Hangouts</td>\n",
       "      <td>Communication</td>\n",
       "      <td>1000000000</td>\n",
       "      <td>0</td>\n",
       "    </tr>\n",
       "    <tr>\n",
       "      <td>391</td>\n",
       "      <td>Skype - free IM &amp; video calls</td>\n",
       "      <td>Communication</td>\n",
       "      <td>1000000000</td>\n",
       "      <td>0</td>\n",
       "    </tr>\n",
       "    <tr>\n",
       "      <td>865</td>\n",
       "      <td>Google Play Games</td>\n",
       "      <td>Entertainment</td>\n",
       "      <td>1000000000</td>\n",
       "      <td>0</td>\n",
       "    </tr>\n",
       "    <tr>\n",
       "      <td>1654</td>\n",
       "      <td>Subway Surfers</td>\n",
       "      <td>Game</td>\n",
       "      <td>1000000000</td>\n",
       "      <td>76000</td>\n",
       "    </tr>\n",
       "    <tr>\n",
       "      <td>2544</td>\n",
       "      <td>Facebook</td>\n",
       "      <td>Social</td>\n",
       "      <td>1000000000</td>\n",
       "      <td>0</td>\n",
       "    </tr>\n",
       "    <tr>\n",
       "      <td>2545</td>\n",
       "      <td>Instagram</td>\n",
       "      <td>Social</td>\n",
       "      <td>1000000000</td>\n",
       "      <td>0</td>\n",
       "    </tr>\n",
       "    <tr>\n",
       "      <td>2554</td>\n",
       "      <td>Google+</td>\n",
       "      <td>Social</td>\n",
       "      <td>1000000000</td>\n",
       "      <td>0</td>\n",
       "    </tr>\n",
       "    <tr>\n",
       "      <td>2808</td>\n",
       "      <td>Google Photos</td>\n",
       "      <td>Photography</td>\n",
       "      <td>1000000000</td>\n",
       "      <td>0</td>\n",
       "    </tr>\n",
       "    <tr>\n",
       "      <td>3117</td>\n",
       "      <td>Maps - Navigate &amp; Explore</td>\n",
       "      <td>Travel &amp; Local</td>\n",
       "      <td>1000000000</td>\n",
       "      <td>0</td>\n",
       "    </tr>\n",
       "    <tr>\n",
       "      <td>3127</td>\n",
       "      <td>Google Street View</td>\n",
       "      <td>Travel &amp; Local</td>\n",
       "      <td>1000000000</td>\n",
       "      <td>0</td>\n",
       "    </tr>\n",
       "    <tr>\n",
       "      <td>3234</td>\n",
       "      <td>Google</td>\n",
       "      <td>Tools</td>\n",
       "      <td>1000000000</td>\n",
       "      <td>0</td>\n",
       "    </tr>\n",
       "    <tr>\n",
       "      <td>3454</td>\n",
       "      <td>Google Drive</td>\n",
       "      <td>Productivity</td>\n",
       "      <td>1000000000</td>\n",
       "      <td>0</td>\n",
       "    </tr>\n",
       "    <tr>\n",
       "      <td>3665</td>\n",
       "      <td>YouTube</td>\n",
       "      <td>Video Players</td>\n",
       "      <td>1000000000</td>\n",
       "      <td>0</td>\n",
       "    </tr>\n",
       "    <tr>\n",
       "      <td>3687</td>\n",
       "      <td>Google Play Movies &amp; TV</td>\n",
       "      <td>Video Players</td>\n",
       "      <td>1000000000</td>\n",
       "      <td>0</td>\n",
       "    </tr>\n",
       "    <tr>\n",
       "      <td>3736</td>\n",
       "      <td>Google News</td>\n",
       "      <td>News &amp; Magazines</td>\n",
       "      <td>1000000000</td>\n",
       "      <td>13000</td>\n",
       "    </tr>\n",
       "    <tr>\n",
       "      <td>5856</td>\n",
       "      <td>Google Play Games</td>\n",
       "      <td>Family</td>\n",
       "      <td>1000000000</td>\n",
       "      <td>0</td>\n",
       "    </tr>\n",
       "  </tbody>\n",
       "</table>\n",
       "</div>"
      ],
      "text/plain": [
       "                                           App           Category    Installs  \\\n",
       "152                          Google Play Books  Books & Reference  1000000000   \n",
       "335   Messenger – Text and Video Chat for Free      Communication  1000000000   \n",
       "336                         WhatsApp Messenger      Communication  1000000000   \n",
       "338               Google Chrome: Fast & Secure      Communication  1000000000   \n",
       "340                                      Gmail      Communication  1000000000   \n",
       "341                                   Hangouts      Communication  1000000000   \n",
       "391              Skype - free IM & video calls      Communication  1000000000   \n",
       "865                          Google Play Games      Entertainment  1000000000   \n",
       "1654                            Subway Surfers               Game  1000000000   \n",
       "2544                                  Facebook             Social  1000000000   \n",
       "2545                                 Instagram             Social  1000000000   \n",
       "2554                                   Google+             Social  1000000000   \n",
       "2808                             Google Photos        Photography  1000000000   \n",
       "3117                 Maps - Navigate & Explore     Travel & Local  1000000000   \n",
       "3127                        Google Street View     Travel & Local  1000000000   \n",
       "3234                                    Google              Tools  1000000000   \n",
       "3454                              Google Drive       Productivity  1000000000   \n",
       "3665                                   YouTube      Video Players  1000000000   \n",
       "3687                   Google Play Movies & TV      Video Players  1000000000   \n",
       "3736                               Google News   News & Magazines  1000000000   \n",
       "5856                         Google Play Games             Family  1000000000   \n",
       "\n",
       "      Size in KB  \n",
       "152            0  \n",
       "335            0  \n",
       "336            0  \n",
       "338            0  \n",
       "340            0  \n",
       "341            0  \n",
       "391            0  \n",
       "865            0  \n",
       "1654       76000  \n",
       "2544           0  \n",
       "2545           0  \n",
       "2554           0  \n",
       "2808           0  \n",
       "3117           0  \n",
       "3127           0  \n",
       "3234           0  \n",
       "3454           0  \n",
       "3665           0  \n",
       "3687           0  \n",
       "3736       13000  \n",
       "5856           0  "
      ]
     },
     "execution_count": 76,
     "metadata": {},
     "output_type": "execute_result"
    }
   ],
   "source": [
    "select_data1.loc[select_data1['Installs'] == 1000000000]"
   ]
  },
  {
   "cell_type": "code",
   "execution_count": 77,
   "metadata": {},
   "outputs": [
    {
     "data": {
      "text/html": [
       "<div>\n",
       "<style scoped>\n",
       "    .dataframe tbody tr th:only-of-type {\n",
       "        vertical-align: middle;\n",
       "    }\n",
       "\n",
       "    .dataframe tbody tr th {\n",
       "        vertical-align: top;\n",
       "    }\n",
       "\n",
       "    .dataframe thead th {\n",
       "        text-align: right;\n",
       "    }\n",
       "</style>\n",
       "<table border=\"1\" class=\"dataframe\">\n",
       "  <thead>\n",
       "    <tr style=\"text-align: right;\">\n",
       "      <th></th>\n",
       "      <th>Installs</th>\n",
       "      <th>Size in KB</th>\n",
       "    </tr>\n",
       "    <tr>\n",
       "      <th>Installs</th>\n",
       "      <th></th>\n",
       "      <th></th>\n",
       "    </tr>\n",
       "  </thead>\n",
       "  <tbody>\n",
       "    <tr>\n",
       "      <td>1</td>\n",
       "      <td>1.000000e+00</td>\n",
       "      <td>10000.000000</td>\n",
       "    </tr>\n",
       "    <tr>\n",
       "      <td>5</td>\n",
       "      <td>5.000000e+00</td>\n",
       "      <td>24000.000000</td>\n",
       "    </tr>\n",
       "    <tr>\n",
       "      <td>10</td>\n",
       "      <td>1.000000e+01</td>\n",
       "      <td>21573.333333</td>\n",
       "    </tr>\n",
       "    <tr>\n",
       "      <td>50</td>\n",
       "      <td>5.000000e+01</td>\n",
       "      <td>21836.363636</td>\n",
       "    </tr>\n",
       "    <tr>\n",
       "      <td>100</td>\n",
       "      <td>1.000000e+02</td>\n",
       "      <td>21266.666667</td>\n",
       "    </tr>\n",
       "    <tr>\n",
       "      <td>500</td>\n",
       "      <td>5.000000e+02</td>\n",
       "      <td>20383.333333</td>\n",
       "    </tr>\n",
       "    <tr>\n",
       "      <td>1000</td>\n",
       "      <td>1.000000e+03</td>\n",
       "      <td>25702.275000</td>\n",
       "    </tr>\n",
       "    <tr>\n",
       "      <td>5000</td>\n",
       "      <td>5.000000e+03</td>\n",
       "      <td>21747.058824</td>\n",
       "    </tr>\n",
       "    <tr>\n",
       "      <td>10000</td>\n",
       "      <td>1.000000e+04</td>\n",
       "      <td>30326.562500</td>\n",
       "    </tr>\n",
       "    <tr>\n",
       "      <td>50000</td>\n",
       "      <td>5.000000e+04</td>\n",
       "      <td>33738.871795</td>\n",
       "    </tr>\n",
       "    <tr>\n",
       "      <td>100000</td>\n",
       "      <td>1.000000e+05</td>\n",
       "      <td>39377.169643</td>\n",
       "    </tr>\n",
       "    <tr>\n",
       "      <td>500000</td>\n",
       "      <td>5.000000e+05</td>\n",
       "      <td>38503.225806</td>\n",
       "    </tr>\n",
       "    <tr>\n",
       "      <td>1000000</td>\n",
       "      <td>1.000000e+06</td>\n",
       "      <td>43083.018868</td>\n",
       "    </tr>\n",
       "    <tr>\n",
       "      <td>5000000</td>\n",
       "      <td>5.000000e+06</td>\n",
       "      <td>40463.829787</td>\n",
       "    </tr>\n",
       "    <tr>\n",
       "      <td>10000000</td>\n",
       "      <td>1.000000e+07</td>\n",
       "      <td>42411.229947</td>\n",
       "    </tr>\n",
       "    <tr>\n",
       "      <td>50000000</td>\n",
       "      <td>5.000000e+07</td>\n",
       "      <td>31043.636364</td>\n",
       "    </tr>\n",
       "    <tr>\n",
       "      <td>100000000</td>\n",
       "      <td>1.000000e+08</td>\n",
       "      <td>55542.105263</td>\n",
       "    </tr>\n",
       "    <tr>\n",
       "      <td>500000000</td>\n",
       "      <td>5.000000e+08</td>\n",
       "      <td>40000.000000</td>\n",
       "    </tr>\n",
       "    <tr>\n",
       "      <td>1000000000</td>\n",
       "      <td>1.000000e+09</td>\n",
       "      <td>76000.000000</td>\n",
       "    </tr>\n",
       "  </tbody>\n",
       "</table>\n",
       "</div>"
      ],
      "text/plain": [
       "                Installs    Size in KB\n",
       "Installs                              \n",
       "1           1.000000e+00  10000.000000\n",
       "5           5.000000e+00  24000.000000\n",
       "10          1.000000e+01  21573.333333\n",
       "50          5.000000e+01  21836.363636\n",
       "100         1.000000e+02  21266.666667\n",
       "500         5.000000e+02  20383.333333\n",
       "1000        1.000000e+03  25702.275000\n",
       "5000        5.000000e+03  21747.058824\n",
       "10000       1.000000e+04  30326.562500\n",
       "50000       5.000000e+04  33738.871795\n",
       "100000      1.000000e+05  39377.169643\n",
       "500000      5.000000e+05  38503.225806\n",
       "1000000     1.000000e+06  43083.018868\n",
       "5000000     5.000000e+06  40463.829787\n",
       "10000000    1.000000e+07  42411.229947\n",
       "50000000    5.000000e+07  31043.636364\n",
       "100000000   1.000000e+08  55542.105263\n",
       "500000000   5.000000e+08  40000.000000\n",
       "1000000000  1.000000e+09  76000.000000"
      ]
     },
     "execution_count": 77,
     "metadata": {},
     "output_type": "execute_result"
    }
   ],
   "source": [
    "select_data1_group2 = select_data1.loc[select_data1['Category']=='Game'].groupby(by = select_data1['Installs'])\n",
    "check_this_out2 = select_data1_group2.mean()\n",
    "check_this_out2"
   ]
  },
  {
   "cell_type": "code",
   "execution_count": 78,
   "metadata": {},
   "outputs": [
    {
     "data": {
      "text/html": [
       "<div>\n",
       "<style scoped>\n",
       "    .dataframe tbody tr th:only-of-type {\n",
       "        vertical-align: middle;\n",
       "    }\n",
       "\n",
       "    .dataframe tbody tr th {\n",
       "        vertical-align: top;\n",
       "    }\n",
       "\n",
       "    .dataframe thead th {\n",
       "        text-align: right;\n",
       "    }\n",
       "</style>\n",
       "<table border=\"1\" class=\"dataframe\">\n",
       "  <thead>\n",
       "    <tr style=\"text-align: right;\">\n",
       "      <th></th>\n",
       "      <th>App</th>\n",
       "      <th>Category</th>\n",
       "      <th>Installs</th>\n",
       "      <th>Size in KB</th>\n",
       "    </tr>\n",
       "    <tr>\n",
       "      <th>Installs</th>\n",
       "      <th></th>\n",
       "      <th></th>\n",
       "      <th></th>\n",
       "      <th></th>\n",
       "    </tr>\n",
       "  </thead>\n",
       "  <tbody>\n",
       "    <tr>\n",
       "      <td>1</td>\n",
       "      <td>5</td>\n",
       "      <td>5</td>\n",
       "      <td>5</td>\n",
       "      <td>5</td>\n",
       "    </tr>\n",
       "    <tr>\n",
       "      <td>5</td>\n",
       "      <td>2</td>\n",
       "      <td>2</td>\n",
       "      <td>2</td>\n",
       "      <td>2</td>\n",
       "    </tr>\n",
       "    <tr>\n",
       "      <td>10</td>\n",
       "      <td>15</td>\n",
       "      <td>15</td>\n",
       "      <td>15</td>\n",
       "      <td>15</td>\n",
       "    </tr>\n",
       "    <tr>\n",
       "      <td>50</td>\n",
       "      <td>11</td>\n",
       "      <td>11</td>\n",
       "      <td>11</td>\n",
       "      <td>11</td>\n",
       "    </tr>\n",
       "    <tr>\n",
       "      <td>100</td>\n",
       "      <td>27</td>\n",
       "      <td>27</td>\n",
       "      <td>27</td>\n",
       "      <td>27</td>\n",
       "    </tr>\n",
       "    <tr>\n",
       "      <td>500</td>\n",
       "      <td>12</td>\n",
       "      <td>12</td>\n",
       "      <td>12</td>\n",
       "      <td>12</td>\n",
       "    </tr>\n",
       "    <tr>\n",
       "      <td>1000</td>\n",
       "      <td>40</td>\n",
       "      <td>40</td>\n",
       "      <td>40</td>\n",
       "      <td>40</td>\n",
       "    </tr>\n",
       "    <tr>\n",
       "      <td>5000</td>\n",
       "      <td>17</td>\n",
       "      <td>17</td>\n",
       "      <td>17</td>\n",
       "      <td>17</td>\n",
       "    </tr>\n",
       "    <tr>\n",
       "      <td>10000</td>\n",
       "      <td>64</td>\n",
       "      <td>64</td>\n",
       "      <td>64</td>\n",
       "      <td>64</td>\n",
       "    </tr>\n",
       "    <tr>\n",
       "      <td>50000</td>\n",
       "      <td>39</td>\n",
       "      <td>39</td>\n",
       "      <td>39</td>\n",
       "      <td>39</td>\n",
       "    </tr>\n",
       "    <tr>\n",
       "      <td>100000</td>\n",
       "      <td>112</td>\n",
       "      <td>112</td>\n",
       "      <td>112</td>\n",
       "      <td>112</td>\n",
       "    </tr>\n",
       "    <tr>\n",
       "      <td>500000</td>\n",
       "      <td>62</td>\n",
       "      <td>62</td>\n",
       "      <td>62</td>\n",
       "      <td>62</td>\n",
       "    </tr>\n",
       "    <tr>\n",
       "      <td>1000000</td>\n",
       "      <td>159</td>\n",
       "      <td>159</td>\n",
       "      <td>159</td>\n",
       "      <td>159</td>\n",
       "    </tr>\n",
       "    <tr>\n",
       "      <td>5000000</td>\n",
       "      <td>94</td>\n",
       "      <td>94</td>\n",
       "      <td>94</td>\n",
       "      <td>94</td>\n",
       "    </tr>\n",
       "    <tr>\n",
       "      <td>10000000</td>\n",
       "      <td>187</td>\n",
       "      <td>187</td>\n",
       "      <td>187</td>\n",
       "      <td>187</td>\n",
       "    </tr>\n",
       "    <tr>\n",
       "      <td>50000000</td>\n",
       "      <td>55</td>\n",
       "      <td>55</td>\n",
       "      <td>55</td>\n",
       "      <td>55</td>\n",
       "    </tr>\n",
       "    <tr>\n",
       "      <td>100000000</td>\n",
       "      <td>57</td>\n",
       "      <td>57</td>\n",
       "      <td>57</td>\n",
       "      <td>57</td>\n",
       "    </tr>\n",
       "    <tr>\n",
       "      <td>500000000</td>\n",
       "      <td>4</td>\n",
       "      <td>4</td>\n",
       "      <td>4</td>\n",
       "      <td>4</td>\n",
       "    </tr>\n",
       "    <tr>\n",
       "      <td>1000000000</td>\n",
       "      <td>1</td>\n",
       "      <td>1</td>\n",
       "      <td>1</td>\n",
       "      <td>1</td>\n",
       "    </tr>\n",
       "  </tbody>\n",
       "</table>\n",
       "</div>"
      ],
      "text/plain": [
       "            App  Category  Installs  Size in KB\n",
       "Installs                                       \n",
       "1             5         5         5           5\n",
       "5             2         2         2           2\n",
       "10           15        15        15          15\n",
       "50           11        11        11          11\n",
       "100          27        27        27          27\n",
       "500          12        12        12          12\n",
       "1000         40        40        40          40\n",
       "5000         17        17        17          17\n",
       "10000        64        64        64          64\n",
       "50000        39        39        39          39\n",
       "100000      112       112       112         112\n",
       "500000       62        62        62          62\n",
       "1000000     159       159       159         159\n",
       "5000000      94        94        94          94\n",
       "10000000    187       187       187         187\n",
       "50000000     55        55        55          55\n",
       "100000000    57        57        57          57\n",
       "500000000     4         4         4           4\n",
       "1000000000    1         1         1           1"
      ]
     },
     "execution_count": 78,
     "metadata": {},
     "output_type": "execute_result"
    }
   ],
   "source": [
    "select_data1_group2.count()"
   ]
  },
  {
   "cell_type": "code",
   "execution_count": 79,
   "metadata": {},
   "outputs": [
    {
     "data": {
      "text/plain": [
       "array([ 0,  1,  2,  3,  4,  5,  6,  7,  8,  9, 10, 11, 12, 13, 14, 15, 16,\n",
       "       17, 18])"
      ]
     },
     "execution_count": 79,
     "metadata": {},
     "output_type": "execute_result"
    }
   ],
   "source": [
    "x_axis = np.arange(len(check_this_out2.index))\n",
    "x_axis"
   ]
  },
  {
   "cell_type": "code",
   "execution_count": 80,
   "metadata": {},
   "outputs": [
    {
     "data": {
      "image/png": "[encoded data removed]",
      "text/plain": [
       "<Figure size 720x720 with 1 Axes>"
      ]
     },
     "metadata": {
      "needs_background": "light"
     },
     "output_type": "display_data"
    }
   ],
   "source": [
    "plt.figure(figsize = [10,10])\n",
    "plt.bar(x_axis, list(check_this_out2['Size in KB']))\n",
    "plt.title('File Size vs Number of Installs for Games',fontsize = 25)\n",
    "plt.xlabel('Number of Installs',fontsize = 15)\n",
    "plt.ylabel('File Size (KB)',fontsize = 15)\n",
    "tick_locations = [value for value in x_axis]\n",
    "plt.xticks(tick_locations, check_this_out2.index, rotation = 'vertical')\n",
    "plt.savefig('images/File_Size_vs_Installs_Games_BJT.png')\n",
    "plt.show()"
   ]
  },
  {
   "cell_type": "code",
   "execution_count": 81,
   "metadata": {},
   "outputs": [
    {
     "data": {
      "text/plain": [
       "LinregressResult(slope=4.2926352325743594e-05, intercept=29760.776855347125, rvalue=0.710846700181021, pvalue=0.000645952342313771, stderr=1.0301327584351316e-05)"
      ]
     },
     "execution_count": 81,
     "metadata": {},
     "output_type": "execute_result"
    }
   ],
   "source": [
    "from scipy.stats import linregress\n",
    "line = linregress(check_this_out2.index, check_this_out2['Size in KB'])\n",
    "line"
   ]
  },
  {
   "cell_type": "code",
   "execution_count": 82,
   "metadata": {},
   "outputs": [
    {
     "data": {
      "text/plain": [
       "4.2926352325743594e-05"
      ]
     },
     "execution_count": 82,
     "metadata": {},
     "output_type": "execute_result"
    }
   ],
   "source": [
    "line[0]"
   ]
  },
  {
   "cell_type": "code",
   "execution_count": 83,
   "metadata": {},
   "outputs": [
    {
     "data": {
      "text/plain": [
       "Float64Index([               0.0, 0.6989700043360189,                1.0,\n",
       "              1.6989700043360187,                2.0, 2.6989700043360187,\n",
       "                             3.0, 3.6989700043360187,                4.0,\n",
       "               4.698970004336019,                5.0,  5.698970004336019,\n",
       "                             6.0,  6.698970004336019,                7.0,\n",
       "               7.698970004336019,                8.0,  8.698970004336019,\n",
       "                             9.0],\n",
       "             dtype='float64', name='Installs')"
      ]
     },
     "execution_count": 83,
     "metadata": {},
     "output_type": "execute_result"
    }
   ],
   "source": [
    "log_axis = np.log10(check_this_out2.index)\n",
    "log_axis"
   ]
  },
  {
   "cell_type": "code",
   "execution_count": 84,
   "metadata": {},
   "outputs": [
    {
     "data": {
      "image/png": "[encoded data removed]",
      "text/plain": [
       "<Figure size 432x288 with 1 Axes>"
      ]
     },
     "metadata": {
      "needs_background": "light"
     },
     "output_type": "display_data"
    }
   ],
   "source": [
    "plt.scatter(log_axis,check_this_out2['Size in KB'])\n",
    "plt.show()"
   ]
  },
  {
   "cell_type": "code",
   "execution_count": 85,
   "metadata": {},
   "outputs": [
    {
     "data": {
      "text/plain": [
       "LinregressResult(slope=4498.742539761053, intercept=12857.903169080404, rvalue=0.8422109071498416, pvalue=6.095315681878163e-06, stderr=698.4800102941879)"
      ]
     },
     "execution_count": 85,
     "metadata": {},
     "output_type": "execute_result"
    }
   ],
   "source": [
    "line2 = linregress(log_axis, check_this_out2['Size in KB'])\n",
    "line2"
   ]
  },
  {
   "cell_type": "code",
   "execution_count": 86,
   "metadata": {},
   "outputs": [
    {
     "data": {
      "text/plain": [
       "LinregressResult(slope=0.00015767055034890574, intercept=-0.6918527646768231, rvalue=0.8422109071498416, pvalue=6.095315681878163e-06, stderr=2.4480113422237185e-05)"
      ]
     },
     "execution_count": 86,
     "metadata": {},
     "output_type": "execute_result"
    }
   ],
   "source": [
    "line3 = linregress(check_this_out2['Size in KB'], log_axis)\n",
    "line3"
   ]
  },
  {
   "cell_type": "code",
   "execution_count": 87,
   "metadata": {},
   "outputs": [],
   "source": [
    "#y = mx + b\n",
    "def line_eq(x):\n",
    "    return line3[0]*x+line3[1]\n"
   ]
  },
  {
   "cell_type": "code",
   "execution_count": 88,
   "metadata": {},
   "outputs": [
    {
     "data": {
      "text/plain": [
       "0.8848527388122343"
      ]
     },
     "execution_count": 88,
     "metadata": {},
     "output_type": "execute_result"
    }
   ],
   "source": [
    "line_eq(10000)\n"
   ]
  },
  {
   "cell_type": "code",
   "execution_count": 89,
   "metadata": {},
   "outputs": [
    {
     "data": {
      "image/png": "[encoded data removed]",
      "text/plain": [
       "<Figure size 720x720 with 1 Axes>"
      ]
     },
     "metadata": {
      "needs_background": "light"
     },
     "output_type": "display_data"
    }
   ],
   "source": [
    "plt.figure(figsize = [10,10])\n",
    "plt.scatter(check_this_out2['Size in KB'], log_axis)#,check_this_out2['Size in KB'])\n",
    "plt.title('Log(Installs) vs File Size', fontsize = 25)\n",
    "plt.xlabel('File Size in KB', fontsize = 15)\n",
    "plt.ylabel('Log(Installs)',fontsize = 15)\n",
    "plt.plot([10000,73000],[line_eq(10000),line_eq(73000)], color='orange', marker='.', linestyle='dashed')\n",
    "plt.savefig('images/Log_Installs_vs_File_Size_BJT.png')\n",
    "plt.show()"
   ]
  },
  {
   "cell_type": "code",
   "execution_count": null,
   "metadata": {},
   "outputs": [],
   "source": []
  },
  {
   "cell_type": "code",
   "execution_count": null,
   "metadata": {},
   "outputs": [],
   "source": []
  },
  {
   "cell_type": "code",
   "execution_count": null,
   "metadata": {},
   "outputs": [],
   "source": []
  },
  {
   "cell_type": "code",
   "execution_count": 90,
   "metadata": {},
   "outputs": [],
   "source": [
    "#Barry end"
   ]
  },
  {
   "cell_type": "code",
   "execution_count": 91,
   "metadata": {},
   "outputs": [],
   "source": [
    "# Sam start\n",
    "\n",
    "# Found the count for each column in the Google dataframe to look for missing values using the count function.\n",
    "google_apps.count()"
   ]
  },
  {
   "cell_type": "code",
   "execution_count": null,
   "metadata": {},
   "outputs": [],
   "source": [
    "# Dropped any null rows using the dropna function.\n",
    "google_apps = google_apps.dropna(how='any')\n",
    "google_apps.count()"
   ]
  },
  {
   "cell_type": "code",
   "execution_count": null,
   "metadata": {},
   "outputs": [],
   "source": [
    "# Found the count for each column in the Apple dataframe to look for missing values using the count function.\n",
    "apple_apps.count()"
   ]
  },
  {
   "cell_type": "code",
   "execution_count": null,
   "metadata": {},
   "outputs": [],
   "source": [
    "# Dropped any null rows using the dropna function.\n",
    "apple_apps = apple_apps.dropna(how='any')\n",
    "apple_apps.count()"
   ]
  },
  {
   "cell_type": "code",
   "execution_count": null,
   "metadata": {},
   "outputs": [],
   "source": [
    "# Renamed the Rating column to Google Rating with the rename column function.\n",
    "google_apps = google_apps.rename(columns={\"Rating\": \"Google Rating\"})\n",
    "\n",
    "# Renamed the Rating column to Apple Rating with the rename column function.\n",
    "apple_apps = apple_apps.rename(columns={\"Rating\": \"Apple Rating\"})"
   ]
  },
  {
   "cell_type": "code",
   "execution_count": null,
   "metadata": {},
   "outputs": [],
   "source": [
    "# Used GroupBy function in order to separate the data into fields according to \"Category\" values.\n",
    "google_apps_category = google_apps.groupby(\"Category\")\n",
    "\n",
    "# Got the average of the Rating column in the GroupBy object using the mean function.\n",
    "google_apps_mean = google_apps_category[[\"Google Rating\"]].mean()\n",
    "google_apps_mean"
   ]
  },
  {
   "cell_type": "code",
   "execution_count": 92,
   "metadata": {},
   "outputs": [],
   "source": [
    "# Used GroupBy function in order to separate the data into fields according to \"Category\" values.\n",
    "apple_apps_category = apple_apps.groupby(\"Category\")\n",
    "\n",
    "# Got the average of the Rating column in the GroupBy object using the mean function.\n",
    "apple_apps_mean = apple_apps_category[[\"Apple Rating\"]].mean()\n",
    "apple_apps_mean"
   ]
  },
  {
   "cell_type": "code",
   "execution_count": null,
   "metadata": {},
   "outputs": [],
   "source": [
    "# Merged both dataframes together based on the Categories they share by using the merge function.\n",
    "google_apple_merge = pd.merge(google_apps_mean, apple_apps_mean, on=\"Category\")\n",
    "google_apple_merge"
   ]
  },
  {
   "cell_type": "code",
   "execution_count": null,
   "metadata": {},
   "outputs": [],
   "source": [
    "# Renamed the Rating columns to Average Google and Average Apple Rating with the rename column function.\n",
    "google_apple_merge = google_apple_merge.rename(columns={\"Google Rating\": \"Average Google Rating\", \"Apple Rating\": \"Average Apple Rating\"})\n",
    "\n",
    "# Reset the index so that the index is now based on the different Categories.\n",
    "google_apple_merge = google_apple_merge.reset_index()\n"
   ]
  },
  {
   "cell_type": "code",
   "execution_count": null,
   "metadata": {},
   "outputs": [],
   "source": [
    "\n",
    "# Created a bar chart from the google_apple_merge dataframe comparing the average ratings of the app categories.\n",
    "# Title will be 'Average Rating by Category'\n",
    "# x-axis labels will be the different categories and the y-axis will be 'Average Rating'\n",
    "ind = np.arange(len(google_apple_merge['Average Google Rating']))\n",
    "width = 0.25\n",
    "\n",
    "fig, ax = plt.subplots(figsize=(20, 7))\n",
    "rects1 = ax.bar(ind - width/2, google_apple_merge['Average Google Rating'], width, label='Google')\n",
    "rects2 = ax.bar(ind + width/2, google_apple_merge['Average Apple Rating'], width, label='Apple')\n",
    "\n",
    "\n",
    "plt.ylim(0, 5)\n",
    "\n",
    "ax.set_ylabel('Average Rating', fontsize=18)\n",
    "ax.set_title('Average Rating by Category', fontsize=25)\n",
    "ax.set_xticks(ind)\n",
    "ax.set_xticklabels(google_apple_merge['Category'], rotation=45, fontsize=15)\n",
    "plt.legend(['Average Google Rating', 'Average Apple Rating'], loc='upper right', fontsize=15)\n",
    "plt.savefig(\"Images/avg_rting_sk_bgraph.png\")\n",
    "\n"
   ]
  },
  {
   "cell_type": "code",
   "execution_count": null,
   "metadata": {},
   "outputs": [],
   "source": [
    "# Found the average rating for all of the Google apps using the mean function.\n",
    "google_pop = google_apps['Google Rating']\n",
    "google_pop.mean()"
   ]
  },
  {
   "cell_type": "code",
   "execution_count": null,
   "metadata": {},
   "outputs": [],
   "source": [
    "# Found the average rating for all of the Apple apps using the mean function.\n",
    "apple_pop = apple_apps['Apple Rating']\n",
    "apple_pop.mean()"
   ]
  },
  {
   "cell_type": "code",
   "execution_count": null,
   "metadata": {},
   "outputs": [],
   "source": [
    "# Null Hypothesis: There is no difference in ratings between the common app categories included in the Google and Apple dataframes.\n",
    "\n",
    "# Calculated the Independent (Two Sample) T-Test\n",
    "stats.ttest_ind(google_pop, apple_pop, equal_var=False)\n",
    "\n",
    "# The pvalue is less than .05 which tells us that the Null Hypothesis will be rejected and there is a significant difference.\n",
    "\n",
    "#Sam end"
   ]
  },
  {
   "cell_type": "code",
   "execution_count": 93,
   "metadata": {},
   "outputs": [],
   "source": [
    "#Abbas start"
   ]
  },
  {
   "cell_type": "code",
   "execution_count": 94,
   "metadata": {},
   "outputs": [],
   "source": [
    "google_apps.count()\n",
    "google_apps= google_apps.dropna(how='any')\n",
    "google_apps.count()\n",
    "\n",
    "apple_apps.count()\n",
    "apple_apps = apple_apps.dropna(how='any')\n",
    "apple_apps.count()"
   ]
  },
  {
   "cell_type": "code",
   "execution_count": null,
   "metadata": {},
   "outputs": [],
   "source": [
    "# Data Frame - Top 5 paid google categories by spending\n",
    "# Select only the paid apps\n",
    "\n",
    "google_apps_paid = google_apps.loc[google_apps['Type']==\"Paid\",:]\n",
    "\n",
    "# Convert the value\n",
    "google_apps_paid.loc[:,'Price']=google_apps_paid['Price'].str.replace('$','')\n",
    "google_apps_paid= google_apps_paid.astype({'Price': float})\n",
    "\n",
    "google_apps_grouped = google_apps_paid.groupby('Category').agg(\n",
    "                 total_games=('App', 'count'),\n",
    "                 total_spending = ('Price', 'sum'))\n",
    "\n",
    "google_apps_paid_top_5 = google_apps_grouped.sort_values('total_spending', ascending=False)\n",
    "google_apps_paid_top_5 = google_apps_paid_top_5.reset_index()\n",
    "google_apps_paid_top_5 = google_apps_paid_top_5.iloc[0:5]\n",
    "google_apps_paid_top_5"
   ]
  },
  {
   "cell_type": "code",
   "execution_count": null,
   "metadata": {},
   "outputs": [],
   "source": [
    "# plot a pie chart\n",
    "\n",
    "labels = google_apps_paid_top_5['Category']\n",
    "sizes =  google_apps_paid_top_5['total_spending']\n",
    "explode = (0.1,0, 0, 0, 0)  \n",
    "\n",
    "fig1, ax1 = plt.subplots(figsize=(12,8))\n",
    "ax1.pie(sizes, explode = explode, labels=labels, autopct='%1.1f%%',\n",
    "        shadow=True, startangle=90, radius = 1.2)\n",
    "plt.title('Top paid Google Apps by spending\\n\\n')\n",
    "plt.show()\n",
    "plt.savefig('images/as_google_total_spending.png')"
   ]
  },
  {
   "cell_type": "code",
   "execution_count": null,
   "metadata": {},
   "outputs": [],
   "source": [
    "# Data Frame - Top 5 paid apple categories by spending\n",
    "# Select only the paid apps\n",
    "\n",
    "apple_apps_paid = apple_apps.loc[apple_apps['Price'] >0.00,:]\n",
    "\n",
    "# Convert the value\n",
    "\n",
    "apple_apps_paid= apple_apps_paid.astype({'Price': float})\n",
    "\n",
    "\n",
    "apple_apps_grouped = apple_apps_paid.groupby('Category').agg(\n",
    "                 total_games=('App', 'count'),\n",
    "                 total_spending = ('Price', 'sum'))\n",
    "                \n",
    "apple_apps_paid_top_5 = apple_apps_grouped.sort_values('total_spending', ascending=False)\n",
    "apple_apps_paid_top_5 = apple_apps_paid_top_5.reset_index()\n",
    "apple_apps_paid_top_5\n",
    "apple_apps_paid_top_5 = apple_apps_paid_top_5.iloc[0:5]\n",
    "apple_apps_paid_top_5"
   ]
  },
  {
   "cell_type": "code",
   "execution_count": null,
   "metadata": {},
   "outputs": [],
   "source": [
    "# plot a pie chart\n",
    "\n",
    "labels = apple_apps_paid_top_5['Category']\n",
    "sizes =  apple_apps_paid_top_5['total_spending']\n",
    "explode = (0.1,0, 0, 0, 0)  \n",
    "\n",
    "fig1, ax1 = plt.subplots(figsize=(12,8))\n",
    "ax1.pie(sizes, explode = explode, labels=labels, autopct='%1.1f%%',\n",
    "        shadow=True, startangle=90, radius = 1.2)\n",
    "plt.title('Top paid Apple Apps by spending\\n\\n')\n",
    "plt.show()\n",
    "plt.savefig('images/as_apple_total_spending.png')"
   ]
  },
  {
   "cell_type": "code",
   "execution_count": null,
   "metadata": {},
   "outputs": [],
   "source": [
    "#Abbas end"
   ]
  },
  {
   "cell_type": "code",
   "execution_count": 95,
   "metadata": {},
   "outputs": [],
   "source": [
    "#Farshad start"
   ]
  },
  {
   "cell_type": "code",
   "execution_count": 96,
   "metadata": {},
   "outputs": [],
   "source": [
    "# Data Frame - Top 5 google categories by ratings\n",
    "google_apps_df1 = google_apps.groupby('Category').agg(\n",
    "                 total_games=('App', 'count'),\n",
    "                 highest_rating = ('Rating', 'max'),\n",
    "                 lowest_rating = ('Rating', 'min'),\n",
    "                 sd = ('Rating', 'std'))\n",
    "\n",
    "google_apps_top_5 = google_apps_df1.sort_values('total_games', ascending=False)\n",
    "google_apps_top_5 = google_apps_top_5.reset_index()\n",
    "google_apps_top_5 = google_apps_top_5.iloc[0:5]\n",
    "google_apps_top_5\n"
   ]
  },
  {
   "cell_type": "code",
   "execution_count": null,
   "metadata": {},
   "outputs": [],
   "source": [
    "# Pie Chart - Top 5 google category by total games\n",
    "labels = google_apps_top_5['Category']\n",
    "sizes =  google_apps_top_5['total_games']\n",
    "explode = (0.1,0, 0, 0, 0)  \n",
    "\n",
    "fig1, ax1 = plt.subplots(figsize=(12,8))\n",
    "ax1.pie(sizes, explode = explode, labels=labels, autopct='%1.1f%%',\n",
    "        shadow=True, startangle=90, radius = 1.2)\n",
    "plt.title(\"Top Five Google App Categories\\n\\n\")\n",
    "plt.show()\n",
    "plt.savefig('images/fe_google_top_rating.png')"
   ]
  },
  {
   "cell_type": "code",
   "execution_count": null,
   "metadata": {},
   "outputs": [],
   "source": [
    "# Data Frame - Top 5 apple categories by total games\n",
    "apple_apps_df1 = apple_apps.groupby('Category').agg(\n",
    "                  total_games= ('App', 'count'),\n",
    "                  highest_rating = ('Rating', 'max'),\n",
    "                  lowest_rating = ('Rating', 'min'),\n",
    "                  sd = ('Rating', 'std'))\n",
    "\n",
    "\n",
    "apple_apps_top_5 = apple_apps_df1.sort_values('total_games', ascending=False)\n",
    "apple_apps_top_5 = apple_apps_top_5.reset_index()\n",
    "apple_apps_top_5 = apple_apps_top_5.iloc[0:5]\n",
    "apple_apps_top_5\n"
   ]
  },
  {
   "cell_type": "code",
   "execution_count": null,
   "metadata": {},
   "outputs": [],
   "source": [
    "# Pie Chart - Top 5 apple category by total games\n",
    "labels = apple_apps_top_5['Category']\n",
    "sizes =  apple_apps_top_5['total_games']\n",
    "explode = (0.1,0, 0, 0, 0)  \n",
    "\n",
    "fig1, ax1 = plt.subplots(figsize=(12,8))\n",
    "ax1.pie(sizes, explode = explode, labels=labels, autopct='%1.1f%%',\n",
    "        shadow=True, startangle=90, radius = 1.2)\n",
    "plt.title(\"Top Five Apple App Categories\\n\\n\")\n",
    "plt.show()\n",
    "plt.savefig('images/fe_apple_top_rating.png')"
   ]
  },
  {
   "cell_type": "code",
   "execution_count": null,
   "metadata": {},
   "outputs": [],
   "source": [
    "# Unpaid apps in google and apple\n",
    "google_apps_unpaid = google_apps.loc[google_apps['Type']=='Free',:]\n",
    "\n",
    "apple_apps_unpaid = apple_apps.loc[apple_apps['Price']==0,:]\n"
   ]
  },
  {
   "cell_type": "code",
   "execution_count": null,
   "metadata": {},
   "outputs": [],
   "source": [
    "import scipy.stats as stats\n",
    "# Null Hypothesis: There is no difference in ratings between paid and unpaid apple apps\n",
    "stats.ttest_ind(apple_apps_unpaid[\"Rating\"], apple_apps_paid[\"Rating\"], equal_var=False)\n"
   ]
  },
  {
   "cell_type": "code",
   "execution_count": null,
   "metadata": {},
   "outputs": [],
   "source": [
    "# Null Hypothesis: There is no difference in ratings between paid google and apple apps\n",
    "stats.ttest_ind(google_apps_paid.dropna()[\"Rating\"], apple_apps_paid.dropna()[\"Rating\"], equal_var=False)"
   ]
  },
  {
   "cell_type": "code",
   "execution_count": null,
   "metadata": {},
   "outputs": [],
   "source": [
    "# Null Hypothesis: There is no difference in ratings between paid and unpaid google apps\n",
    "stats.ttest_ind(google_apps_unpaid.dropna()[\"Rating\"], google_apps_paid.dropna()[\"Rating\"], equal_var=False)"
   ]
  },
  {
   "cell_type": "code",
   "execution_count": null,
   "metadata": {},
   "outputs": [],
   "source": [
    "# Binning the apps by price ranges\n",
    "\n",
    "bins = [0.00, 1.99, 3.99, 9.99, 499.99]\n",
    "group_names = ['<$2','$2-4','$5-10','>$10']\n",
    "google_apps_paid['Price Range'] = pd.cut(google_apps_paid['Price'], bins, labels=group_names)\n",
    "google_apps_paid\n",
    "apple_apps_paid['Price Range'] = pd.cut(apple_apps_paid['Price'], bins, labels=group_names)\n",
    "\n",
    "google_apps_paid_ranges = google_apps_paid.groupby(\"Price Range\").agg(\n",
    "                         total_games= ('App', 'count' ))\n",
    "google_apps_paid_ranges\n",
    "apple_apps_paid_ranges = apple_apps_paid.groupby(\"Price Range\").agg(\n",
    "                           total_games = ('App', 'count'))\n",
    "\n",
    "combined_paid_range = pd.merge(apple_apps_paid_ranges, google_apps_paid_ranges, how=\"inner\", on=\"Price Range\")\n",
    "combined_paid_range = combined_paid_range.reset_index()\n",
    "combined_paid_range"
   ]
  },
  {
   "cell_type": "code",
   "execution_count": null,
   "metadata": {},
   "outputs": [],
   "source": [
    "# Plot Bar Chart\n",
    "ind = np.arange(len(combined_paid_range['total_games_x']))\n",
    "width = 0.25\n",
    "\n",
    "fig, ax = plt.subplots(figsize=(20, 7))\n",
    "rects1 = ax.bar(ind - width/2, combined_paid_range['total_games_x'], width, label='Apple games')\n",
    "rects2 = ax.bar(ind + width/2, combined_paid_range['total_games_y'], width, label='Google games')\n",
    "\n",
    "ax.set_ylabel('Total Games')\n",
    "ax.set_title('Total Games by Price Range')\n",
    "ax.set_xticks(ind)\n",
    "ax.set_xticklabels(combined_paid_range['Price Range'], rotation=45)\n",
    "plt.legend(['Apple', 'Google'], loc='upper right')\n",
    "plt.show()\n",
    "plt.savefig('images/fe_spending_ranges.png')"
   ]
  },
  {
   "cell_type": "code",
   "execution_count": null,
   "metadata": {},
   "outputs": [],
   "source": [
    "#Farshad end"
   ]
  }
 ],
 "metadata": {
  "kernelspec": {
   "display_name": "Python 3",
   "language": "python",
   "name": "python3"
  },
  "language_info": {
   "codemirror_mode": {
    "name": "ipython",
    "version": 3
   },
   "file_extension": ".py",
   "mimetype": "text/x-python",
   "name": "python",
   "nbconvert_exporter": "python",
   "pygments_lexer": "ipython3",
   "version": "3.6.9"
  }
 },
 "nbformat": 4,
 "nbformat_minor": 2
}
