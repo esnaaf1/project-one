{
 "cells": [
  {
   "cell_type": "code",
   "execution_count": null,
   "metadata": {},
   "outputs": [],
   "source": [
    "#Imports packages\n",
    "import pandas as pd\n",
    "import numpy as np\n",
    "import matplotlib.pyplot as plt"
   ]
  },
  {
   "cell_type": "code",
   "execution_count": null,
   "metadata": {},
   "outputs": [],
   "source": [
    "#Reading CSV files\n",
    "google_apps = pd.read_csv(\"source/Google_Apps_Clean.csv\")\n",
    "google_app_reviews= pd.read_csv(\"source/googleplaystore_user_reviews.csv\")\n",
    "apple_apps= pd.read_csv(\"source/Apple_Apps_Clean.csv\")"
   ]
  },
  {
   "cell_type": "code",
   "execution_count": null,
   "metadata": {},
   "outputs": [],
   "source": [
    "#Barry start "
   ]
  },
  {
   "cell_type": "markdown",
   "metadata": {},
   "source": [
    "# Data Cleaning\n",
    "The first part of my section is to clean the csv files. To prevent conflicts in git we have updated the file names in the above cells with the files I made at the end of this section. I have commented out the code I used to make them as it will not work with the new file names."
   ]
  },
  {
   "cell_type": "code",
   "execution_count": null,
   "metadata": {},
   "outputs": [],
   "source": [
    "# #Looking at the Google Play Store Data\n",
    "# google_apps.head()"
   ]
  },
  {
   "cell_type": "code",
   "execution_count": null,
   "metadata": {},
   "outputs": [],
   "source": [
    "# google_apps2 = google_apps\n",
    "# google_apps2.head()"
   ]
  },
  {
   "cell_type": "code",
   "execution_count": null,
   "metadata": {},
   "outputs": [],
   "source": [
    "# #Looking at number of installs\n",
    "# google_apps2['Installs'].unique()"
   ]
  },
  {
   "cell_type": "code",
   "execution_count": null,
   "metadata": {},
   "outputs": [],
   "source": [
    "# #Something funny going on, looking to see why a Install count is called Free\n",
    "# google_apps2.loc[google_apps2['Installs'] == 'Free']"
   ]
  },
  {
   "cell_type": "code",
   "execution_count": null,
   "metadata": {},
   "outputs": [],
   "source": [
    "# #Found the troublesome row on the play store website, its category is Lifestyle. Checking to see if there is a lifestyle label in our dataframe.\n",
    "# google_apps2['Category'].unique()"
   ]
  },
  {
   "cell_type": "code",
   "execution_count": null,
   "metadata": {},
   "outputs": [],
   "source": [
    "# #Converting row to array for easier manipluation. Insert category and delete the last 'nan'\n",
    "# arr = google_apps2.loc[google_apps2['Installs'] == 'Free'].values\n",
    "# arr = np.insert(arr,1,'LIFESTYLE')\n",
    "# arr = np.delete(arr, -1)\n",
    "# arr"
   ]
  },
  {
   "cell_type": "code",
   "execution_count": null,
   "metadata": {},
   "outputs": [],
   "source": [
    "# #Changing the bad row to the new values\n",
    "# google_apps2.loc[google_apps2['Installs'] == 'Free'] = arr"
   ]
  },
  {
   "cell_type": "code",
   "execution_count": null,
   "metadata": {},
   "outputs": [],
   "source": [
    "# #Checking to see if it worked\n",
    "# google_apps2.iloc[10472]"
   ]
  },
  {
   "cell_type": "code",
   "execution_count": null,
   "metadata": {},
   "outputs": [],
   "source": [
    "# #Checking to see if it worked\n",
    "# google_apps2['Category'].unique()"
   ]
  },
  {
   "cell_type": "code",
   "execution_count": null,
   "metadata": {},
   "outputs": [],
   "source": [
    "# #convert installs row to int \n",
    "# google_apps2['Installs'] = pd.to_numeric(list(map(lambda x: x.replace('+',''), map(lambda x: x.replace(',',''), google_apps2['Installs']))))\n",
    "# google_apps2.head()"
   ]
  },
  {
   "cell_type": "code",
   "execution_count": null,
   "metadata": {},
   "outputs": [],
   "source": [
    "# #Looking at Size column values\n",
    "# google_apps2['Size'].unique()"
   ]
  },
  {
   "cell_type": "code",
   "execution_count": null,
   "metadata": {},
   "outputs": [],
   "source": [
    "# #defining a function to help clean turn values into ints\n",
    "# def M_to_k(string):\n",
    "#     number = 0\n",
    "#     if 'M' in string:\n",
    "#         number = float(string.replace('M',''))\n",
    "#         number = number*1000\n",
    "#     elif 'k' in string:\n",
    "#         number = float(string.replace('k',''))\n",
    "#     number = int(number)\n",
    "#     #if number == 0:\n",
    "#         #number = float('NaN')\n",
    "#     return number;"
   ]
  },
  {
   "cell_type": "code",
   "execution_count": null,
   "metadata": {},
   "outputs": [],
   "source": [
    "# #changing size column to numerics\n",
    "# google_apps2['Size'] = list(map(M_to_k, google_apps2['Size']))\n",
    "# google_apps2.head()"
   ]
  },
  {
   "cell_type": "code",
   "execution_count": null,
   "metadata": {},
   "outputs": [],
   "source": [
    "# google_apps2 = google_apps2.rename(columns = {'Size':'Size in KB'})\n",
    "# google_apps2.head()"
   ]
  },
  {
   "cell_type": "code",
   "execution_count": null,
   "metadata": {},
   "outputs": [],
   "source": [
    "# #looking at apple apps dataframe\n",
    "# apple_apps.head()"
   ]
  },
  {
   "cell_type": "code",
   "execution_count": null,
   "metadata": {},
   "outputs": [],
   "source": [
    "# apple_apps2 = apple_apps\n",
    "# apple_apps2.head()"
   ]
  },
  {
   "cell_type": "code",
   "execution_count": null,
   "metadata": {},
   "outputs": [],
   "source": [
    "# #deleting id column as it doesnt mean anything to us\n",
    "# del apple_apps2['id']\n",
    "# apple_apps2.head()"
   ]
  },
  {
   "cell_type": "code",
   "execution_count": null,
   "metadata": {},
   "outputs": [],
   "source": [
    "# apple_apps2['currency'].unique()"
   ]
  },
  {
   "cell_type": "code",
   "execution_count": null,
   "metadata": {},
   "outputs": [],
   "source": [
    "# #all currency values are USD. Deleting\n",
    "# del apple_apps2['currency']\n",
    "# apple_apps2.head()"
   ]
  },
  {
   "cell_type": "code",
   "execution_count": null,
   "metadata": {},
   "outputs": [],
   "source": [
    "# apple_apps2['game_enab'].unique()"
   ]
  },
  {
   "cell_type": "code",
   "execution_count": null,
   "metadata": {},
   "outputs": [],
   "source": [
    "# del apple_apps2['game_enab']\n",
    "# apple_apps2.head()"
   ]
  },
  {
   "cell_type": "code",
   "execution_count": null,
   "metadata": {},
   "outputs": [],
   "source": [
    "# apple_apps2['vpp_lic'].unique()"
   ]
  },
  {
   "cell_type": "code",
   "execution_count": null,
   "metadata": {},
   "outputs": [],
   "source": [
    "# del apple_apps2['vpp_lic']\n",
    "# apple_apps2.head()"
   ]
  },
  {
   "cell_type": "code",
   "execution_count": null,
   "metadata": {},
   "outputs": [],
   "source": [
    "# #deleting non-useful columns\n",
    "# del apple_apps2['ipadSc_urls.num']\n",
    "# del apple_apps2['sup_devices.num']\n",
    "# del apple_apps2['rating_count_ver']\n",
    "# del apple_apps2['user_rating_ver']\n",
    "# apple_apps2.head()"
   ]
  },
  {
   "cell_type": "code",
   "execution_count": null,
   "metadata": {},
   "outputs": [],
   "source": [
    "# apple_apps2['size_bytes'] = list(map(lambda x: int(x/1000),apple_apps2['size_bytes']))\n",
    "# apple_apps2.head()"
   ]
  },
  {
   "cell_type": "code",
   "execution_count": null,
   "metadata": {},
   "outputs": [],
   "source": [
    "# apple_apps2 = apple_apps2.rename(columns = {'track_name':'App','size_bytes':'Size in KB','price':'Price','rating_count_tot':'Reviews','user_rating':'Rating','ver':'Current Version','cont_rating':'Content Rating','prime_genre':'Category','lang.num':'Number of Languages'})\n",
    "# apple_apps2.head()"
   ]
  },
  {
   "cell_type": "code",
   "execution_count": null,
   "metadata": {},
   "outputs": [],
   "source": [
    "# apple_apps2 = apple_apps2[['App','Category','Rating','Reviews','Size in KB','Price','Content Rating','Current Version','Number of Languages']]\n",
    "# apple_apps2.head()"
   ]
  },
  {
   "cell_type": "code",
   "execution_count": null,
   "metadata": {},
   "outputs": [],
   "source": [
    "# apple_apps2['Content Rating'].value_counts()"
   ]
  },
  {
   "cell_type": "code",
   "execution_count": null,
   "metadata": {},
   "outputs": [],
   "source": [
    "# google_apps2['Content Rating'].value_counts()"
   ]
  },
  {
   "cell_type": "code",
   "execution_count": null,
   "metadata": {},
   "outputs": [],
   "source": [
    "# def ContentConverter(string):\n",
    "#     if string == '4+':\n",
    "#         string = 'Everyone'\n",
    "#     elif string == '9+':\n",
    "#         string = 'Everyone 10+'\n",
    "#     elif string == '12+':\n",
    "#         string = 'Teen'\n",
    "#     elif string == '17+':\n",
    "#         string = 'Mature 17+'\n",
    "#     else:\n",
    "#         string = 'Unrated'\n",
    "#     return string;   "
   ]
  },
  {
   "cell_type": "code",
   "execution_count": null,
   "metadata": {},
   "outputs": [],
   "source": [
    "# #Standardizing content ratings\n",
    "# apple_apps2['Content Rating'] = list(map(ContentConverter, apple_apps2['Content Rating']))\n",
    "# apple_apps2['Content Rating'].value_counts()"
   ]
  },
  {
   "cell_type": "code",
   "execution_count": null,
   "metadata": {},
   "outputs": [],
   "source": [
    "# apple_apps2.head()"
   ]
  },
  {
   "cell_type": "code",
   "execution_count": null,
   "metadata": {},
   "outputs": [],
   "source": [
    "# apple_categories = list(apple_apps2['Category'].unique())\n",
    "# del apple_categories[10]\n",
    "# apple_categories"
   ]
  },
  {
   "cell_type": "code",
   "execution_count": null,
   "metadata": {},
   "outputs": [],
   "source": [
    "# apple_categories.sort()\n",
    "# apple_categories"
   ]
  },
  {
   "cell_type": "code",
   "execution_count": null,
   "metadata": {},
   "outputs": [],
   "source": [
    "# list(google_apps2['Category'].unique())"
   ]
  },
  {
   "cell_type": "code",
   "execution_count": null,
   "metadata": {},
   "outputs": [],
   "source": [
    "# test_column = list(map(lambda x: x.replace('_',' '), google_apps2['Category']))"
   ]
  },
  {
   "cell_type": "code",
   "execution_count": null,
   "metadata": {},
   "outputs": [],
   "source": [
    "# test_column = list(map(lambda x: x.title() , test_column))"
   ]
  },
  {
   "cell_type": "code",
   "execution_count": null,
   "metadata": {},
   "outputs": [],
   "source": [
    "# test_column = list(map(lambda x: x.replace('And','&'),test_column))"
   ]
  },
  {
   "cell_type": "code",
   "execution_count": null,
   "metadata": {},
   "outputs": [],
   "source": [
    "# google_apps2['Category'] = test_column\n",
    "# google_apps2.head()"
   ]
  },
  {
   "cell_type": "code",
   "execution_count": null,
   "metadata": {},
   "outputs": [],
   "source": [
    "# list(google_apps2['Category'].unique())"
   ]
  },
  {
   "cell_type": "code",
   "execution_count": null,
   "metadata": {},
   "outputs": [],
   "source": [
    "# categories = list(google_apps2['Category'].unique())"
   ]
  },
  {
   "cell_type": "code",
   "execution_count": null,
   "metadata": {},
   "outputs": [],
   "source": [
    "# categories.extend(apple_categories)"
   ]
  },
  {
   "cell_type": "code",
   "execution_count": null,
   "metadata": {},
   "outputs": [],
   "source": [
    "# categories.sort()"
   ]
  },
  {
   "cell_type": "code",
   "execution_count": null,
   "metadata": {
    "scrolled": true
   },
   "outputs": [],
   "source": [
    "# categories"
   ]
  },
  {
   "cell_type": "code",
   "execution_count": null,
   "metadata": {},
   "outputs": [],
   "source": [
    "# def nan_handler(input):\n",
    "#     output = ''\n",
    "#     if isinstance(input, str):\n",
    "#         output = input\n",
    "#     else:\n",
    "#         output = 'None'\n",
    "#     return output;\n",
    "\n",
    "        "
   ]
  },
  {
   "cell_type": "code",
   "execution_count": null,
   "metadata": {},
   "outputs": [],
   "source": [
    "# apple_apps2['Category'] = list(map(nan_handler, apple_apps2['Category']))"
   ]
  },
  {
   "cell_type": "code",
   "execution_count": null,
   "metadata": {},
   "outputs": [],
   "source": [
    "# apple_apps2['Category'] = list(map(lambda x: x.replace('Games','Game'), apple_apps2['Category']))"
   ]
  },
  {
   "cell_type": "code",
   "execution_count": null,
   "metadata": {},
   "outputs": [],
   "source": [
    "# apple_apps2['Category'] = list(map(lambda x: x.replace('Navigation','Maps & Navigation'), apple_apps2['Category']))"
   ]
  },
  {
   "cell_type": "code",
   "execution_count": null,
   "metadata": {},
   "outputs": [],
   "source": [
    "# apple_apps2['Category'] = list(map(lambda x: x.replace('News','News & Magazines'), apple_apps2['Category']))"
   ]
  },
  {
   "cell_type": "code",
   "execution_count": null,
   "metadata": {},
   "outputs": [],
   "source": [
    "# apple_apps2['Category'] = list(map(lambda x: x.replace('Book','Books & Reference'), apple_apps2['Category']))"
   ]
  },
  {
   "cell_type": "code",
   "execution_count": null,
   "metadata": {},
   "outputs": [],
   "source": [
    "# apple_apps2['Category'] = list(map(lambda x: x.replace('Reference','Books & Reference'), apple_apps2['Category']))"
   ]
  },
  {
   "cell_type": "code",
   "execution_count": null,
   "metadata": {},
   "outputs": [],
   "source": [
    "# apple_apps2['Category'] = list(map(lambda x: x.replace('Social Networking','Social'), apple_apps2['Category']))"
   ]
  },
  {
   "cell_type": "code",
   "execution_count": null,
   "metadata": {},
   "outputs": [],
   "source": [
    "# apple_apps2['Category'] = list(map(lambda x: x.replace('Travel','Travel & Local'), apple_apps2['Category']))"
   ]
  },
  {
   "cell_type": "code",
   "execution_count": null,
   "metadata": {},
   "outputs": [],
   "source": [
    "# apple_apps2['Category'].unique()"
   ]
  },
  {
   "cell_type": "code",
   "execution_count": null,
   "metadata": {},
   "outputs": [],
   "source": [
    "# apple_apps2['Category'] = list(map(lambda x: x.replace('Books & Books & Reference','Books & Reference'), apple_apps2['Category']))"
   ]
  },
  {
   "cell_type": "code",
   "execution_count": null,
   "metadata": {},
   "outputs": [],
   "source": [
    "# apple_apps2['Category'].unique()"
   ]
  },
  {
   "cell_type": "code",
   "execution_count": null,
   "metadata": {},
   "outputs": [],
   "source": [
    "# apple_apps2.head()"
   ]
  },
  {
   "cell_type": "code",
   "execution_count": null,
   "metadata": {},
   "outputs": [],
   "source": [
    "# google_apps2.head()"
   ]
  },
  {
   "cell_type": "code",
   "execution_count": null,
   "metadata": {
    "scrolled": true
   },
   "outputs": [],
   "source": [
    "# google_apps2 = google_apps2.rename(columns = {'Current Ver': 'Current Version'})\n",
    "# google_apps2.head()"
   ]
  },
  {
   "cell_type": "code",
   "execution_count": null,
   "metadata": {},
   "outputs": [],
   "source": [
    "# import os"
   ]
  },
  {
   "cell_type": "code",
   "execution_count": null,
   "metadata": {},
   "outputs": [],
   "source": [
    "# output_google = os.path.join(\"source\",\"Google_Apps_Clean.csv\")\n",
    "# google_apps2.to_csv(output_google, index = False, header = True)"
   ]
  },
  {
   "cell_type": "code",
   "execution_count": null,
   "metadata": {},
   "outputs": [],
   "source": [
    "# output_apple = os.path.join('source','Apple_Apps_Clean.csv')\n",
    "# apple_apps2.to_csv(output_apple, index = False, header = True)"
   ]
  },
  {
   "cell_type": "code",
   "execution_count": null,
   "metadata": {},
   "outputs": [],
   "source": [
    "google_apps.head()"
   ]
  },
  {
   "cell_type": "code",
   "execution_count": null,
   "metadata": {},
   "outputs": [],
   "source": [
    "select_data1 = pd.DataFrame(google_apps, columns = ['App','Category','Installs','Size in KB'])\n",
    "select_data1.head()"
   ]
  },
  {
   "cell_type": "code",
   "execution_count": null,
   "metadata": {},
   "outputs": [],
   "source": [
    "select_data1 = select_data1.drop_duplicates()"
   ]
  },
  {
   "cell_type": "code",
   "execution_count": null,
   "metadata": {},
   "outputs": [],
   "source": [
    "select_data1_group1 = select_data1.groupby( by = select_data1['Installs'])\n",
    "check_this_out1 = select_data1_group1.mean()\n",
    "check_this_out1"
   ]
  },
  {
   "cell_type": "code",
   "execution_count": null,
   "metadata": {},
   "outputs": [],
   "source": [
    "x_axis = np.arange(len(check_this_out1.index))\n",
    "x_axis"
   ]
  },
  {
   "cell_type": "code",
   "execution_count": null,
   "metadata": {
    "scrolled": false
   },
   "outputs": [],
   "source": [
    "plt.figure(figsize = [10,10])\n",
    "#check_this_out1.plot.bar()\n",
    "plt.bar(x_axis, list(check_this_out1['Size in KB']))\n",
    "plt.title('File Size vs Number of Installs',fontsize = 25)\n",
    "plt.xlabel('Number of Installs',fontsize = 15)\n",
    "plt.ylabel('File Size (KB)',fontsize = 15)\n",
    "tick_locations = [value for value in x_axis]\n",
    "plt.xticks(tick_locations, check_this_out1.index, rotation = 'vertical')\n",
    "plt.show()"
   ]
  },
  {
   "cell_type": "code",
   "execution_count": null,
   "metadata": {},
   "outputs": [],
   "source": [
    "from scipy.stats import chisquare"
   ]
  },
  {
   "cell_type": "code",
   "execution_count": null,
   "metadata": {},
   "outputs": [],
   "source": [
    "chisquare(select_data1['Installs'])"
   ]
  },
  {
   "cell_type": "code",
   "execution_count": null,
   "metadata": {},
   "outputs": [],
   "source": [
    "select_data1['Size in KB'].mean()"
   ]
  },
  {
   "cell_type": "code",
   "execution_count": null,
   "metadata": {},
   "outputs": [],
   "source": [
    "select_data1_group1.count()['Size in KB']"
   ]
  },
  {
   "cell_type": "code",
   "execution_count": null,
   "metadata": {},
   "outputs": [],
   "source": [
    "select_data1.loc[select_data1['Installs'] == 1000000000]"
   ]
  },
  {
   "cell_type": "code",
   "execution_count": null,
   "metadata": {},
   "outputs": [],
   "source": [
    "select_data1_group2 = select_data1.loc[select_data1['Category']=='Game'].groupby(by = select_data1['Installs'])\n",
    "check_this_out2 = select_data1_group2.mean()\n",
    "check_this_out2"
   ]
  },
  {
   "cell_type": "code",
   "execution_count": null,
   "metadata": {},
   "outputs": [],
   "source": [
    "select_data1_group2.count()"
   ]
  },
  {
   "cell_type": "code",
   "execution_count": null,
   "metadata": {},
   "outputs": [],
   "source": [
    "x_axis = np.arange(len(check_this_out2.index))\n",
    "x_axis"
   ]
  },
  {
   "cell_type": "code",
   "execution_count": null,
   "metadata": {},
   "outputs": [],
   "source": [
    "plt.figure(figsize = [10,10])\n",
    "plt.bar(x_axis, list(check_this_out2['Size in KB']))\n",
    "plt.title('File Size vs Number of Installs for Games',fontsize = 25)\n",
    "plt.xlabel('Number of Installs',fontsize = 15)\n",
    "plt.ylabel('File Size (KB)',fontsize = 15)\n",
    "tick_locations = [value for value in x_axis]\n",
    "plt.xticks(tick_locations, check_this_out2.index, rotation = 'vertical')\n",
    "plt.show()"
   ]
  },
  {
   "cell_type": "code",
   "execution_count": null,
   "metadata": {},
   "outputs": [],
   "source": [
    "from scipy.stats import linregress\n",
    "line = linregress(check_this_out2.index, check_this_out2['Size in KB'])\n",
    "line"
   ]
  },
  {
   "cell_type": "code",
   "execution_count": null,
   "metadata": {},
   "outputs": [],
   "source": [
    "line[0]"
   ]
  },
  {
   "cell_type": "code",
   "execution_count": null,
   "metadata": {},
   "outputs": [],
   "source": [
    "log_axis = np.log10(check_this_out2.index)\n",
    "log_axis"
   ]
  },
  {
   "cell_type": "code",
   "execution_count": null,
   "metadata": {},
   "outputs": [],
   "source": [
    "plt.scatter(log_axis,check_this_out2['Size in KB'])\n",
    "plt.show()"
   ]
  },
  {
   "cell_type": "code",
   "execution_count": null,
   "metadata": {},
   "outputs": [],
   "source": [
    "line2 = linregress(log_axis, check_this_out2['Size in KB'])\n",
    "line2"
   ]
  },
  {
   "cell_type": "code",
   "execution_count": null,
   "metadata": {},
   "outputs": [],
   "source": [
    "line3 = linregress(check_this_out2['Size in KB'], log_axis)\n",
    "line3"
   ]
  },
  {
   "cell_type": "code",
   "execution_count": null,
   "metadata": {},
   "outputs": [],
   "source": [
    "plt.figure(figsize = [10,10])\n",
    "plt.scatter(check_this_out2['Size in KB'], log_axis)#,check_this_out2['Size in KB'])\n",
    "plt.title('Log(Installs) vs File Size', fontsize = 25)\n",
    "plt.xlabel('File Size in KB', fontsize = 15)\n",
    "plt.ylabel('Log(Installs)',fontsize = 15)\n",
    "#plt.plot()\n",
    "plt.show()"
   ]
  },
  {
   "cell_type": "code",
   "execution_count": null,
   "metadata": {},
   "outputs": [],
   "source": []
  },
  {
   "cell_type": "code",
   "execution_count": null,
   "metadata": {},
   "outputs": [],
   "source": []
  },
  {
   "cell_type": "code",
   "execution_count": null,
   "metadata": {},
   "outputs": [],
   "source": []
  },
  {
   "cell_type": "code",
   "execution_count": null,
   "metadata": {},
   "outputs": [],
   "source": [
    "#Barry end"
   ]
  },
  {
   "cell_type": "code",
   "execution_count": null,
   "metadata": {},
   "outputs": [],
   "source": [
    "#Sam start"
   ]
  },
  {
   "cell_type": "code",
   "execution_count": null,
   "metadata": {},
   "outputs": [],
   "source": [
    "#Sam end"
   ]
  },
  {
   "cell_type": "code",
   "execution_count": null,
   "metadata": {},
   "outputs": [],
   "source": [
    "#Abbas start"
   ]
  },
  {
   "cell_type": "code",
   "execution_count": null,
   "metadata": {},
   "outputs": [],
   "source": [
    "#Abbas end"
   ]
  },
  {
   "cell_type": "code",
   "execution_count": null,
   "metadata": {},
   "outputs": [],
   "source": [
    "#Farshad start"
   ]
  },
  {
   "cell_type": "code",
   "execution_count": null,
   "metadata": {},
   "outputs": [],
   "source": [
    "#Farshad end"
   ]
  }
 ],
 "metadata": {
  "kernelspec": {
   "display_name": "Python 3",
   "language": "python",
   "name": "python3"
  },
  "language_info": {
   "codemirror_mode": {
    "name": "ipython",
    "version": 3
   },
   "file_extension": ".py",
   "mimetype": "text/x-python",
   "name": "python",
   "nbconvert_exporter": "python",
   "pygments_lexer": "ipython3",
   "version": "3.6.9"
  }
 },
 "nbformat": 4,
 "nbformat_minor": 2
}
